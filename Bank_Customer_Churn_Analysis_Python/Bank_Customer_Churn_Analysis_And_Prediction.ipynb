{
 "cells": [
  {
   "cell_type": "markdown",
   "id": "748b736b",
   "metadata": {},
   "source": [
    "# Bank Customer Churn Analysis and Prediction"
   ]
  },
  {
   "cell_type": "markdown",
   "id": "bb4c84d2",
   "metadata": {},
   "source": [
    "The objective of this analysis is to investigate and gain insights into the major factors impacting the bank's customer churn rate. Subsequently, the study aims to provide recommendations to the bank, thereby facilitating a reduction in churn rate and improving customer retention.\n",
    "\n",
    "In addition, a machine learning model is deployed to accurately predict customer churn."
   ]
  },
  {
   "cell_type": "code",
   "execution_count": 134,
   "id": "ce77f0b5",
   "metadata": {},
   "outputs": [
    {
     "name": "stdout",
     "output_type": "stream",
     "text": [
      "packages imported successfully.\n"
     ]
    }
   ],
   "source": [
    "#Importing libraries\n",
    "import numpy as np\n",
    "import pandas as pd\n",
    "import matplotlib.pyplot as plt\n",
    "import seaborn as sns\n",
    "import plotly.express as px\n",
    "\n",
    "print(\"packages imported successfully.\")"
   ]
  },
  {
   "cell_type": "code",
   "execution_count": 135,
   "id": "bd5e0fb9",
   "metadata": {},
   "outputs": [
    {
     "data": {
      "text/html": [
       "<div>\n",
       "<style scoped>\n",
       "    .dataframe tbody tr th:only-of-type {\n",
       "        vertical-align: middle;\n",
       "    }\n",
       "\n",
       "    .dataframe tbody tr th {\n",
       "        vertical-align: top;\n",
       "    }\n",
       "\n",
       "    .dataframe thead th {\n",
       "        text-align: right;\n",
       "    }\n",
       "</style>\n",
       "<table border=\"1\" class=\"dataframe\">\n",
       "  <thead>\n",
       "    <tr style=\"text-align: right;\">\n",
       "      <th></th>\n",
       "      <th>RowNumber</th>\n",
       "      <th>CustomerId</th>\n",
       "      <th>Surname</th>\n",
       "      <th>CreditScore</th>\n",
       "      <th>Geography</th>\n",
       "      <th>Gender</th>\n",
       "      <th>Age</th>\n",
       "      <th>Tenure</th>\n",
       "      <th>Balance</th>\n",
       "      <th>NumOfProducts</th>\n",
       "      <th>HasCrCard</th>\n",
       "      <th>IsActiveMember</th>\n",
       "      <th>EstimatedSalary</th>\n",
       "      <th>Exited</th>\n",
       "      <th>Complain</th>\n",
       "      <th>Satisfaction Score</th>\n",
       "      <th>Card Type</th>\n",
       "      <th>Point Earned</th>\n",
       "    </tr>\n",
       "  </thead>\n",
       "  <tbody>\n",
       "    <tr>\n",
       "      <th>0</th>\n",
       "      <td>1</td>\n",
       "      <td>15634602</td>\n",
       "      <td>Hargrave</td>\n",
       "      <td>619</td>\n",
       "      <td>France</td>\n",
       "      <td>Female</td>\n",
       "      <td>42</td>\n",
       "      <td>2</td>\n",
       "      <td>0.00</td>\n",
       "      <td>1</td>\n",
       "      <td>1</td>\n",
       "      <td>1</td>\n",
       "      <td>101348.88</td>\n",
       "      <td>1</td>\n",
       "      <td>1</td>\n",
       "      <td>2</td>\n",
       "      <td>DIAMOND</td>\n",
       "      <td>464</td>\n",
       "    </tr>\n",
       "    <tr>\n",
       "      <th>1</th>\n",
       "      <td>2</td>\n",
       "      <td>15647311</td>\n",
       "      <td>Hill</td>\n",
       "      <td>608</td>\n",
       "      <td>Spain</td>\n",
       "      <td>Female</td>\n",
       "      <td>41</td>\n",
       "      <td>1</td>\n",
       "      <td>83807.86</td>\n",
       "      <td>1</td>\n",
       "      <td>0</td>\n",
       "      <td>1</td>\n",
       "      <td>112542.58</td>\n",
       "      <td>0</td>\n",
       "      <td>1</td>\n",
       "      <td>3</td>\n",
       "      <td>DIAMOND</td>\n",
       "      <td>456</td>\n",
       "    </tr>\n",
       "    <tr>\n",
       "      <th>2</th>\n",
       "      <td>3</td>\n",
       "      <td>15619304</td>\n",
       "      <td>Onio</td>\n",
       "      <td>502</td>\n",
       "      <td>France</td>\n",
       "      <td>Female</td>\n",
       "      <td>42</td>\n",
       "      <td>8</td>\n",
       "      <td>159660.80</td>\n",
       "      <td>3</td>\n",
       "      <td>1</td>\n",
       "      <td>0</td>\n",
       "      <td>113931.57</td>\n",
       "      <td>1</td>\n",
       "      <td>1</td>\n",
       "      <td>3</td>\n",
       "      <td>DIAMOND</td>\n",
       "      <td>377</td>\n",
       "    </tr>\n",
       "    <tr>\n",
       "      <th>3</th>\n",
       "      <td>4</td>\n",
       "      <td>15701354</td>\n",
       "      <td>Boni</td>\n",
       "      <td>699</td>\n",
       "      <td>France</td>\n",
       "      <td>Female</td>\n",
       "      <td>39</td>\n",
       "      <td>1</td>\n",
       "      <td>0.00</td>\n",
       "      <td>2</td>\n",
       "      <td>0</td>\n",
       "      <td>0</td>\n",
       "      <td>93826.63</td>\n",
       "      <td>0</td>\n",
       "      <td>0</td>\n",
       "      <td>5</td>\n",
       "      <td>GOLD</td>\n",
       "      <td>350</td>\n",
       "    </tr>\n",
       "    <tr>\n",
       "      <th>4</th>\n",
       "      <td>5</td>\n",
       "      <td>15737888</td>\n",
       "      <td>Mitchell</td>\n",
       "      <td>850</td>\n",
       "      <td>Spain</td>\n",
       "      <td>Female</td>\n",
       "      <td>43</td>\n",
       "      <td>2</td>\n",
       "      <td>125510.82</td>\n",
       "      <td>1</td>\n",
       "      <td>1</td>\n",
       "      <td>1</td>\n",
       "      <td>79084.10</td>\n",
       "      <td>0</td>\n",
       "      <td>0</td>\n",
       "      <td>5</td>\n",
       "      <td>GOLD</td>\n",
       "      <td>425</td>\n",
       "    </tr>\n",
       "  </tbody>\n",
       "</table>\n",
       "</div>"
      ],
      "text/plain": [
       "   RowNumber  CustomerId   Surname  CreditScore Geography  Gender  Age  \\\n",
       "0          1    15634602  Hargrave          619    France  Female   42   \n",
       "1          2    15647311      Hill          608     Spain  Female   41   \n",
       "2          3    15619304      Onio          502    France  Female   42   \n",
       "3          4    15701354      Boni          699    France  Female   39   \n",
       "4          5    15737888  Mitchell          850     Spain  Female   43   \n",
       "\n",
       "   Tenure    Balance  NumOfProducts  HasCrCard  IsActiveMember  \\\n",
       "0       2       0.00              1          1               1   \n",
       "1       1   83807.86              1          0               1   \n",
       "2       8  159660.80              3          1               0   \n",
       "3       1       0.00              2          0               0   \n",
       "4       2  125510.82              1          1               1   \n",
       "\n",
       "   EstimatedSalary  Exited  Complain  Satisfaction Score Card Type  \\\n",
       "0        101348.88       1         1                   2   DIAMOND   \n",
       "1        112542.58       0         1                   3   DIAMOND   \n",
       "2        113931.57       1         1                   3   DIAMOND   \n",
       "3         93826.63       0         0                   5      GOLD   \n",
       "4         79084.10       0         0                   5      GOLD   \n",
       "\n",
       "   Point Earned  \n",
       "0           464  \n",
       "1           456  \n",
       "2           377  \n",
       "3           350  \n",
       "4           425  "
      ]
     },
     "execution_count": 135,
     "metadata": {},
     "output_type": "execute_result"
    }
   ],
   "source": [
    "#Importing the dataset\n",
    "bank_data = pd.read_csv(\"Customer_Churn_Records.csv\")\n",
    "bank_data.head()"
   ]
  },
  {
   "cell_type": "code",
   "execution_count": 136,
   "id": "d9c37033",
   "metadata": {},
   "outputs": [
    {
     "data": {
      "text/html": [
       "<div>\n",
       "<style scoped>\n",
       "    .dataframe tbody tr th:only-of-type {\n",
       "        vertical-align: middle;\n",
       "    }\n",
       "\n",
       "    .dataframe tbody tr th {\n",
       "        vertical-align: top;\n",
       "    }\n",
       "\n",
       "    .dataframe thead th {\n",
       "        text-align: right;\n",
       "    }\n",
       "</style>\n",
       "<table border=\"1\" class=\"dataframe\">\n",
       "  <thead>\n",
       "    <tr style=\"text-align: right;\">\n",
       "      <th></th>\n",
       "      <th>RowNumber</th>\n",
       "      <th>CustomerId</th>\n",
       "      <th>Surname</th>\n",
       "      <th>CreditScore</th>\n",
       "      <th>Geography</th>\n",
       "      <th>Gender</th>\n",
       "      <th>Age</th>\n",
       "      <th>Tenure</th>\n",
       "      <th>Balance</th>\n",
       "      <th>NumOfProducts</th>\n",
       "      <th>HasCrCard</th>\n",
       "      <th>IsActiveMember</th>\n",
       "      <th>EstimatedSalary</th>\n",
       "      <th>Exited</th>\n",
       "      <th>Complain</th>\n",
       "      <th>Satisfaction Score</th>\n",
       "      <th>Card Type</th>\n",
       "      <th>Point Earned</th>\n",
       "    </tr>\n",
       "  </thead>\n",
       "  <tbody>\n",
       "    <tr>\n",
       "      <th>9995</th>\n",
       "      <td>9996</td>\n",
       "      <td>15606229</td>\n",
       "      <td>Obijiaku</td>\n",
       "      <td>771</td>\n",
       "      <td>France</td>\n",
       "      <td>Male</td>\n",
       "      <td>39</td>\n",
       "      <td>5</td>\n",
       "      <td>0.00</td>\n",
       "      <td>2</td>\n",
       "      <td>1</td>\n",
       "      <td>0</td>\n",
       "      <td>96270.64</td>\n",
       "      <td>0</td>\n",
       "      <td>0</td>\n",
       "      <td>1</td>\n",
       "      <td>DIAMOND</td>\n",
       "      <td>300</td>\n",
       "    </tr>\n",
       "    <tr>\n",
       "      <th>9996</th>\n",
       "      <td>9997</td>\n",
       "      <td>15569892</td>\n",
       "      <td>Johnstone</td>\n",
       "      <td>516</td>\n",
       "      <td>France</td>\n",
       "      <td>Male</td>\n",
       "      <td>35</td>\n",
       "      <td>10</td>\n",
       "      <td>57369.61</td>\n",
       "      <td>1</td>\n",
       "      <td>1</td>\n",
       "      <td>1</td>\n",
       "      <td>101699.77</td>\n",
       "      <td>0</td>\n",
       "      <td>0</td>\n",
       "      <td>5</td>\n",
       "      <td>PLATINUM</td>\n",
       "      <td>771</td>\n",
       "    </tr>\n",
       "    <tr>\n",
       "      <th>9997</th>\n",
       "      <td>9998</td>\n",
       "      <td>15584532</td>\n",
       "      <td>Liu</td>\n",
       "      <td>709</td>\n",
       "      <td>France</td>\n",
       "      <td>Female</td>\n",
       "      <td>36</td>\n",
       "      <td>7</td>\n",
       "      <td>0.00</td>\n",
       "      <td>1</td>\n",
       "      <td>0</td>\n",
       "      <td>1</td>\n",
       "      <td>42085.58</td>\n",
       "      <td>1</td>\n",
       "      <td>1</td>\n",
       "      <td>3</td>\n",
       "      <td>SILVER</td>\n",
       "      <td>564</td>\n",
       "    </tr>\n",
       "    <tr>\n",
       "      <th>9998</th>\n",
       "      <td>9999</td>\n",
       "      <td>15682355</td>\n",
       "      <td>Sabbatini</td>\n",
       "      <td>772</td>\n",
       "      <td>Germany</td>\n",
       "      <td>Male</td>\n",
       "      <td>42</td>\n",
       "      <td>3</td>\n",
       "      <td>75075.31</td>\n",
       "      <td>2</td>\n",
       "      <td>1</td>\n",
       "      <td>0</td>\n",
       "      <td>92888.52</td>\n",
       "      <td>1</td>\n",
       "      <td>1</td>\n",
       "      <td>2</td>\n",
       "      <td>GOLD</td>\n",
       "      <td>339</td>\n",
       "    </tr>\n",
       "    <tr>\n",
       "      <th>9999</th>\n",
       "      <td>10000</td>\n",
       "      <td>15628319</td>\n",
       "      <td>Walker</td>\n",
       "      <td>792</td>\n",
       "      <td>France</td>\n",
       "      <td>Female</td>\n",
       "      <td>28</td>\n",
       "      <td>4</td>\n",
       "      <td>130142.79</td>\n",
       "      <td>1</td>\n",
       "      <td>1</td>\n",
       "      <td>0</td>\n",
       "      <td>38190.78</td>\n",
       "      <td>0</td>\n",
       "      <td>0</td>\n",
       "      <td>3</td>\n",
       "      <td>DIAMOND</td>\n",
       "      <td>911</td>\n",
       "    </tr>\n",
       "  </tbody>\n",
       "</table>\n",
       "</div>"
      ],
      "text/plain": [
       "      RowNumber  CustomerId    Surname  CreditScore Geography  Gender  Age  \\\n",
       "9995       9996    15606229   Obijiaku          771    France    Male   39   \n",
       "9996       9997    15569892  Johnstone          516    France    Male   35   \n",
       "9997       9998    15584532        Liu          709    France  Female   36   \n",
       "9998       9999    15682355  Sabbatini          772   Germany    Male   42   \n",
       "9999      10000    15628319     Walker          792    France  Female   28   \n",
       "\n",
       "      Tenure    Balance  NumOfProducts  HasCrCard  IsActiveMember  \\\n",
       "9995       5       0.00              2          1               0   \n",
       "9996      10   57369.61              1          1               1   \n",
       "9997       7       0.00              1          0               1   \n",
       "9998       3   75075.31              2          1               0   \n",
       "9999       4  130142.79              1          1               0   \n",
       "\n",
       "      EstimatedSalary  Exited  Complain  Satisfaction Score Card Type  \\\n",
       "9995         96270.64       0         0                   1   DIAMOND   \n",
       "9996        101699.77       0         0                   5  PLATINUM   \n",
       "9997         42085.58       1         1                   3    SILVER   \n",
       "9998         92888.52       1         1                   2      GOLD   \n",
       "9999         38190.78       0         0                   3   DIAMOND   \n",
       "\n",
       "      Point Earned  \n",
       "9995           300  \n",
       "9996           771  \n",
       "9997           564  \n",
       "9998           339  \n",
       "9999           911  "
      ]
     },
     "execution_count": 136,
     "metadata": {},
     "output_type": "execute_result"
    }
   ],
   "source": [
    "bank_data.tail()"
   ]
  },
  {
   "cell_type": "code",
   "execution_count": 137,
   "id": "3e28821a",
   "metadata": {},
   "outputs": [
    {
     "data": {
      "text/plain": [
       "(10000, 18)"
      ]
     },
     "execution_count": 137,
     "metadata": {},
     "output_type": "execute_result"
    }
   ],
   "source": [
    "bank_data.shape"
   ]
  },
  {
   "cell_type": "code",
   "execution_count": 138,
   "id": "fb25fae9",
   "metadata": {},
   "outputs": [
    {
     "name": "stdout",
     "output_type": "stream",
     "text": [
      "<class 'pandas.core.frame.DataFrame'>\n",
      "RangeIndex: 10000 entries, 0 to 9999\n",
      "Data columns (total 18 columns):\n",
      " #   Column              Non-Null Count  Dtype  \n",
      "---  ------              --------------  -----  \n",
      " 0   RowNumber           10000 non-null  int64  \n",
      " 1   CustomerId          10000 non-null  int64  \n",
      " 2   Surname             10000 non-null  object \n",
      " 3   CreditScore         10000 non-null  int64  \n",
      " 4   Geography           10000 non-null  object \n",
      " 5   Gender              10000 non-null  object \n",
      " 6   Age                 10000 non-null  int64  \n",
      " 7   Tenure              10000 non-null  int64  \n",
      " 8   Balance             10000 non-null  float64\n",
      " 9   NumOfProducts       10000 non-null  int64  \n",
      " 10  HasCrCard           10000 non-null  int64  \n",
      " 11  IsActiveMember      10000 non-null  int64  \n",
      " 12  EstimatedSalary     10000 non-null  float64\n",
      " 13  Exited              10000 non-null  int64  \n",
      " 14  Complain            10000 non-null  int64  \n",
      " 15  Satisfaction Score  10000 non-null  int64  \n",
      " 16  Card Type           10000 non-null  object \n",
      " 17  Point Earned        10000 non-null  int64  \n",
      "dtypes: float64(2), int64(12), object(4)\n",
      "memory usage: 1.4+ MB\n"
     ]
    }
   ],
   "source": [
    "bank_data.info()"
   ]
  },
  {
   "cell_type": "code",
   "execution_count": 139,
   "id": "5b7dcc22",
   "metadata": {},
   "outputs": [
    {
     "data": {
      "text/html": [
       "<div>\n",
       "<style scoped>\n",
       "    .dataframe tbody tr th:only-of-type {\n",
       "        vertical-align: middle;\n",
       "    }\n",
       "\n",
       "    .dataframe tbody tr th {\n",
       "        vertical-align: top;\n",
       "    }\n",
       "\n",
       "    .dataframe thead th {\n",
       "        text-align: right;\n",
       "    }\n",
       "</style>\n",
       "<table border=\"1\" class=\"dataframe\">\n",
       "  <thead>\n",
       "    <tr style=\"text-align: right;\">\n",
       "      <th></th>\n",
       "      <th>RowNumber</th>\n",
       "      <th>CustomerId</th>\n",
       "      <th>CreditScore</th>\n",
       "      <th>Age</th>\n",
       "      <th>Tenure</th>\n",
       "      <th>Balance</th>\n",
       "      <th>NumOfProducts</th>\n",
       "      <th>HasCrCard</th>\n",
       "      <th>IsActiveMember</th>\n",
       "      <th>EstimatedSalary</th>\n",
       "      <th>Exited</th>\n",
       "      <th>Complain</th>\n",
       "      <th>Satisfaction Score</th>\n",
       "      <th>Point Earned</th>\n",
       "    </tr>\n",
       "  </thead>\n",
       "  <tbody>\n",
       "    <tr>\n",
       "      <th>count</th>\n",
       "      <td>10000.00000</td>\n",
       "      <td>1.000000e+04</td>\n",
       "      <td>10000.000000</td>\n",
       "      <td>10000.000000</td>\n",
       "      <td>10000.000000</td>\n",
       "      <td>10000.000000</td>\n",
       "      <td>10000.000000</td>\n",
       "      <td>10000.00000</td>\n",
       "      <td>10000.000000</td>\n",
       "      <td>10000.000000</td>\n",
       "      <td>10000.000000</td>\n",
       "      <td>10000.000000</td>\n",
       "      <td>10000.000000</td>\n",
       "      <td>10000.000000</td>\n",
       "    </tr>\n",
       "    <tr>\n",
       "      <th>mean</th>\n",
       "      <td>5000.50000</td>\n",
       "      <td>1.569094e+07</td>\n",
       "      <td>650.528800</td>\n",
       "      <td>38.921800</td>\n",
       "      <td>5.012800</td>\n",
       "      <td>76485.889288</td>\n",
       "      <td>1.530200</td>\n",
       "      <td>0.70550</td>\n",
       "      <td>0.515100</td>\n",
       "      <td>100090.239881</td>\n",
       "      <td>0.203800</td>\n",
       "      <td>0.204400</td>\n",
       "      <td>3.013800</td>\n",
       "      <td>606.515100</td>\n",
       "    </tr>\n",
       "    <tr>\n",
       "      <th>std</th>\n",
       "      <td>2886.89568</td>\n",
       "      <td>7.193619e+04</td>\n",
       "      <td>96.653299</td>\n",
       "      <td>10.487806</td>\n",
       "      <td>2.892174</td>\n",
       "      <td>62397.405202</td>\n",
       "      <td>0.581654</td>\n",
       "      <td>0.45584</td>\n",
       "      <td>0.499797</td>\n",
       "      <td>57510.492818</td>\n",
       "      <td>0.402842</td>\n",
       "      <td>0.403283</td>\n",
       "      <td>1.405919</td>\n",
       "      <td>225.924839</td>\n",
       "    </tr>\n",
       "    <tr>\n",
       "      <th>min</th>\n",
       "      <td>1.00000</td>\n",
       "      <td>1.556570e+07</td>\n",
       "      <td>350.000000</td>\n",
       "      <td>18.000000</td>\n",
       "      <td>0.000000</td>\n",
       "      <td>0.000000</td>\n",
       "      <td>1.000000</td>\n",
       "      <td>0.00000</td>\n",
       "      <td>0.000000</td>\n",
       "      <td>11.580000</td>\n",
       "      <td>0.000000</td>\n",
       "      <td>0.000000</td>\n",
       "      <td>1.000000</td>\n",
       "      <td>119.000000</td>\n",
       "    </tr>\n",
       "    <tr>\n",
       "      <th>25%</th>\n",
       "      <td>2500.75000</td>\n",
       "      <td>1.562853e+07</td>\n",
       "      <td>584.000000</td>\n",
       "      <td>32.000000</td>\n",
       "      <td>3.000000</td>\n",
       "      <td>0.000000</td>\n",
       "      <td>1.000000</td>\n",
       "      <td>0.00000</td>\n",
       "      <td>0.000000</td>\n",
       "      <td>51002.110000</td>\n",
       "      <td>0.000000</td>\n",
       "      <td>0.000000</td>\n",
       "      <td>2.000000</td>\n",
       "      <td>410.000000</td>\n",
       "    </tr>\n",
       "    <tr>\n",
       "      <th>50%</th>\n",
       "      <td>5000.50000</td>\n",
       "      <td>1.569074e+07</td>\n",
       "      <td>652.000000</td>\n",
       "      <td>37.000000</td>\n",
       "      <td>5.000000</td>\n",
       "      <td>97198.540000</td>\n",
       "      <td>1.000000</td>\n",
       "      <td>1.00000</td>\n",
       "      <td>1.000000</td>\n",
       "      <td>100193.915000</td>\n",
       "      <td>0.000000</td>\n",
       "      <td>0.000000</td>\n",
       "      <td>3.000000</td>\n",
       "      <td>605.000000</td>\n",
       "    </tr>\n",
       "    <tr>\n",
       "      <th>75%</th>\n",
       "      <td>7500.25000</td>\n",
       "      <td>1.575323e+07</td>\n",
       "      <td>718.000000</td>\n",
       "      <td>44.000000</td>\n",
       "      <td>7.000000</td>\n",
       "      <td>127644.240000</td>\n",
       "      <td>2.000000</td>\n",
       "      <td>1.00000</td>\n",
       "      <td>1.000000</td>\n",
       "      <td>149388.247500</td>\n",
       "      <td>0.000000</td>\n",
       "      <td>0.000000</td>\n",
       "      <td>4.000000</td>\n",
       "      <td>801.000000</td>\n",
       "    </tr>\n",
       "    <tr>\n",
       "      <th>max</th>\n",
       "      <td>10000.00000</td>\n",
       "      <td>1.581569e+07</td>\n",
       "      <td>850.000000</td>\n",
       "      <td>92.000000</td>\n",
       "      <td>10.000000</td>\n",
       "      <td>250898.090000</td>\n",
       "      <td>4.000000</td>\n",
       "      <td>1.00000</td>\n",
       "      <td>1.000000</td>\n",
       "      <td>199992.480000</td>\n",
       "      <td>1.000000</td>\n",
       "      <td>1.000000</td>\n",
       "      <td>5.000000</td>\n",
       "      <td>1000.000000</td>\n",
       "    </tr>\n",
       "  </tbody>\n",
       "</table>\n",
       "</div>"
      ],
      "text/plain": [
       "         RowNumber    CustomerId   CreditScore           Age        Tenure  \\\n",
       "count  10000.00000  1.000000e+04  10000.000000  10000.000000  10000.000000   \n",
       "mean    5000.50000  1.569094e+07    650.528800     38.921800      5.012800   \n",
       "std     2886.89568  7.193619e+04     96.653299     10.487806      2.892174   \n",
       "min        1.00000  1.556570e+07    350.000000     18.000000      0.000000   \n",
       "25%     2500.75000  1.562853e+07    584.000000     32.000000      3.000000   \n",
       "50%     5000.50000  1.569074e+07    652.000000     37.000000      5.000000   \n",
       "75%     7500.25000  1.575323e+07    718.000000     44.000000      7.000000   \n",
       "max    10000.00000  1.581569e+07    850.000000     92.000000     10.000000   \n",
       "\n",
       "             Balance  NumOfProducts    HasCrCard  IsActiveMember  \\\n",
       "count   10000.000000   10000.000000  10000.00000    10000.000000   \n",
       "mean    76485.889288       1.530200      0.70550        0.515100   \n",
       "std     62397.405202       0.581654      0.45584        0.499797   \n",
       "min         0.000000       1.000000      0.00000        0.000000   \n",
       "25%         0.000000       1.000000      0.00000        0.000000   \n",
       "50%     97198.540000       1.000000      1.00000        1.000000   \n",
       "75%    127644.240000       2.000000      1.00000        1.000000   \n",
       "max    250898.090000       4.000000      1.00000        1.000000   \n",
       "\n",
       "       EstimatedSalary        Exited      Complain  Satisfaction Score  \\\n",
       "count     10000.000000  10000.000000  10000.000000        10000.000000   \n",
       "mean     100090.239881      0.203800      0.204400            3.013800   \n",
       "std       57510.492818      0.402842      0.403283            1.405919   \n",
       "min          11.580000      0.000000      0.000000            1.000000   \n",
       "25%       51002.110000      0.000000      0.000000            2.000000   \n",
       "50%      100193.915000      0.000000      0.000000            3.000000   \n",
       "75%      149388.247500      0.000000      0.000000            4.000000   \n",
       "max      199992.480000      1.000000      1.000000            5.000000   \n",
       "\n",
       "       Point Earned  \n",
       "count  10000.000000  \n",
       "mean     606.515100  \n",
       "std      225.924839  \n",
       "min      119.000000  \n",
       "25%      410.000000  \n",
       "50%      605.000000  \n",
       "75%      801.000000  \n",
       "max     1000.000000  "
      ]
     },
     "execution_count": 139,
     "metadata": {},
     "output_type": "execute_result"
    }
   ],
   "source": [
    "bank_data.describe()"
   ]
  },
  {
   "cell_type": "code",
   "execution_count": 140,
   "id": "1f02c5de",
   "metadata": {},
   "outputs": [
    {
     "data": {
      "text/plain": [
       "RowNumber             0\n",
       "CustomerId            0\n",
       "Surname               0\n",
       "CreditScore           0\n",
       "Geography             0\n",
       "Gender                0\n",
       "Age                   0\n",
       "Tenure                0\n",
       "Balance               0\n",
       "NumOfProducts         0\n",
       "HasCrCard             0\n",
       "IsActiveMember        0\n",
       "EstimatedSalary       0\n",
       "Exited                0\n",
       "Complain              0\n",
       "Satisfaction Score    0\n",
       "Card Type             0\n",
       "Point Earned          0\n",
       "dtype: int64"
      ]
     },
     "execution_count": 140,
     "metadata": {},
     "output_type": "execute_result"
    }
   ],
   "source": [
    "bank_data.isnull().sum()"
   ]
  },
  {
   "cell_type": "code",
   "execution_count": 141,
   "id": "1db3dcc7",
   "metadata": {},
   "outputs": [
    {
     "data": {
      "text/plain": [
       "0"
      ]
     },
     "execution_count": 141,
     "metadata": {},
     "output_type": "execute_result"
    }
   ],
   "source": [
    "bank_data.duplicated().sum()"
   ]
  },
  {
   "cell_type": "markdown",
   "id": "6b00cfb8",
   "metadata": {},
   "source": [
    "There are no duplicates or null values."
   ]
  },
  {
   "cell_type": "code",
   "execution_count": 142,
   "id": "260ae52d",
   "metadata": {},
   "outputs": [
    {
     "data": {
      "text/html": [
       "<div>\n",
       "<style scoped>\n",
       "    .dataframe tbody tr th:only-of-type {\n",
       "        vertical-align: middle;\n",
       "    }\n",
       "\n",
       "    .dataframe tbody tr th {\n",
       "        vertical-align: top;\n",
       "    }\n",
       "\n",
       "    .dataframe thead th {\n",
       "        text-align: right;\n",
       "    }\n",
       "</style>\n",
       "<table border=\"1\" class=\"dataframe\">\n",
       "  <thead>\n",
       "    <tr style=\"text-align: right;\">\n",
       "      <th></th>\n",
       "      <th>CustomerId</th>\n",
       "      <th>CreditScore</th>\n",
       "      <th>Geography</th>\n",
       "      <th>Gender</th>\n",
       "      <th>Age</th>\n",
       "      <th>Tenure</th>\n",
       "      <th>Balance</th>\n",
       "      <th>NumOfProducts</th>\n",
       "      <th>HasCrCard</th>\n",
       "      <th>IsActiveMember</th>\n",
       "      <th>EstimatedSalary</th>\n",
       "      <th>Exited</th>\n",
       "      <th>Complain</th>\n",
       "      <th>Satisfaction Score</th>\n",
       "      <th>Card Type</th>\n",
       "      <th>Point Earned</th>\n",
       "    </tr>\n",
       "  </thead>\n",
       "  <tbody>\n",
       "    <tr>\n",
       "      <th>0</th>\n",
       "      <td>15634602</td>\n",
       "      <td>619</td>\n",
       "      <td>France</td>\n",
       "      <td>Female</td>\n",
       "      <td>42</td>\n",
       "      <td>2</td>\n",
       "      <td>0.00</td>\n",
       "      <td>1</td>\n",
       "      <td>1</td>\n",
       "      <td>1</td>\n",
       "      <td>101348.88</td>\n",
       "      <td>1</td>\n",
       "      <td>1</td>\n",
       "      <td>2</td>\n",
       "      <td>DIAMOND</td>\n",
       "      <td>464</td>\n",
       "    </tr>\n",
       "    <tr>\n",
       "      <th>1</th>\n",
       "      <td>15647311</td>\n",
       "      <td>608</td>\n",
       "      <td>Spain</td>\n",
       "      <td>Female</td>\n",
       "      <td>41</td>\n",
       "      <td>1</td>\n",
       "      <td>83807.86</td>\n",
       "      <td>1</td>\n",
       "      <td>0</td>\n",
       "      <td>1</td>\n",
       "      <td>112542.58</td>\n",
       "      <td>0</td>\n",
       "      <td>1</td>\n",
       "      <td>3</td>\n",
       "      <td>DIAMOND</td>\n",
       "      <td>456</td>\n",
       "    </tr>\n",
       "    <tr>\n",
       "      <th>2</th>\n",
       "      <td>15619304</td>\n",
       "      <td>502</td>\n",
       "      <td>France</td>\n",
       "      <td>Female</td>\n",
       "      <td>42</td>\n",
       "      <td>8</td>\n",
       "      <td>159660.80</td>\n",
       "      <td>3</td>\n",
       "      <td>1</td>\n",
       "      <td>0</td>\n",
       "      <td>113931.57</td>\n",
       "      <td>1</td>\n",
       "      <td>1</td>\n",
       "      <td>3</td>\n",
       "      <td>DIAMOND</td>\n",
       "      <td>377</td>\n",
       "    </tr>\n",
       "    <tr>\n",
       "      <th>3</th>\n",
       "      <td>15701354</td>\n",
       "      <td>699</td>\n",
       "      <td>France</td>\n",
       "      <td>Female</td>\n",
       "      <td>39</td>\n",
       "      <td>1</td>\n",
       "      <td>0.00</td>\n",
       "      <td>2</td>\n",
       "      <td>0</td>\n",
       "      <td>0</td>\n",
       "      <td>93826.63</td>\n",
       "      <td>0</td>\n",
       "      <td>0</td>\n",
       "      <td>5</td>\n",
       "      <td>GOLD</td>\n",
       "      <td>350</td>\n",
       "    </tr>\n",
       "    <tr>\n",
       "      <th>4</th>\n",
       "      <td>15737888</td>\n",
       "      <td>850</td>\n",
       "      <td>Spain</td>\n",
       "      <td>Female</td>\n",
       "      <td>43</td>\n",
       "      <td>2</td>\n",
       "      <td>125510.82</td>\n",
       "      <td>1</td>\n",
       "      <td>1</td>\n",
       "      <td>1</td>\n",
       "      <td>79084.10</td>\n",
       "      <td>0</td>\n",
       "      <td>0</td>\n",
       "      <td>5</td>\n",
       "      <td>GOLD</td>\n",
       "      <td>425</td>\n",
       "    </tr>\n",
       "  </tbody>\n",
       "</table>\n",
       "</div>"
      ],
      "text/plain": [
       "   CustomerId  CreditScore Geography  Gender  Age  Tenure    Balance  \\\n",
       "0    15634602          619    France  Female   42       2       0.00   \n",
       "1    15647311          608     Spain  Female   41       1   83807.86   \n",
       "2    15619304          502    France  Female   42       8  159660.80   \n",
       "3    15701354          699    France  Female   39       1       0.00   \n",
       "4    15737888          850     Spain  Female   43       2  125510.82   \n",
       "\n",
       "   NumOfProducts  HasCrCard  IsActiveMember  EstimatedSalary  Exited  \\\n",
       "0              1          1               1        101348.88       1   \n",
       "1              1          0               1        112542.58       0   \n",
       "2              3          1               0        113931.57       1   \n",
       "3              2          0               0         93826.63       0   \n",
       "4              1          1               1         79084.10       0   \n",
       "\n",
       "   Complain  Satisfaction Score Card Type  Point Earned  \n",
       "0         1                   2   DIAMOND           464  \n",
       "1         1                   3   DIAMOND           456  \n",
       "2         1                   3   DIAMOND           377  \n",
       "3         0                   5      GOLD           350  \n",
       "4         0                   5      GOLD           425  "
      ]
     },
     "execution_count": 142,
     "metadata": {},
     "output_type": "execute_result"
    }
   ],
   "source": [
    "#Dropping columns that are irrelavant for the analysis\n",
    "df = bank_data.drop(columns={'RowNumber', 'Surname'})\n",
    "df.head()"
   ]
  },
  {
   "cell_type": "markdown",
   "id": "8828c4b7",
   "metadata": {},
   "source": [
    "## Performing Exploratory Data Analysis"
   ]
  },
  {
   "cell_type": "code",
   "execution_count": 143,
   "id": "fb5f6c91",
   "metadata": {},
   "outputs": [
    {
     "data": {
      "image/png": "[encoded data removed]",
      "text/plain": [
       "<Figure size 1000x600 with 1 Axes>"
      ]
     },
     "metadata": {},
     "output_type": "display_data"
    }
   ],
   "source": [
    "# Plotting a bar chart for the geography attribute\n",
    "plt.figure(figsize =(10,6))\n",
    "geography_counts = df['Geography'].value_counts()\n",
    "plt.bar(geography_counts.index, geography_counts.values)\n",
    "plt.xlabel('Geographic Location')\n",
    "plt.ylabel('Number of Customers')\n",
    "plt.title('Distribution of Customers by Location')\n",
    "plt.show()"
   ]
  },
  {
   "cell_type": "markdown",
   "id": "de7609d2",
   "metadata": {},
   "source": [
    "Majority of the bank customers are from France."
   ]
  },
  {
   "cell_type": "code",
   "execution_count": 144,
   "id": "ed6f52a2",
   "metadata": {},
   "outputs": [
    {
     "data": {
      "image/png": "[encoded data removed]",
      "text/plain": [
       "<Figure size 1000x600 with 1 Axes>"
      ]
     },
     "metadata": {},
     "output_type": "display_data"
    }
   ],
   "source": [
    "# Plotting a histogram for the age distribution\n",
    "plt.figure(figsize =(10,6))\n",
    "plt.hist(df['Age'], bins=30)\n",
    "plt.xlabel('Age')\n",
    "plt.ylabel('Number of Customers')\n",
    "plt.title('Distribution of Customers by Age')\n",
    "plt.show()"
   ]
  },
  {
   "cell_type": "markdown",
   "id": "a536d896",
   "metadata": {},
   "source": [
    "Majority of the customers are between the ages 24-50. This is valid as people above the age of 24 start working and hence need a bank account."
   ]
  },
  {
   "cell_type": "code",
   "execution_count": 145,
   "id": "dd2dae5d",
   "metadata": {},
   "outputs": [
    {
     "data": {
      "text/plain": [
       "<Axes: xlabel='Card Type', ylabel='Number of Customers'>"
      ]
     },
     "execution_count": 145,
     "metadata": {},
     "output_type": "execute_result"
    },
    {
     "data": {
      "image/png": "[encoded data removed]",
      "text/plain": [
       "<Figure size 640x480 with 1 Axes>"
      ]
     },
     "metadata": {},
     "output_type": "display_data"
    }
   ],
   "source": [
    "# Plotting a bar chart for card type and active status\n",
    "active_card_member = df.groupby(['Card Type', 'IsActiveMember']).size().reset_index(name='Number of Customers')\n",
    "sns.barplot(data= active_card_member, x= 'Card Type', y = 'Number of Customers', hue= 'IsActiveMember')"
   ]
  },
  {
   "cell_type": "markdown",
   "id": "953231e9",
   "metadata": {},
   "source": [
    "This shows that only in the diamond category, there are more inactive members than active ones. Except for this, most members are active in other categories. This may be because the benefits offered in this card type are not what the customers are looking for."
   ]
  },
  {
   "cell_type": "code",
   "execution_count": 146,
   "id": "f169b58e",
   "metadata": {},
   "outputs": [
    {
     "data": {
      "image/png": "[encoded data removed]",
      "text/plain": [
       "<Figure size 1000x800 with 2 Axes>"
      ]
     },
     "metadata": {},
     "output_type": "display_data"
    }
   ],
   "source": [
    "num_attributes = df[['CreditScore', 'Age', 'Tenure', 'Balance', 'NumOfProducts', 'HasCrCard', 'IsActiveMember', 'EstimatedSalary', 'Exited', 'Satisfaction Score', 'Point Earned']]\n",
    "correlation_matrix = num_attributes.corr()\n",
    "\n",
    "#Plotting correlation matrix\n",
    "plt.figure(figsize =(10,8))\n",
    "sns.heatmap(correlation_matrix, annot=True, cmap='coolwarm', fmt='.2f')\n",
    "plt.title('Correlation Matrix')\n",
    "plt.show()"
   ]
  },
  {
   "cell_type": "markdown",
   "id": "e23b4673",
   "metadata": {},
   "source": [
    "The correlation matrix shows that there is not a good linear relationship between attributes. However, there is a relatively strong correlation between the churn rate and age as well as churn rate and account balance which will be explored further.\n",
    "* This could mean that there might be a combination of factors that are leading to the customer churn."
   ]
  },
  {
   "cell_type": "markdown",
   "id": "d40b4e7e",
   "metadata": {},
   "source": [
    "## Analyzing Customer Churn Rate"
   ]
  },
  {
   "cell_type": "code",
   "execution_count": 147,
   "id": "374d04f3",
   "metadata": {},
   "outputs": [
    {
     "data": {
      "text/html": [
       "<div>\n",
       "<style scoped>\n",
       "    .dataframe tbody tr th:only-of-type {\n",
       "        vertical-align: middle;\n",
       "    }\n",
       "\n",
       "    .dataframe tbody tr th {\n",
       "        vertical-align: top;\n",
       "    }\n",
       "\n",
       "    .dataframe thead th {\n",
       "        text-align: right;\n",
       "    }\n",
       "</style>\n",
       "<table border=\"1\" class=\"dataframe\">\n",
       "  <thead>\n",
       "    <tr style=\"text-align: right;\">\n",
       "      <th></th>\n",
       "      <th>CustomerId</th>\n",
       "      <th>CreditScore</th>\n",
       "      <th>Geography</th>\n",
       "      <th>Gender</th>\n",
       "      <th>Age</th>\n",
       "      <th>Tenure</th>\n",
       "      <th>Balance</th>\n",
       "      <th>NumOfProducts</th>\n",
       "      <th>HasCrCard</th>\n",
       "      <th>IsActiveMember</th>\n",
       "      <th>EstimatedSalary</th>\n",
       "      <th>Exited</th>\n",
       "      <th>Complain</th>\n",
       "      <th>Satisfaction Score</th>\n",
       "      <th>Card Type</th>\n",
       "      <th>Point Earned</th>\n",
       "    </tr>\n",
       "  </thead>\n",
       "  <tbody>\n",
       "    <tr>\n",
       "      <th>0</th>\n",
       "      <td>15634602</td>\n",
       "      <td>619</td>\n",
       "      <td>France</td>\n",
       "      <td>Female</td>\n",
       "      <td>42</td>\n",
       "      <td>2</td>\n",
       "      <td>0.00</td>\n",
       "      <td>1</td>\n",
       "      <td>1</td>\n",
       "      <td>1</td>\n",
       "      <td>101348.88</td>\n",
       "      <td>1</td>\n",
       "      <td>1</td>\n",
       "      <td>2</td>\n",
       "      <td>DIAMOND</td>\n",
       "      <td>464</td>\n",
       "    </tr>\n",
       "    <tr>\n",
       "      <th>1</th>\n",
       "      <td>15647311</td>\n",
       "      <td>608</td>\n",
       "      <td>Spain</td>\n",
       "      <td>Female</td>\n",
       "      <td>41</td>\n",
       "      <td>1</td>\n",
       "      <td>83807.86</td>\n",
       "      <td>1</td>\n",
       "      <td>0</td>\n",
       "      <td>1</td>\n",
       "      <td>112542.58</td>\n",
       "      <td>0</td>\n",
       "      <td>1</td>\n",
       "      <td>3</td>\n",
       "      <td>DIAMOND</td>\n",
       "      <td>456</td>\n",
       "    </tr>\n",
       "    <tr>\n",
       "      <th>2</th>\n",
       "      <td>15619304</td>\n",
       "      <td>502</td>\n",
       "      <td>France</td>\n",
       "      <td>Female</td>\n",
       "      <td>42</td>\n",
       "      <td>8</td>\n",
       "      <td>159660.80</td>\n",
       "      <td>3</td>\n",
       "      <td>1</td>\n",
       "      <td>0</td>\n",
       "      <td>113931.57</td>\n",
       "      <td>1</td>\n",
       "      <td>1</td>\n",
       "      <td>3</td>\n",
       "      <td>DIAMOND</td>\n",
       "      <td>377</td>\n",
       "    </tr>\n",
       "    <tr>\n",
       "      <th>3</th>\n",
       "      <td>15701354</td>\n",
       "      <td>699</td>\n",
       "      <td>France</td>\n",
       "      <td>Female</td>\n",
       "      <td>39</td>\n",
       "      <td>1</td>\n",
       "      <td>0.00</td>\n",
       "      <td>2</td>\n",
       "      <td>0</td>\n",
       "      <td>0</td>\n",
       "      <td>93826.63</td>\n",
       "      <td>0</td>\n",
       "      <td>0</td>\n",
       "      <td>5</td>\n",
       "      <td>GOLD</td>\n",
       "      <td>350</td>\n",
       "    </tr>\n",
       "    <tr>\n",
       "      <th>4</th>\n",
       "      <td>15737888</td>\n",
       "      <td>850</td>\n",
       "      <td>Spain</td>\n",
       "      <td>Female</td>\n",
       "      <td>43</td>\n",
       "      <td>2</td>\n",
       "      <td>125510.82</td>\n",
       "      <td>1</td>\n",
       "      <td>1</td>\n",
       "      <td>1</td>\n",
       "      <td>79084.10</td>\n",
       "      <td>0</td>\n",
       "      <td>0</td>\n",
       "      <td>5</td>\n",
       "      <td>GOLD</td>\n",
       "      <td>425</td>\n",
       "    </tr>\n",
       "  </tbody>\n",
       "</table>\n",
       "</div>"
      ],
      "text/plain": [
       "   CustomerId  CreditScore Geography  Gender  Age  Tenure    Balance  \\\n",
       "0    15634602          619    France  Female   42       2       0.00   \n",
       "1    15647311          608     Spain  Female   41       1   83807.86   \n",
       "2    15619304          502    France  Female   42       8  159660.80   \n",
       "3    15701354          699    France  Female   39       1       0.00   \n",
       "4    15737888          850     Spain  Female   43       2  125510.82   \n",
       "\n",
       "   NumOfProducts  HasCrCard  IsActiveMember  EstimatedSalary  Exited  \\\n",
       "0              1          1               1        101348.88       1   \n",
       "1              1          0               1        112542.58       0   \n",
       "2              3          1               0        113931.57       1   \n",
       "3              2          0               0         93826.63       0   \n",
       "4              1          1               1         79084.10       0   \n",
       "\n",
       "   Complain  Satisfaction Score Card Type  Point Earned  \n",
       "0         1                   2   DIAMOND           464  \n",
       "1         1                   3   DIAMOND           456  \n",
       "2         1                   3   DIAMOND           377  \n",
       "3         0                   5      GOLD           350  \n",
       "4         0                   5      GOLD           425  "
      ]
     },
     "execution_count": 147,
     "metadata": {},
     "output_type": "execute_result"
    }
   ],
   "source": [
    "#Replacing 'Yes' and 'No' with 0 and 1's\n",
    "df.Exited[df.Exited == 'No'] = 0\n",
    "df.Exited[df.Exited == 'Yes'] = 1\n",
    "df.head()"
   ]
  },
  {
   "cell_type": "code",
   "execution_count": 148,
   "id": "b804572c",
   "metadata": {},
   "outputs": [
    {
     "data": {
      "image/png": "[encoded data removed]",
      "text/plain": [
       "<Figure size 1000x600 with 1 Axes>"
      ]
     },
     "metadata": {},
     "output_type": "display_data"
    }
   ],
   "source": [
    "# Plotting the distribution of customers by churn status\n",
    "plt.figure(figsize =(10,6))\n",
    "churn_counts = df['Exited'].value_counts()\n",
    "plt.pie(churn_counts.values, autopct='%1.2f%%')\n",
    "plt.legend( loc = 'upper right', labels=churn_counts.index)\n",
    "plt.title('Distribution of Customers by Churn Status')\n",
    "plt.show()"
   ]
  },
  {
   "cell_type": "markdown",
   "id": "6fecae1e",
   "metadata": {},
   "source": [
    "This shows that 20% of the customers churned out. This could be due to various reasons that will be explored in the following analysis."
   ]
  },
  {
   "cell_type": "code",
   "execution_count": 149,
   "id": "593cb64e",
   "metadata": {
    "scrolled": false
   },
   "outputs": [
    {
     "data": {
      "text/plain": [
       "<Axes: xlabel='AgeGroup', ylabel='Number of Customers'>"
      ]
     },
     "execution_count": 149,
     "metadata": {},
     "output_type": "execute_result"
    },
    {
     "data": {
      "image/png": "[encoded data removed]",
      "text/plain": [
       "<Figure size 640x480 with 1 Axes>"
      ]
     },
     "metadata": {},
     "output_type": "display_data"
    }
   ],
   "source": [
    "# Plotting a bar chart for the age attribute\n",
    "# Creating age groups\n",
    "age_bins = [0, 20, 30, 40, 50, 60, 70]\n",
    "age_labels = ['0-19', '20-30', '31-40', '41-50', '51-60', '61+']\n",
    "df['AgeGroup'] = pd.cut(df['Age'], bins=age_bins, labels=age_labels)\n",
    "\n",
    "customer_count_age_exitstatus = df.groupby(['AgeGroup', 'Exited']).size().reset_index(name='Number of Customers')\n",
    "sns.barplot(data= customer_count_age_exitstatus, x= 'AgeGroup', y = 'Number of Customers', hue= 'Exited')"
   ]
  },
  {
   "cell_type": "markdown",
   "id": "536c98dd",
   "metadata": {},
   "source": [
    "Most of the customers that churned out are between the ages of 31 to 60 with the mojority being in the age group of 41-50. This could be due to various reasons such as:\n",
    "* Changes in banking needs: Most people in this age group may be relocating, buying homes, have changes in financical needs and goals and hence may need different services than the current ones offered.\n",
    "* Better offers in other banks: They may be attracted by other bank offers/promotions and services that may be more suitable to their needs now that they have higher incomes and more savings.\n",
    "* Unsatisfactory services: If the customers feel dissatisfied due to issues like poor customer service, inconvenient branch locations, irrelevant benefits or poor quality products/services, customers are more likely to switch banks."
   ]
  },
  {
   "cell_type": "code",
   "execution_count": 150,
   "id": "0ff40eea",
   "metadata": {
    "scrolled": false
   },
   "outputs": [
    {
     "data": {
      "image/png": "[encoded data removed]",
      "text/plain": [
       "<Figure size 1000x600 with 1 Axes>"
      ]
     },
     "metadata": {},
     "output_type": "display_data"
    }
   ],
   "source": [
    "# Plotting the churn rate by gender\n",
    "plt.figure(figsize =(10,6))\n",
    "churn_rate_gender = df.groupby('Gender')['Exited'].sum()\n",
    "plt.pie(churn_rate_gender.values, autopct='%1.2f%%')\n",
    "plt.legend( loc = 'upper right', labels=churn_rate_gender.index)\n",
    "plt.title('Churn Rate by Gender')\n",
    "plt.show()"
   ]
  },
  {
   "cell_type": "markdown",
   "id": "4b3af99f",
   "metadata": {},
   "source": [
    "More than 50% of the churned customers are females. \n",
    "* This could be due to various factors such as life transitions, inadequate trust and security offered by the bank, or dissatisfactory customer service experience."
   ]
  },
  {
   "cell_type": "code",
   "execution_count": 151,
   "id": "9c6588bd",
   "metadata": {},
   "outputs": [
    {
     "data": {
      "text/plain": [
       "<Axes: xlabel='Card Type', ylabel='Churn Rate'>"
      ]
     },
     "execution_count": 151,
     "metadata": {},
     "output_type": "execute_result"
    },
    {
     "data": {
      "image/png": "[encoded data removed]",
      "text/plain": [
       "<Figure size 1000x600 with 1 Axes>"
      ]
     },
     "metadata": {},
     "output_type": "display_data"
    }
   ],
   "source": [
    "# Plotting the churn rate by card type\n",
    "plt.figure(figsize =(10,6))\n",
    "churn_rate_cardtype = df.groupby(['Card Type','HasCrCard'])['Exited'].mean().reset_index(name='Churn Rate')\n",
    "sns.barplot(data= churn_rate_cardtype, x= 'Card Type', y = 'Churn Rate', hue= 'HasCrCard')"
   ]
  },
  {
   "cell_type": "markdown",
   "id": "56c6ef5f",
   "metadata": {},
   "source": [
    "We can see that the Diamond Card type has the highest churn rate of just over 20% and the churn rate is higher for customers who do not have credit cards. This could be due to various reasons duch as high membership fees, benefits that may not be very attractive to customers, etc."
   ]
  },
  {
   "cell_type": "code",
   "execution_count": 152,
   "id": "c0504fb3",
   "metadata": {
    "scrolled": false
   },
   "outputs": [
    {
     "data": {
      "application/vnd.plotly.v1+json": {
       "config": {
        "plotlyServerURL": "https://plot.ly"
       },
       "data": [
        {
         "hovertemplate": "Tenure=%{x}<br>Churn Rate=%{y}<extra></extra>",
         "legendgroup": "",
         "marker": {
          "color": "#636efa",
          "symbol": "circle"
         },
         "mode": "markers",
         "name": "",
         "orientation": "v",
         "showlegend": false,
         "type": "scatter",
         "x": [
          0,
          1,
          2,
          3,
          4,
          5,
          6,
          7,
          8,
          9,
          10
         ],
         "xaxis": "x",
         "y": [
          0.23002421307506055,
          0.22415458937198068,
          0.191793893129771,
          0.21110009910802774,
          0.20525783619817997,
          0.20652173913043478,
          0.20268872802481902,
          0.17217898832684825,
          0.19219512195121952,
          0.21747967479674796,
          0.20612244897959184
         ],
         "yaxis": "y"
        }
       ],
       "layout": {
        "legend": {
         "tracegroupgap": 0
        },
        "template": {
         "data": {
          "bar": [
           {
            "error_x": {
             "color": "#2a3f5f"
            },
            "error_y": {
             "color": "#2a3f5f"
            },
            "marker": {
             "line": {
              "color": "#E5ECF6",
              "width": 0.5
             },
             "pattern": {
              "fillmode": "overlay",
              "size": 10,
              "solidity": 0.2
             }
            },
            "type": "bar"
           }
          ],
          "barpolar": [
           {
            "marker": {
             "line": {
              "color": "#E5ECF6",
              "width": 0.5
             },
             "pattern": {
              "fillmode": "overlay",
              "size": 10,
              "solidity": 0.2
             }
            },
            "type": "barpolar"
           }
          ],
          "carpet": [
           {
            "aaxis": {
             "endlinecolor": "#2a3f5f",
             "gridcolor": "white",
             "linecolor": "white",
             "minorgridcolor": "white",
             "startlinecolor": "#2a3f5f"
            },
            "baxis": {
             "endlinecolor": "#2a3f5f",
             "gridcolor": "white",
             "linecolor": "white",
             "minorgridcolor": "white",
             "startlinecolor": "#2a3f5f"
            },
            "type": "carpet"
           }
          ],
          "choropleth": [
           {
            "colorbar": {
             "outlinewidth": 0,
             "ticks": ""
            },
            "type": "choropleth"
           }
          ],
          "contour": [
           {
            "colorbar": {
             "outlinewidth": 0,
             "ticks": ""
            },
            "colorscale": [
             [
              0,
              "#0d0887"
             ],
             [
              0.1111111111111111,
              "#46039f"
             ],
             [
              0.2222222222222222,
              "#7201a8"
             ],
             [
              0.3333333333333333,
              "#9c179e"
             ],
             [
              0.4444444444444444,
              "#bd3786"
             ],
             [
              0.5555555555555556,
              "#d8576b"
             ],
             [
              0.6666666666666666,
              "#ed7953"
             ],
             [
              0.7777777777777778,
              "#fb9f3a"
             ],
             [
              0.8888888888888888,
              "#fdca26"
             ],
             [
              1,
              "#f0f921"
             ]
            ],
            "type": "contour"
           }
          ],
          "contourcarpet": [
           {
            "colorbar": {
             "outlinewidth": 0,
             "ticks": ""
            },
            "type": "contourcarpet"
           }
          ],
          "heatmap": [
           {
            "colorbar": {
             "outlinewidth": 0,
             "ticks": ""
            },
            "colorscale": [
             [
              0,
              "#0d0887"
             ],
             [
              0.1111111111111111,
              "#46039f"
             ],
             [
              0.2222222222222222,
              "#7201a8"
             ],
             [
              0.3333333333333333,
              "#9c179e"
             ],
             [
              0.4444444444444444,
              "#bd3786"
             ],
             [
              0.5555555555555556,
              "#d8576b"
             ],
             [
              0.6666666666666666,
              "#ed7953"
             ],
             [
              0.7777777777777778,
              "#fb9f3a"
             ],
             [
              0.8888888888888888,
              "#fdca26"
             ],
             [
              1,
              "#f0f921"
             ]
            ],
            "type": "heatmap"
           }
          ],
          "heatmapgl": [
           {
            "colorbar": {
             "outlinewidth": 0,
             "ticks": ""
            },
            "colorscale": [
             [
              0,
              "#0d0887"
             ],
             [
              0.1111111111111111,
              "#46039f"
             ],
             [
              0.2222222222222222,
              "#7201a8"
             ],
             [
              0.3333333333333333,
              "#9c179e"
             ],
             [
              0.4444444444444444,
              "#bd3786"
             ],
             [
              0.5555555555555556,
              "#d8576b"
             ],
             [
              0.6666666666666666,
              "#ed7953"
             ],
             [
              0.7777777777777778,
              "#fb9f3a"
             ],
             [
              0.8888888888888888,
              "#fdca26"
             ],
             [
              1,
              "#f0f921"
             ]
            ],
            "type": "heatmapgl"
           }
          ],
          "histogram": [
           {
            "marker": {
             "pattern": {
              "fillmode": "overlay",
              "size": 10,
              "solidity": 0.2
             }
            },
            "type": "histogram"
           }
          ],
          "histogram2d": [
           {
            "colorbar": {
             "outlinewidth": 0,
             "ticks": ""
            },
            "colorscale": [
             [
              0,
              "#0d0887"
             ],
             [
              0.1111111111111111,
              "#46039f"
             ],
             [
              0.2222222222222222,
              "#7201a8"
             ],
             [
              0.3333333333333333,
              "#9c179e"
             ],
             [
              0.4444444444444444,
              "#bd3786"
             ],
             [
              0.5555555555555556,
              "#d8576b"
             ],
             [
              0.6666666666666666,
              "#ed7953"
             ],
             [
              0.7777777777777778,
              "#fb9f3a"
             ],
             [
              0.8888888888888888,
              "#fdca26"
             ],
             [
              1,
              "#f0f921"
             ]
            ],
            "type": "histogram2d"
           }
          ],
          "histogram2dcontour": [
           {
            "colorbar": {
             "outlinewidth": 0,
             "ticks": ""
            },
            "colorscale": [
             [
              0,
              "#0d0887"
             ],
             [
              0.1111111111111111,
              "#46039f"
             ],
             [
              0.2222222222222222,
              "#7201a8"
             ],
             [
              0.3333333333333333,
              "#9c179e"
             ],
             [
              0.4444444444444444,
              "#bd3786"
             ],
             [
              0.5555555555555556,
              "#d8576b"
             ],
             [
              0.6666666666666666,
              "#ed7953"
             ],
             [
              0.7777777777777778,
              "#fb9f3a"
             ],
             [
              0.8888888888888888,
              "#fdca26"
             ],
             [
              1,
              "#f0f921"
             ]
            ],
            "type": "histogram2dcontour"
           }
          ],
          "mesh3d": [
           {
            "colorbar": {
             "outlinewidth": 0,
             "ticks": ""
            },
            "type": "mesh3d"
           }
          ],
          "parcoords": [
           {
            "line": {
             "colorbar": {
              "outlinewidth": 0,
              "ticks": ""
             }
            },
            "type": "parcoords"
           }
          ],
          "pie": [
           {
            "automargin": true,
            "type": "pie"
           }
          ],
          "scatter": [
           {
            "fillpattern": {
             "fillmode": "overlay",
             "size": 10,
             "solidity": 0.2
            },
            "type": "scatter"
           }
          ],
          "scatter3d": [
           {
            "line": {
             "colorbar": {
              "outlinewidth": 0,
              "ticks": ""
             }
            },
            "marker": {
             "colorbar": {
              "outlinewidth": 0,
              "ticks": ""
             }
            },
            "type": "scatter3d"
           }
          ],
          "scattercarpet": [
           {
            "marker": {
             "colorbar": {
              "outlinewidth": 0,
              "ticks": ""
             }
            },
            "type": "scattercarpet"
           }
          ],
          "scattergeo": [
           {
            "marker": {
             "colorbar": {
              "outlinewidth": 0,
              "ticks": ""
             }
            },
            "type": "scattergeo"
           }
          ],
          "scattergl": [
           {
            "marker": {
             "colorbar": {
              "outlinewidth": 0,
              "ticks": ""
             }
            },
            "type": "scattergl"
           }
          ],
          "scattermapbox": [
           {
            "marker": {
             "colorbar": {
              "outlinewidth": 0,
              "ticks": ""
             }
            },
            "type": "scattermapbox"
           }
          ],
          "scatterpolar": [
           {
            "marker": {
             "colorbar": {
              "outlinewidth": 0,
              "ticks": ""
             }
            },
            "type": "scatterpolar"
           }
          ],
          "scatterpolargl": [
           {
            "marker": {
             "colorbar": {
              "outlinewidth": 0,
              "ticks": ""
             }
            },
            "type": "scatterpolargl"
           }
          ],
          "scatterternary": [
           {
            "marker": {
             "colorbar": {
              "outlinewidth": 0,
              "ticks": ""
             }
            },
            "type": "scatterternary"
           }
          ],
          "surface": [
           {
            "colorbar": {
             "outlinewidth": 0,
             "ticks": ""
            },
            "colorscale": [
             [
              0,
              "#0d0887"
             ],
             [
              0.1111111111111111,
              "#46039f"
             ],
             [
              0.2222222222222222,
              "#7201a8"
             ],
             [
              0.3333333333333333,
              "#9c179e"
             ],
             [
              0.4444444444444444,
              "#bd3786"
             ],
             [
              0.5555555555555556,
              "#d8576b"
             ],
             [
              0.6666666666666666,
              "#ed7953"
             ],
             [
              0.7777777777777778,
              "#fb9f3a"
             ],
             [
              0.8888888888888888,
              "#fdca26"
             ],
             [
              1,
              "#f0f921"
             ]
            ],
            "type": "surface"
           }
          ],
          "table": [
           {
            "cells": {
             "fill": {
              "color": "#EBF0F8"
             },
             "line": {
              "color": "white"
             }
            },
            "header": {
             "fill": {
              "color": "#C8D4E3"
             },
             "line": {
              "color": "white"
             }
            },
            "type": "table"
           }
          ]
         },
         "layout": {
          "annotationdefaults": {
           "arrowcolor": "#2a3f5f",
           "arrowhead": 0,
           "arrowwidth": 1
          },
          "autotypenumbers": "strict",
          "coloraxis": {
           "colorbar": {
            "outlinewidth": 0,
            "ticks": ""
           }
          },
          "colorscale": {
           "diverging": [
            [
             0,
             "#8e0152"
            ],
            [
             0.1,
             "#c51b7d"
            ],
            [
             0.2,
             "#de77ae"
            ],
            [
             0.3,
             "#f1b6da"
            ],
            [
             0.4,
             "#fde0ef"
            ],
            [
             0.5,
             "#f7f7f7"
            ],
            [
             0.6,
             "#e6f5d0"
            ],
            [
             0.7,
             "#b8e186"
            ],
            [
             0.8,
             "#7fbc41"
            ],
            [
             0.9,
             "#4d9221"
            ],
            [
             1,
             "#276419"
            ]
           ],
           "sequential": [
            [
             0,
             "#0d0887"
            ],
            [
             0.1111111111111111,
             "#46039f"
            ],
            [
             0.2222222222222222,
             "#7201a8"
            ],
            [
             0.3333333333333333,
             "#9c179e"
            ],
            [
             0.4444444444444444,
             "#bd3786"
            ],
            [
             0.5555555555555556,
             "#d8576b"
            ],
            [
             0.6666666666666666,
             "#ed7953"
            ],
            [
             0.7777777777777778,
             "#fb9f3a"
            ],
            [
             0.8888888888888888,
             "#fdca26"
            ],
            [
             1,
             "#f0f921"
            ]
           ],
           "sequentialminus": [
            [
             0,
             "#0d0887"
            ],
            [
             0.1111111111111111,
             "#46039f"
            ],
            [
             0.2222222222222222,
             "#7201a8"
            ],
            [
             0.3333333333333333,
             "#9c179e"
            ],
            [
             0.4444444444444444,
             "#bd3786"
            ],
            [
             0.5555555555555556,
             "#d8576b"
            ],
            [
             0.6666666666666666,
             "#ed7953"
            ],
            [
             0.7777777777777778,
             "#fb9f3a"
            ],
            [
             0.8888888888888888,
             "#fdca26"
            ],
            [
             1,
             "#f0f921"
            ]
           ]
          },
          "colorway": [
           "#636efa",
           "#EF553B",
           "#00cc96",
           "#ab63fa",
           "#FFA15A",
           "#19d3f3",
           "#FF6692",
           "#B6E880",
           "#FF97FF",
           "#FECB52"
          ],
          "font": {
           "color": "#2a3f5f"
          },
          "geo": {
           "bgcolor": "white",
           "lakecolor": "white",
           "landcolor": "#E5ECF6",
           "showlakes": true,
           "showland": true,
           "subunitcolor": "white"
          },
          "hoverlabel": {
           "align": "left"
          },
          "hovermode": "closest",
          "mapbox": {
           "style": "light"
          },
          "paper_bgcolor": "white",
          "plot_bgcolor": "#E5ECF6",
          "polar": {
           "angularaxis": {
            "gridcolor": "white",
            "linecolor": "white",
            "ticks": ""
           },
           "bgcolor": "#E5ECF6",
           "radialaxis": {
            "gridcolor": "white",
            "linecolor": "white",
            "ticks": ""
           }
          },
          "scene": {
           "xaxis": {
            "backgroundcolor": "#E5ECF6",
            "gridcolor": "white",
            "gridwidth": 2,
            "linecolor": "white",
            "showbackground": true,
            "ticks": "",
            "zerolinecolor": "white"
           },
           "yaxis": {
            "backgroundcolor": "#E5ECF6",
            "gridcolor": "white",
            "gridwidth": 2,
            "linecolor": "white",
            "showbackground": true,
            "ticks": "",
            "zerolinecolor": "white"
           },
           "zaxis": {
            "backgroundcolor": "#E5ECF6",
            "gridcolor": "white",
            "gridwidth": 2,
            "linecolor": "white",
            "showbackground": true,
            "ticks": "",
            "zerolinecolor": "white"
           }
          },
          "shapedefaults": {
           "line": {
            "color": "#2a3f5f"
           }
          },
          "ternary": {
           "aaxis": {
            "gridcolor": "white",
            "linecolor": "white",
            "ticks": ""
           },
           "baxis": {
            "gridcolor": "white",
            "linecolor": "white",
            "ticks": ""
           },
           "bgcolor": "#E5ECF6",
           "caxis": {
            "gridcolor": "white",
            "linecolor": "white",
            "ticks": ""
           }
          },
          "title": {
           "x": 0.05
          },
          "xaxis": {
           "automargin": true,
           "gridcolor": "white",
           "linecolor": "white",
           "ticks": "",
           "title": {
            "standoff": 15
           },
           "zerolinecolor": "white",
           "zerolinewidth": 2
          },
          "yaxis": {
           "automargin": true,
           "gridcolor": "white",
           "linecolor": "white",
           "ticks": "",
           "title": {
            "standoff": 15
           },
           "zerolinecolor": "white",
           "zerolinewidth": 2
          }
         }
        },
        "title": {
         "text": "Churn Rate by Tenure"
        },
        "xaxis": {
         "anchor": "y",
         "domain": [
          0,
          1
         ],
         "title": {
          "text": "Tenure"
         }
        },
        "yaxis": {
         "anchor": "x",
         "domain": [
          0,
          1
         ],
         "title": {
          "text": "Churn Rate"
         }
        }
       }
      },
      "text/html": [
       "<div>                            <div id=\"9996e3d1-ae8d-4f48-b87c-40f085aac6b4\" class=\"plotly-graph-div\" style=\"height:525px; width:100%;\"></div>            <script type=\"text/javascript\">                require([\"plotly\"], function(Plotly) {                    window.PLOTLYENV=window.PLOTLYENV || {};                                    if (document.getElementById(\"9996e3d1-ae8d-4f48-b87c-40f085aac6b4\")) {                    Plotly.newPlot(                        \"9996e3d1-ae8d-4f48-b87c-40f085aac6b4\",                        [{\"hovertemplate\":\"Tenure=%{x}\\u003cbr\\u003eChurn Rate=%{y}\\u003cextra\\u003e\\u003c\\u002fextra\\u003e\",\"legendgroup\":\"\",\"marker\":{\"color\":\"#636efa\",\"symbol\":\"circle\"},\"mode\":\"markers\",\"name\":\"\",\"orientation\":\"v\",\"showlegend\":false,\"x\":[0,1,2,3,4,5,6,7,8,9,10],\"xaxis\":\"x\",\"y\":[0.23002421307506055,0.22415458937198068,0.191793893129771,0.21110009910802774,0.20525783619817997,0.20652173913043478,0.20268872802481902,0.17217898832684825,0.19219512195121952,0.21747967479674796,0.20612244897959184],\"yaxis\":\"y\",\"type\":\"scatter\"}],                        {\"template\":{\"data\":{\"histogram2dcontour\":[{\"type\":\"histogram2dcontour\",\"colorbar\":{\"outlinewidth\":0,\"ticks\":\"\"},\"colorscale\":[[0.0,\"#0d0887\"],[0.1111111111111111,\"#46039f\"],[0.2222222222222222,\"#7201a8\"],[0.3333333333333333,\"#9c179e\"],[0.4444444444444444,\"#bd3786\"],[0.5555555555555556,\"#d8576b\"],[0.6666666666666666,\"#ed7953\"],[0.7777777777777778,\"#fb9f3a\"],[0.8888888888888888,\"#fdca26\"],[1.0,\"#f0f921\"]]}],\"choropleth\":[{\"type\":\"choropleth\",\"colorbar\":{\"outlinewidth\":0,\"ticks\":\"\"}}],\"histogram2d\":[{\"type\":\"histogram2d\",\"colorbar\":{\"outlinewidth\":0,\"ticks\":\"\"},\"colorscale\":[[0.0,\"#0d0887\"],[0.1111111111111111,\"#46039f\"],[0.2222222222222222,\"#7201a8\"],[0.3333333333333333,\"#9c179e\"],[0.4444444444444444,\"#bd3786\"],[0.5555555555555556,\"#d8576b\"],[0.6666666666666666,\"#ed7953\"],[0.7777777777777778,\"#fb9f3a\"],[0.8888888888888888,\"#fdca26\"],[1.0,\"#f0f921\"]]}],\"heatmap\":[{\"type\":\"heatmap\",\"colorbar\":{\"outlinewidth\":0,\"ticks\":\"\"},\"colorscale\":[[0.0,\"#0d0887\"],[0.1111111111111111,\"#46039f\"],[0.2222222222222222,\"#7201a8\"],[0.3333333333333333,\"#9c179e\"],[0.4444444444444444,\"#bd3786\"],[0.5555555555555556,\"#d8576b\"],[0.6666666666666666,\"#ed7953\"],[0.7777777777777778,\"#fb9f3a\"],[0.8888888888888888,\"#fdca26\"],[1.0,\"#f0f921\"]]}],\"heatmapgl\":[{\"type\":\"heatmapgl\",\"colorbar\":{\"outlinewidth\":0,\"ticks\":\"\"},\"colorscale\":[[0.0,\"#0d0887\"],[0.1111111111111111,\"#46039f\"],[0.2222222222222222,\"#7201a8\"],[0.3333333333333333,\"#9c179e\"],[0.4444444444444444,\"#bd3786\"],[0.5555555555555556,\"#d8576b\"],[0.6666666666666666,\"#ed7953\"],[0.7777777777777778,\"#fb9f3a\"],[0.8888888888888888,\"#fdca26\"],[1.0,\"#f0f921\"]]}],\"contourcarpet\":[{\"type\":\"contourcarpet\",\"colorbar\":{\"outlinewidth\":0,\"ticks\":\"\"}}],\"contour\":[{\"type\":\"contour\",\"colorbar\":{\"outlinewidth\":0,\"ticks\":\"\"},\"colorscale\":[[0.0,\"#0d0887\"],[0.1111111111111111,\"#46039f\"],[0.2222222222222222,\"#7201a8\"],[0.3333333333333333,\"#9c179e\"],[0.4444444444444444,\"#bd3786\"],[0.5555555555555556,\"#d8576b\"],[0.6666666666666666,\"#ed7953\"],[0.7777777777777778,\"#fb9f3a\"],[0.8888888888888888,\"#fdca26\"],[1.0,\"#f0f921\"]]}],\"surface\":[{\"type\":\"surface\",\"colorbar\":{\"outlinewidth\":0,\"ticks\":\"\"},\"colorscale\":[[0.0,\"#0d0887\"],[0.1111111111111111,\"#46039f\"],[0.2222222222222222,\"#7201a8\"],[0.3333333333333333,\"#9c179e\"],[0.4444444444444444,\"#bd3786\"],[0.5555555555555556,\"#d8576b\"],[0.6666666666666666,\"#ed7953\"],[0.7777777777777778,\"#fb9f3a\"],[0.8888888888888888,\"#fdca26\"],[1.0,\"#f0f921\"]]}],\"mesh3d\":[{\"type\":\"mesh3d\",\"colorbar\":{\"outlinewidth\":0,\"ticks\":\"\"}}],\"scatter\":[{\"fillpattern\":{\"fillmode\":\"overlay\",\"size\":10,\"solidity\":0.2},\"type\":\"scatter\"}],\"parcoords\":[{\"type\":\"parcoords\",\"line\":{\"colorbar\":{\"outlinewidth\":0,\"ticks\":\"\"}}}],\"scatterpolargl\":[{\"type\":\"scatterpolargl\",\"marker\":{\"colorbar\":{\"outlinewidth\":0,\"ticks\":\"\"}}}],\"bar\":[{\"error_x\":{\"color\":\"#2a3f5f\"},\"error_y\":{\"color\":\"#2a3f5f\"},\"marker\":{\"line\":{\"color\":\"#E5ECF6\",\"width\":0.5},\"pattern\":{\"fillmode\":\"overlay\",\"size\":10,\"solidity\":0.2}},\"type\":\"bar\"}],\"scattergeo\":[{\"type\":\"scattergeo\",\"marker\":{\"colorbar\":{\"outlinewidth\":0,\"ticks\":\"\"}}}],\"scatterpolar\":[{\"type\":\"scatterpolar\",\"marker\":{\"colorbar\":{\"outlinewidth\":0,\"ticks\":\"\"}}}],\"histogram\":[{\"marker\":{\"pattern\":{\"fillmode\":\"overlay\",\"size\":10,\"solidity\":0.2}},\"type\":\"histogram\"}],\"scattergl\":[{\"type\":\"scattergl\",\"marker\":{\"colorbar\":{\"outlinewidth\":0,\"ticks\":\"\"}}}],\"scatter3d\":[{\"type\":\"scatter3d\",\"line\":{\"colorbar\":{\"outlinewidth\":0,\"ticks\":\"\"}},\"marker\":{\"colorbar\":{\"outlinewidth\":0,\"ticks\":\"\"}}}],\"scattermapbox\":[{\"type\":\"scattermapbox\",\"marker\":{\"colorbar\":{\"outlinewidth\":0,\"ticks\":\"\"}}}],\"scatterternary\":[{\"type\":\"scatterternary\",\"marker\":{\"colorbar\":{\"outlinewidth\":0,\"ticks\":\"\"}}}],\"scattercarpet\":[{\"type\":\"scattercarpet\",\"marker\":{\"colorbar\":{\"outlinewidth\":0,\"ticks\":\"\"}}}],\"carpet\":[{\"aaxis\":{\"endlinecolor\":\"#2a3f5f\",\"gridcolor\":\"white\",\"linecolor\":\"white\",\"minorgridcolor\":\"white\",\"startlinecolor\":\"#2a3f5f\"},\"baxis\":{\"endlinecolor\":\"#2a3f5f\",\"gridcolor\":\"white\",\"linecolor\":\"white\",\"minorgridcolor\":\"white\",\"startlinecolor\":\"#2a3f5f\"},\"type\":\"carpet\"}],\"table\":[{\"cells\":{\"fill\":{\"color\":\"#EBF0F8\"},\"line\":{\"color\":\"white\"}},\"header\":{\"fill\":{\"color\":\"#C8D4E3\"},\"line\":{\"color\":\"white\"}},\"type\":\"table\"}],\"barpolar\":[{\"marker\":{\"line\":{\"color\":\"#E5ECF6\",\"width\":0.5},\"pattern\":{\"fillmode\":\"overlay\",\"size\":10,\"solidity\":0.2}},\"type\":\"barpolar\"}],\"pie\":[{\"automargin\":true,\"type\":\"pie\"}]},\"layout\":{\"autotypenumbers\":\"strict\",\"colorway\":[\"#636efa\",\"#EF553B\",\"#00cc96\",\"#ab63fa\",\"#FFA15A\",\"#19d3f3\",\"#FF6692\",\"#B6E880\",\"#FF97FF\",\"#FECB52\"],\"font\":{\"color\":\"#2a3f5f\"},\"hovermode\":\"closest\",\"hoverlabel\":{\"align\":\"left\"},\"paper_bgcolor\":\"white\",\"plot_bgcolor\":\"#E5ECF6\",\"polar\":{\"bgcolor\":\"#E5ECF6\",\"angularaxis\":{\"gridcolor\":\"white\",\"linecolor\":\"white\",\"ticks\":\"\"},\"radialaxis\":{\"gridcolor\":\"white\",\"linecolor\":\"white\",\"ticks\":\"\"}},\"ternary\":{\"bgcolor\":\"#E5ECF6\",\"aaxis\":{\"gridcolor\":\"white\",\"linecolor\":\"white\",\"ticks\":\"\"},\"baxis\":{\"gridcolor\":\"white\",\"linecolor\":\"white\",\"ticks\":\"\"},\"caxis\":{\"gridcolor\":\"white\",\"linecolor\":\"white\",\"ticks\":\"\"}},\"coloraxis\":{\"colorbar\":{\"outlinewidth\":0,\"ticks\":\"\"}},\"colorscale\":{\"sequential\":[[0.0,\"#0d0887\"],[0.1111111111111111,\"#46039f\"],[0.2222222222222222,\"#7201a8\"],[0.3333333333333333,\"#9c179e\"],[0.4444444444444444,\"#bd3786\"],[0.5555555555555556,\"#d8576b\"],[0.6666666666666666,\"#ed7953\"],[0.7777777777777778,\"#fb9f3a\"],[0.8888888888888888,\"#fdca26\"],[1.0,\"#f0f921\"]],\"sequentialminus\":[[0.0,\"#0d0887\"],[0.1111111111111111,\"#46039f\"],[0.2222222222222222,\"#7201a8\"],[0.3333333333333333,\"#9c179e\"],[0.4444444444444444,\"#bd3786\"],[0.5555555555555556,\"#d8576b\"],[0.6666666666666666,\"#ed7953\"],[0.7777777777777778,\"#fb9f3a\"],[0.8888888888888888,\"#fdca26\"],[1.0,\"#f0f921\"]],\"diverging\":[[0,\"#8e0152\"],[0.1,\"#c51b7d\"],[0.2,\"#de77ae\"],[0.3,\"#f1b6da\"],[0.4,\"#fde0ef\"],[0.5,\"#f7f7f7\"],[0.6,\"#e6f5d0\"],[0.7,\"#b8e186\"],[0.8,\"#7fbc41\"],[0.9,\"#4d9221\"],[1,\"#276419\"]]},\"xaxis\":{\"gridcolor\":\"white\",\"linecolor\":\"white\",\"ticks\":\"\",\"title\":{\"standoff\":15},\"zerolinecolor\":\"white\",\"automargin\":true,\"zerolinewidth\":2},\"yaxis\":{\"gridcolor\":\"white\",\"linecolor\":\"white\",\"ticks\":\"\",\"title\":{\"standoff\":15},\"zerolinecolor\":\"white\",\"automargin\":true,\"zerolinewidth\":2},\"scene\":{\"xaxis\":{\"backgroundcolor\":\"#E5ECF6\",\"gridcolor\":\"white\",\"linecolor\":\"white\",\"showbackground\":true,\"ticks\":\"\",\"zerolinecolor\":\"white\",\"gridwidth\":2},\"yaxis\":{\"backgroundcolor\":\"#E5ECF6\",\"gridcolor\":\"white\",\"linecolor\":\"white\",\"showbackground\":true,\"ticks\":\"\",\"zerolinecolor\":\"white\",\"gridwidth\":2},\"zaxis\":{\"backgroundcolor\":\"#E5ECF6\",\"gridcolor\":\"white\",\"linecolor\":\"white\",\"showbackground\":true,\"ticks\":\"\",\"zerolinecolor\":\"white\",\"gridwidth\":2}},\"shapedefaults\":{\"line\":{\"color\":\"#2a3f5f\"}},\"annotationdefaults\":{\"arrowcolor\":\"#2a3f5f\",\"arrowhead\":0,\"arrowwidth\":1},\"geo\":{\"bgcolor\":\"white\",\"landcolor\":\"#E5ECF6\",\"subunitcolor\":\"white\",\"showland\":true,\"showlakes\":true,\"lakecolor\":\"white\"},\"title\":{\"x\":0.05},\"mapbox\":{\"style\":\"light\"}}},\"xaxis\":{\"anchor\":\"y\",\"domain\":[0.0,1.0],\"title\":{\"text\":\"Tenure\"}},\"yaxis\":{\"anchor\":\"x\",\"domain\":[0.0,1.0],\"title\":{\"text\":\"Churn Rate\"}},\"legend\":{\"tracegroupgap\":0},\"title\":{\"text\":\"Churn Rate by Tenure\"}},                        {\"responsive\": true}                    ).then(function(){\n",
       "                            \n",
       "var gd = document.getElementById('9996e3d1-ae8d-4f48-b87c-40f085aac6b4');\n",
       "var x = new MutationObserver(function (mutations, observer) {{\n",
       "        var display = window.getComputedStyle(gd).display;\n",
       "        if (!display || display === 'none') {{\n",
       "            console.log([gd, 'removed!']);\n",
       "            Plotly.purge(gd);\n",
       "            observer.disconnect();\n",
       "        }}\n",
       "}});\n",
       "\n",
       "// Listen for the removal of the full notebook cells\n",
       "var notebookContainer = gd.closest('#notebook-container');\n",
       "if (notebookContainer) {{\n",
       "    x.observe(notebookContainer, {childList: true});\n",
       "}}\n",
       "\n",
       "// Listen for the clearing of the current output cell\n",
       "var outputEl = gd.closest('.output');\n",
       "if (outputEl) {{\n",
       "    x.observe(outputEl, {childList: true});\n",
       "}}\n",
       "\n",
       "                        })                };                });            </script>        </div>"
      ]
     },
     "metadata": {},
     "output_type": "display_data"
    }
   ],
   "source": [
    "#Plotting churn rate by tenure\n",
    "churn_rate_tenure = df.groupby(['Tenure'])['Exited'].mean().reset_index(name='Churn Rate')\n",
    "fig = px.scatter(churn_rate_tenure, x='Tenure', y='Churn Rate', title='Churn Rate by Tenure')\n",
    "fig.update_layout(xaxis_title='Tenure', yaxis_title='Churn Rate')\n",
    "fig.show()"
   ]
  },
  {
   "cell_type": "markdown",
   "id": "ac325971",
   "metadata": {},
   "source": [
    "There is no significant relationship between the tenure and churn rate. Hence, this proves that tenure is not the reason for the customer churn. However, retaining existing customers is always beneficial."
   ]
  },
  {
   "cell_type": "code",
   "execution_count": 153,
   "id": "082c9631",
   "metadata": {},
   "outputs": [
    {
     "data": {
      "image/png": "[encoded data removed]",
      "text/plain": [
       "<Figure size 1500x600 with 1 Axes>"
      ]
     },
     "metadata": {},
     "output_type": "display_data"
    }
   ],
   "source": [
    "# Plotting a bar chart for the points attribute\n",
    "plt.figure(figsize=(15, 6))\n",
    "\n",
    "# Creating points groups\n",
    "points_bins = [100, 200, 300, 400, 500, 600, 700, 800, 900, 1001]\n",
    "points_labels = ['100-200', '200-300', '300-400', '400-500', '500-600', '600-700', '700-800', '800-900', '900-1000']\n",
    "df['PointsGroup'] = pd.cut(df['Point Earned'], bins=points_bins, labels=points_labels)\n",
    "\n",
    "customer_count_points = df.groupby(['PointsGroup', 'Exited']).size().reset_index(name='Number of Customers')\n",
    "sns.barplot(data= customer_count_points, x= 'PointsGroup', y = 'Number of Customers', hue= 'Exited')\n",
    "\n",
    "plt.show()"
   ]
  },
  {
   "cell_type": "markdown",
   "id": "f4185b7b",
   "metadata": {},
   "source": [
    "The analysis shows that there is no significant difference in the churn rate with respect to the points earned."
   ]
  },
  {
   "cell_type": "code",
   "execution_count": 154,
   "id": "4364439f",
   "metadata": {
    "scrolled": false
   },
   "outputs": [
    {
     "data": {
      "image/png": "[encoded data removed]",
      "text/plain": [
       "<Figure size 1500x600 with 1 Axes>"
      ]
     },
     "metadata": {},
     "output_type": "display_data"
    }
   ],
   "source": [
    "#Plotting churn rate by account balance\n",
    "# Creating balance groups\n",
    "plt.figure(figsize=(15, 6))\n",
    "balance_bins = [-1, 25000,  50000, 75000, 100000, 125000, 150000, 175000, 200000, 225000, 250000, 275000]\n",
    "balance_bins.sort()\n",
    "balance_labels = ['0K-25K', '25K-50K', '50K-75K', '75K-100K', '100K-125K', '125K-150K', '150K-175K', '175K-200K', '200K-225K', '225K-250K', '250K-275K']\n",
    "df['BalanceGroup'] = pd.cut(df['Balance'], bins=balance_bins, labels=balance_labels)\n",
    "\n",
    "churn_rate_balance = df.groupby(['BalanceGroup', 'Exited']).size().reset_index(name='Number of Customers')\n",
    "sns.barplot(data= churn_rate_balance, x= 'BalanceGroup', y = 'Number of Customers', hue= 'Exited')\n",
    "plt.show()"
   ]
  },
  {
   "cell_type": "code",
   "execution_count": 155,
   "id": "419cb65d",
   "metadata": {},
   "outputs": [
    {
     "data": {
      "image/png": "[encoded data removed]",
      "text/plain": [
       "<Figure size 1500x600 with 1 Axes>"
      ]
     },
     "metadata": {},
     "output_type": "display_data"
    }
   ],
   "source": [
    "#Plotting churn rate by account balance\n",
    "# Creating balance groups\n",
    "plt.figure(figsize=(15, 6))\n",
    "balance_bins = [-1, 25000,  50000, 75000, 100000, 125000, 150000, 175000, 200000, 225000, 250000, 275000]\n",
    "balance_bins.sort()\n",
    "balance_labels = ['0K-25K', '25K-50K', '50K-75K', '75K-100K', '100K-125K', '125K-150K', '150K-175K', '175K-200K', '200K-225K', '225K-250K', '250K-275K']\n",
    "df['BalanceGroup'] = pd.cut(df['Balance'], bins=balance_bins, labels=balance_labels)\n",
    "\n",
    "churn_rate_balance = df.groupby(['BalanceGroup'])['Exited'].mean().reset_index(name='Churn Rate')\n",
    "\n",
    "plots = sns.barplot(data= churn_rate_balance, x= 'BalanceGroup', y = 'Churn Rate')\n",
    " \n",
    "# Iterating over the bars one-by-one\n",
    "for bar in plots.patches:\n",
    "    plots.annotate(format(bar.get_height(), '.2f'),\n",
    "                   (bar.get_x() + bar.get_width() / 2,\n",
    "                    bar.get_height()), ha='center', va='center', xytext=(0, 8),\n",
    "                   textcoords='offset points')\n",
    " \n",
    "# Setting the label for x-axis\n",
    "plt.xlabel(\"Account Balance Group\")\n",
    " \n",
    "# Setting the label for y-axis\n",
    "plt.ylabel(\"Churn Rate\")\n",
    " \n",
    "# Setting the title for the graph\n",
    "plt.title(\"Churn Rate by Account Balance\")\n",
    " \n",
    "# Finally showing the plot\n",
    "plt.show()"
   ]
  },
  {
   "cell_type": "markdown",
   "id": "ea6d2128",
   "metadata": {},
   "source": [
    "There is no significant correlation between the account balance and churn rate."
   ]
  },
  {
   "cell_type": "code",
   "execution_count": 156,
   "id": "88d1f6ef",
   "metadata": {},
   "outputs": [
    {
     "data": {
      "image/png": "[encoded data removed]",
      "text/plain": [
       "<Figure size 1500x600 with 1 Axes>"
      ]
     },
     "metadata": {},
     "output_type": "display_data"
    }
   ],
   "source": [
    "#Plotting churn rate by Salary\n",
    "# Creating salary groups\n",
    "plt.figure(figsize=(15, 6))\n",
    "salary_bins = [-1, 25000,  50000, 75000, 100000, 125000, 150000, 175000, 200000]\n",
    "salary_bins.sort()\n",
    "salary_labels = ['0K-25K', '25K-50K', '50K-75K', '75K-100K', '100K-125K', '125K-150K', '150K-175K', '175K-200K']\n",
    "df['SalaryGroup'] = pd.cut(df['EstimatedSalary'], bins=salary_bins, labels=salary_labels)\n",
    "\n",
    "churn_rate_salary = df.groupby(['SalaryGroup'])['Exited'].mean().reset_index(name='Churn Rate')\n",
    "\n",
    "plots = sns.barplot(data= churn_rate_salary, x= 'SalaryGroup', y = 'Churn Rate')\n",
    " \n",
    "# Iterating over the bars one-by-one\n",
    "for bar in plots.patches:\n",
    "    plots.annotate(format(bar.get_height(), '.2f'),\n",
    "                   (bar.get_x() + bar.get_width() / 2,\n",
    "                    bar.get_height()), ha='center', va='center', xytext=(0, 8),\n",
    "                   textcoords='offset points')\n",
    " \n",
    "# Setting the label for x-axis\n",
    "plt.xlabel(\"Salary Group\")\n",
    " \n",
    "# Setting the label for y-axis\n",
    "plt.ylabel(\"Churn Rate\")\n",
    " \n",
    "# Setting the title for the graph\n",
    "plt.title(\"Churn Rate by Estimated Salary\")\n",
    " \n",
    "# Finally showing the plot\n",
    "plt.show()"
   ]
  },
  {
   "cell_type": "markdown",
   "id": "94ebe0e6",
   "metadata": {},
   "source": [
    "From the plot, it is clear that there isn't a significant correlation between estimated salary and churn rate. However, there is a marginal upward trend in the churn rate as the salaries increase. In order to gain a more comprehensive understanding of this relationship, it is imperative for the bank to conduct further investigations by speaking to the customers."
   ]
  },
  {
   "cell_type": "code",
   "execution_count": 157,
   "id": "dce2d97c",
   "metadata": {},
   "outputs": [
    {
     "name": "stdout",
     "output_type": "stream",
     "text": [
      "DataFrame successfully exported to Updated_Customer_Churn_Records.xlsx.\n"
     ]
    }
   ],
   "source": [
    "#Exporting updated dataframe to Excel file\n",
    "import pandas as pd\n",
    "\n",
    "# Specifying the filename for the Excel file\n",
    "output_file = 'Updated_Customer_Churn_Records.xlsx'\n",
    "\n",
    "# Exporting the DataFrame to Excel\n",
    "df.to_excel(output_file, index=False)\n",
    "\n",
    "print(f\"DataFrame successfully exported to {output_file}.\")"
   ]
  },
  {
   "cell_type": "code",
   "execution_count": 158,
   "id": "6a583787",
   "metadata": {},
   "outputs": [
    {
     "data": {
      "image/png": "[encoded data removed]",
      "text/plain": [
       "<Figure size 1000x600 with 1 Axes>"
      ]
     },
     "metadata": {},
     "output_type": "display_data"
    }
   ],
   "source": [
    "# Calculating average credit score for each age group\n",
    "from scipy import stats\n",
    "\n",
    "\n",
    "age_segment = df[(df['Age'] >= 28) & (df['Age'] <= 60)]\n",
    "\n",
    "# Calculate z-scores for 'Age' column within the age_segment dataset\n",
    "z_scores = stats.zscore(age_segment['Age'])\n",
    "\n",
    "# Define a threshold for outliers (e.g., z-score greater than 3 or -3)\n",
    "threshold = 3\n",
    "\n",
    "# Filter out rows where absolute z-score is greater than the threshold\n",
    "age_segment_no_outliers = age_segment[abs(z_scores) <= threshold]\n",
    "\n",
    "avg_credit_score_by_age = age_segment_no_outliers.groupby('Age')['CreditScore'].mean().reset_index()\n",
    "\n",
    "# Create a line plot to show the average credit score across different age groups\n",
    "plt.figure(figsize=(10, 6))\n",
    "sns.lineplot(x='Age', y='CreditScore', data=avg_credit_score_by_age, marker='o')\n",
    "plt.title('Average Credit Score across Different Age Groups')\n",
    "plt.xlabel('Age')\n",
    "plt.ylabel('Average Credit Score')\n",
    "plt.xticks(rotation=45)\n",
    "plt.grid(True)\n",
    "plt.show()"
   ]
  },
  {
   "cell_type": "markdown",
   "id": "7884c448",
   "metadata": {},
   "source": [
    "The average credit score is highest among the age group of 56 and lowest at the age group of 54 according to this analysis, and in general has a downward trend. However, the reasons for this needs to be explored by the bank. "
   ]
  },
  {
   "cell_type": "code",
   "execution_count": 159,
   "id": "83efe0bf",
   "metadata": {},
   "outputs": [
    {
     "data": {
      "image/png": "[encoded data removed]",
      "text/plain": [
       "<Figure size 1000x600 with 1 Axes>"
      ]
     },
     "metadata": {},
     "output_type": "display_data"
    }
   ],
   "source": [
    "#Plotting churn rate by Location\n",
    "plt.figure(figsize =(10,6))\n",
    "churn_rate_location = df.groupby(['Geography'])['Exited'].mean().reset_index(name='Churn Rate')\n",
    "\n",
    "plots = sns.barplot(data= churn_rate_location, x= 'Geography', y = 'Churn Rate')\n",
    " \n",
    "# Iterating over the bars one-by-one\n",
    "for bar in plots.patches:\n",
    "    plots.annotate(format(bar.get_height(), '.2f'),\n",
    "                   (bar.get_x() + bar.get_width() / 2,\n",
    "                    bar.get_height()), ha='center', va='center', xytext=(0, 8),\n",
    "                   textcoords='offset points')\n",
    " \n",
    "# Setting the label for x-axis\n",
    "plt.xlabel(\"Location\")\n",
    " \n",
    "# Setting the label for y-axis\n",
    "plt.ylabel(\"Churn Rate\")\n",
    " \n",
    "# Setting the title for the graph\n",
    "plt.title(\"Churn Rate by Location\")\n",
    " \n",
    "# Finally showing the plot\n",
    "plt.show()"
   ]
  },
  {
   "cell_type": "markdown",
   "id": "fcbb9102",
   "metadata": {},
   "source": [
    "This shows that Germany has the highest churn rate. 32% of its customers have churned out. This could be due to the market condition in Germany or customer dissatisfaction."
   ]
  },
  {
   "cell_type": "code",
   "execution_count": 160,
   "id": "d39edc9b",
   "metadata": {},
   "outputs": [
    {
     "data": {
      "image/png": "[encoded data removed]",
      "text/plain": [
       "<Figure size 1000x800 with 16 Axes>"
      ]
     },
     "metadata": {},
     "output_type": "display_data"
    }
   ],
   "source": [
    "# Plotting histograms for numerical columns\n",
    "age_segment_no_outliers.hist(figsize=(10, 8))\n",
    "plt.tight_layout()\n",
    "plt.show()"
   ]
  },
  {
   "cell_type": "markdown",
   "id": "620e540d",
   "metadata": {},
   "source": [
    "## Building a prediction model"
   ]
  },
  {
   "cell_type": "code",
   "execution_count": 161,
   "id": "c7c98b16",
   "metadata": {},
   "outputs": [
    {
     "data": {
      "text/html": [
       "<div>\n",
       "<style scoped>\n",
       "    .dataframe tbody tr th:only-of-type {\n",
       "        vertical-align: middle;\n",
       "    }\n",
       "\n",
       "    .dataframe tbody tr th {\n",
       "        vertical-align: top;\n",
       "    }\n",
       "\n",
       "    .dataframe thead th {\n",
       "        text-align: right;\n",
       "    }\n",
       "</style>\n",
       "<table border=\"1\" class=\"dataframe\">\n",
       "  <thead>\n",
       "    <tr style=\"text-align: right;\">\n",
       "      <th></th>\n",
       "      <th>CustomerId</th>\n",
       "      <th>CreditScore</th>\n",
       "      <th>Geography</th>\n",
       "      <th>Gender</th>\n",
       "      <th>Age</th>\n",
       "      <th>Tenure</th>\n",
       "      <th>Balance</th>\n",
       "      <th>NumOfProducts</th>\n",
       "      <th>HasCrCard</th>\n",
       "      <th>IsActiveMember</th>\n",
       "      <th>EstimatedSalary</th>\n",
       "      <th>Exited</th>\n",
       "      <th>Complain</th>\n",
       "      <th>Satisfaction Score</th>\n",
       "      <th>Card Type</th>\n",
       "      <th>Point Earned</th>\n",
       "      <th>AgeGroup</th>\n",
       "      <th>PointsGroup</th>\n",
       "      <th>BalanceGroup</th>\n",
       "      <th>SalaryGroup</th>\n",
       "    </tr>\n",
       "  </thead>\n",
       "  <tbody>\n",
       "    <tr>\n",
       "      <th>0</th>\n",
       "      <td>15634602</td>\n",
       "      <td>619</td>\n",
       "      <td>France</td>\n",
       "      <td>Female</td>\n",
       "      <td>42</td>\n",
       "      <td>2</td>\n",
       "      <td>0.00</td>\n",
       "      <td>1</td>\n",
       "      <td>1</td>\n",
       "      <td>1</td>\n",
       "      <td>101348.88</td>\n",
       "      <td>1</td>\n",
       "      <td>1</td>\n",
       "      <td>2</td>\n",
       "      <td>DIAMOND</td>\n",
       "      <td>464</td>\n",
       "      <td>41-50</td>\n",
       "      <td>400-500</td>\n",
       "      <td>0K-25K</td>\n",
       "      <td>100K-125K</td>\n",
       "    </tr>\n",
       "    <tr>\n",
       "      <th>1</th>\n",
       "      <td>15647311</td>\n",
       "      <td>608</td>\n",
       "      <td>Spain</td>\n",
       "      <td>Female</td>\n",
       "      <td>41</td>\n",
       "      <td>1</td>\n",
       "      <td>83807.86</td>\n",
       "      <td>1</td>\n",
       "      <td>0</td>\n",
       "      <td>1</td>\n",
       "      <td>112542.58</td>\n",
       "      <td>0</td>\n",
       "      <td>1</td>\n",
       "      <td>3</td>\n",
       "      <td>DIAMOND</td>\n",
       "      <td>456</td>\n",
       "      <td>41-50</td>\n",
       "      <td>400-500</td>\n",
       "      <td>75K-100K</td>\n",
       "      <td>100K-125K</td>\n",
       "    </tr>\n",
       "    <tr>\n",
       "      <th>2</th>\n",
       "      <td>15619304</td>\n",
       "      <td>502</td>\n",
       "      <td>France</td>\n",
       "      <td>Female</td>\n",
       "      <td>42</td>\n",
       "      <td>8</td>\n",
       "      <td>159660.80</td>\n",
       "      <td>3</td>\n",
       "      <td>1</td>\n",
       "      <td>0</td>\n",
       "      <td>113931.57</td>\n",
       "      <td>1</td>\n",
       "      <td>1</td>\n",
       "      <td>3</td>\n",
       "      <td>DIAMOND</td>\n",
       "      <td>377</td>\n",
       "      <td>41-50</td>\n",
       "      <td>300-400</td>\n",
       "      <td>150K-175K</td>\n",
       "      <td>100K-125K</td>\n",
       "    </tr>\n",
       "    <tr>\n",
       "      <th>3</th>\n",
       "      <td>15701354</td>\n",
       "      <td>699</td>\n",
       "      <td>France</td>\n",
       "      <td>Female</td>\n",
       "      <td>39</td>\n",
       "      <td>1</td>\n",
       "      <td>0.00</td>\n",
       "      <td>2</td>\n",
       "      <td>0</td>\n",
       "      <td>0</td>\n",
       "      <td>93826.63</td>\n",
       "      <td>0</td>\n",
       "      <td>0</td>\n",
       "      <td>5</td>\n",
       "      <td>GOLD</td>\n",
       "      <td>350</td>\n",
       "      <td>31-40</td>\n",
       "      <td>300-400</td>\n",
       "      <td>0K-25K</td>\n",
       "      <td>75K-100K</td>\n",
       "    </tr>\n",
       "    <tr>\n",
       "      <th>4</th>\n",
       "      <td>15737888</td>\n",
       "      <td>850</td>\n",
       "      <td>Spain</td>\n",
       "      <td>Female</td>\n",
       "      <td>43</td>\n",
       "      <td>2</td>\n",
       "      <td>125510.82</td>\n",
       "      <td>1</td>\n",
       "      <td>1</td>\n",
       "      <td>1</td>\n",
       "      <td>79084.10</td>\n",
       "      <td>0</td>\n",
       "      <td>0</td>\n",
       "      <td>5</td>\n",
       "      <td>GOLD</td>\n",
       "      <td>425</td>\n",
       "      <td>41-50</td>\n",
       "      <td>400-500</td>\n",
       "      <td>125K-150K</td>\n",
       "      <td>75K-100K</td>\n",
       "    </tr>\n",
       "  </tbody>\n",
       "</table>\n",
       "</div>"
      ],
      "text/plain": [
       "   CustomerId  CreditScore Geography  Gender  Age  Tenure    Balance  \\\n",
       "0    15634602          619    France  Female   42       2       0.00   \n",
       "1    15647311          608     Spain  Female   41       1   83807.86   \n",
       "2    15619304          502    France  Female   42       8  159660.80   \n",
       "3    15701354          699    France  Female   39       1       0.00   \n",
       "4    15737888          850     Spain  Female   43       2  125510.82   \n",
       "\n",
       "   NumOfProducts  HasCrCard  IsActiveMember  EstimatedSalary  Exited  \\\n",
       "0              1          1               1        101348.88       1   \n",
       "1              1          0               1        112542.58       0   \n",
       "2              3          1               0        113931.57       1   \n",
       "3              2          0               0         93826.63       0   \n",
       "4              1          1               1         79084.10       0   \n",
       "\n",
       "   Complain  Satisfaction Score Card Type  Point Earned AgeGroup PointsGroup  \\\n",
       "0         1                   2   DIAMOND           464    41-50     400-500   \n",
       "1         1                   3   DIAMOND           456    41-50     400-500   \n",
       "2         1                   3   DIAMOND           377    41-50     300-400   \n",
       "3         0                   5      GOLD           350    31-40     300-400   \n",
       "4         0                   5      GOLD           425    41-50     400-500   \n",
       "\n",
       "  BalanceGroup SalaryGroup  \n",
       "0       0K-25K   100K-125K  \n",
       "1     75K-100K   100K-125K  \n",
       "2    150K-175K   100K-125K  \n",
       "3       0K-25K    75K-100K  \n",
       "4    125K-150K    75K-100K  "
      ]
     },
     "execution_count": 161,
     "metadata": {},
     "output_type": "execute_result"
    }
   ],
   "source": [
    "df.head()"
   ]
  },
  {
   "cell_type": "code",
   "execution_count": 162,
   "id": "cd022741",
   "metadata": {},
   "outputs": [
    {
     "name": "stdout",
     "output_type": "stream",
     "text": [
      "<class 'pandas.core.frame.DataFrame'>\n",
      "RangeIndex: 10000 entries, 0 to 9999\n",
      "Data columns (total 20 columns):\n",
      " #   Column              Non-Null Count  Dtype   \n",
      "---  ------              --------------  -----   \n",
      " 0   CustomerId          10000 non-null  int64   \n",
      " 1   CreditScore         10000 non-null  int64   \n",
      " 2   Geography           10000 non-null  object  \n",
      " 3   Gender              10000 non-null  object  \n",
      " 4   Age                 10000 non-null  int64   \n",
      " 5   Tenure              10000 non-null  int64   \n",
      " 6   Balance             10000 non-null  float64 \n",
      " 7   NumOfProducts       10000 non-null  int64   \n",
      " 8   HasCrCard           10000 non-null  int64   \n",
      " 9   IsActiveMember      10000 non-null  int64   \n",
      " 10  EstimatedSalary     10000 non-null  float64 \n",
      " 11  Exited              10000 non-null  int64   \n",
      " 12  Complain            10000 non-null  int64   \n",
      " 13  Satisfaction Score  10000 non-null  int64   \n",
      " 14  Card Type           10000 non-null  object  \n",
      " 15  Point Earned        10000 non-null  int64   \n",
      " 16  AgeGroup            9867 non-null   category\n",
      " 17  PointsGroup         10000 non-null  category\n",
      " 18  BalanceGroup        10000 non-null  category\n",
      " 19  SalaryGroup         10000 non-null  category\n",
      "dtypes: category(4), float64(2), int64(11), object(3)\n",
      "memory usage: 1.3+ MB\n"
     ]
    }
   ],
   "source": [
    "df.info()"
   ]
  },
  {
   "cell_type": "markdown",
   "id": "2fc7a65d",
   "metadata": {},
   "source": [
    "#### Performing data standardization"
   ]
  },
  {
   "cell_type": "code",
   "execution_count": 163,
   "id": "6bed857d",
   "metadata": {},
   "outputs": [
    {
     "data": {
      "text/html": [
       "<div>\n",
       "<style scoped>\n",
       "    .dataframe tbody tr th:only-of-type {\n",
       "        vertical-align: middle;\n",
       "    }\n",
       "\n",
       "    .dataframe tbody tr th {\n",
       "        vertical-align: top;\n",
       "    }\n",
       "\n",
       "    .dataframe thead th {\n",
       "        text-align: right;\n",
       "    }\n",
       "</style>\n",
       "<table border=\"1\" class=\"dataframe\">\n",
       "  <thead>\n",
       "    <tr style=\"text-align: right;\">\n",
       "      <th></th>\n",
       "      <th>CustomerId</th>\n",
       "      <th>Geography</th>\n",
       "      <th>Gender</th>\n",
       "      <th>Card Type</th>\n",
       "      <th>AgeGroup</th>\n",
       "      <th>PointsGroup</th>\n",
       "      <th>BalanceGroup</th>\n",
       "      <th>SalaryGroup</th>\n",
       "      <th>CreditScore</th>\n",
       "      <th>Age</th>\n",
       "      <th>Tenure</th>\n",
       "      <th>Balance</th>\n",
       "      <th>NumOfProducts</th>\n",
       "      <th>HasCrCard</th>\n",
       "      <th>IsActiveMember</th>\n",
       "      <th>EstimatedSalary</th>\n",
       "      <th>Exited</th>\n",
       "      <th>Complain</th>\n",
       "      <th>Satisfaction Score</th>\n",
       "      <th>Point Earned</th>\n",
       "    </tr>\n",
       "  </thead>\n",
       "  <tbody>\n",
       "    <tr>\n",
       "      <th>0</th>\n",
       "      <td>15634602</td>\n",
       "      <td>France</td>\n",
       "      <td>Female</td>\n",
       "      <td>DIAMOND</td>\n",
       "      <td>41-50</td>\n",
       "      <td>400-500</td>\n",
       "      <td>0K-25K</td>\n",
       "      <td>100K-125K</td>\n",
       "      <td>-0.326221</td>\n",
       "      <td>0.293517</td>\n",
       "      <td>-1.041760</td>\n",
       "      <td>-1.225848</td>\n",
       "      <td>-0.911583</td>\n",
       "      <td>0.646092</td>\n",
       "      <td>0.970243</td>\n",
       "      <td>0.021886</td>\n",
       "      <td>1.976555</td>\n",
       "      <td>1.972908</td>\n",
       "      <td>-0.721130</td>\n",
       "      <td>-0.630839</td>\n",
       "    </tr>\n",
       "    <tr>\n",
       "      <th>1</th>\n",
       "      <td>15647311</td>\n",
       "      <td>Spain</td>\n",
       "      <td>Female</td>\n",
       "      <td>DIAMOND</td>\n",
       "      <td>41-50</td>\n",
       "      <td>400-500</td>\n",
       "      <td>75K-100K</td>\n",
       "      <td>100K-125K</td>\n",
       "      <td>-0.440036</td>\n",
       "      <td>0.198164</td>\n",
       "      <td>-1.387538</td>\n",
       "      <td>0.117350</td>\n",
       "      <td>-0.911583</td>\n",
       "      <td>-1.547768</td>\n",
       "      <td>0.970243</td>\n",
       "      <td>0.216534</td>\n",
       "      <td>-0.505931</td>\n",
       "      <td>1.972908</td>\n",
       "      <td>-0.009816</td>\n",
       "      <td>-0.666251</td>\n",
       "    </tr>\n",
       "    <tr>\n",
       "      <th>2</th>\n",
       "      <td>15619304</td>\n",
       "      <td>France</td>\n",
       "      <td>Female</td>\n",
       "      <td>DIAMOND</td>\n",
       "      <td>41-50</td>\n",
       "      <td>300-400</td>\n",
       "      <td>150K-175K</td>\n",
       "      <td>100K-125K</td>\n",
       "      <td>-1.536794</td>\n",
       "      <td>0.293517</td>\n",
       "      <td>1.032908</td>\n",
       "      <td>1.333053</td>\n",
       "      <td>2.527057</td>\n",
       "      <td>0.646092</td>\n",
       "      <td>-1.030670</td>\n",
       "      <td>0.240687</td>\n",
       "      <td>1.976555</td>\n",
       "      <td>1.972908</td>\n",
       "      <td>-0.009816</td>\n",
       "      <td>-1.015942</td>\n",
       "    </tr>\n",
       "    <tr>\n",
       "      <th>3</th>\n",
       "      <td>15701354</td>\n",
       "      <td>France</td>\n",
       "      <td>Female</td>\n",
       "      <td>GOLD</td>\n",
       "      <td>31-40</td>\n",
       "      <td>300-400</td>\n",
       "      <td>0K-25K</td>\n",
       "      <td>75K-100K</td>\n",
       "      <td>0.501521</td>\n",
       "      <td>0.007457</td>\n",
       "      <td>-1.387538</td>\n",
       "      <td>-1.225848</td>\n",
       "      <td>0.807737</td>\n",
       "      <td>-1.547768</td>\n",
       "      <td>-1.030670</td>\n",
       "      <td>-0.108918</td>\n",
       "      <td>-0.505931</td>\n",
       "      <td>-0.506866</td>\n",
       "      <td>1.412812</td>\n",
       "      <td>-1.135457</td>\n",
       "    </tr>\n",
       "    <tr>\n",
       "      <th>4</th>\n",
       "      <td>15737888</td>\n",
       "      <td>Spain</td>\n",
       "      <td>Female</td>\n",
       "      <td>GOLD</td>\n",
       "      <td>41-50</td>\n",
       "      <td>400-500</td>\n",
       "      <td>125K-150K</td>\n",
       "      <td>75K-100K</td>\n",
       "      <td>2.063884</td>\n",
       "      <td>0.388871</td>\n",
       "      <td>-1.041760</td>\n",
       "      <td>0.785728</td>\n",
       "      <td>-0.911583</td>\n",
       "      <td>0.646092</td>\n",
       "      <td>0.970243</td>\n",
       "      <td>-0.365276</td>\n",
       "      <td>-0.505931</td>\n",
       "      <td>-0.506866</td>\n",
       "      <td>1.412812</td>\n",
       "      <td>-0.803472</td>\n",
       "    </tr>\n",
       "  </tbody>\n",
       "</table>\n",
       "</div>"
      ],
      "text/plain": [
       "   CustomerId Geography  Gender Card Type AgeGroup PointsGroup BalanceGroup  \\\n",
       "0    15634602    France  Female   DIAMOND    41-50     400-500       0K-25K   \n",
       "1    15647311     Spain  Female   DIAMOND    41-50     400-500     75K-100K   \n",
       "2    15619304    France  Female   DIAMOND    41-50     300-400    150K-175K   \n",
       "3    15701354    France  Female      GOLD    31-40     300-400       0K-25K   \n",
       "4    15737888     Spain  Female      GOLD    41-50     400-500    125K-150K   \n",
       "\n",
       "  SalaryGroup  CreditScore       Age    Tenure   Balance  NumOfProducts  \\\n",
       "0   100K-125K    -0.326221  0.293517 -1.041760 -1.225848      -0.911583   \n",
       "1   100K-125K    -0.440036  0.198164 -1.387538  0.117350      -0.911583   \n",
       "2   100K-125K    -1.536794  0.293517  1.032908  1.333053       2.527057   \n",
       "3    75K-100K     0.501521  0.007457 -1.387538 -1.225848       0.807737   \n",
       "4    75K-100K     2.063884  0.388871 -1.041760  0.785728      -0.911583   \n",
       "\n",
       "   HasCrCard  IsActiveMember  EstimatedSalary    Exited  Complain  \\\n",
       "0   0.646092        0.970243         0.021886  1.976555  1.972908   \n",
       "1  -1.547768        0.970243         0.216534 -0.505931  1.972908   \n",
       "2   0.646092       -1.030670         0.240687  1.976555  1.972908   \n",
       "3  -1.547768       -1.030670        -0.108918 -0.505931 -0.506866   \n",
       "4   0.646092        0.970243        -0.365276 -0.505931 -0.506866   \n",
       "\n",
       "   Satisfaction Score  Point Earned  \n",
       "0           -0.721130     -0.630839  \n",
       "1           -0.009816     -0.666251  \n",
       "2           -0.009816     -1.015942  \n",
       "3            1.412812     -1.135457  \n",
       "4            1.412812     -0.803472  "
      ]
     },
     "execution_count": 163,
     "metadata": {},
     "output_type": "execute_result"
    }
   ],
   "source": [
    "from sklearn.preprocessing import StandardScaler\n",
    "\n",
    "# Excluding CustomerId from the list of numeric columns\n",
    "numeric_columns = df.select_dtypes(include=['int64', 'float64']).columns\n",
    "numeric_columns = numeric_columns.drop('CustomerId')\n",
    "\n",
    "# Extracting non-numeric columns from the original DataFrame\n",
    "non_numeric_columns = df.select_dtypes(exclude=['int64', 'float64']).columns\n",
    "data_non_numeric = df[non_numeric_columns]\n",
    "\n",
    "# Extracting the CustomerId column\n",
    "customer_id_column = df['CustomerId']\n",
    "\n",
    "# Extracting and standardizing numeric columns (excluding CustomerId)\n",
    "data_numeric = df[numeric_columns]\n",
    "scaler = StandardScaler()\n",
    "data_scaled = scaler.fit_transform(data_numeric)\n",
    "data_scaled = pd.DataFrame(data_scaled, columns=numeric_columns)\n",
    "\n",
    "# Concatenating the CustomerId column, standardized numeric columns, and non-numeric columns\n",
    "df_std = pd.concat([customer_id_column, data_non_numeric, data_scaled], axis=1)\n",
    "\n",
    "df_std.head()"
   ]
  },
  {
   "cell_type": "code",
   "execution_count": 164,
   "id": "1cece702",
   "metadata": {},
   "outputs": [
    {
     "data": {
      "text/plain": [
       "(10000, 20)"
      ]
     },
     "execution_count": 164,
     "metadata": {},
     "output_type": "execute_result"
    }
   ],
   "source": [
    "df_std.shape"
   ]
  },
  {
   "cell_type": "markdown",
   "id": "1dcf33b4",
   "metadata": {},
   "source": [
    "#### Performing feature selection"
   ]
  },
  {
   "cell_type": "code",
   "execution_count": 165,
   "id": "cc08f701",
   "metadata": {},
   "outputs": [
    {
     "data": {
      "text/plain": [
       "Index(['CustomerId', 'Geography', 'Gender', 'Card Type', 'AgeGroup',\n",
       "       'PointsGroup', 'BalanceGroup', 'SalaryGroup', 'CreditScore', 'Age',\n",
       "       'Tenure', 'Balance', 'NumOfProducts', 'HasCrCard', 'IsActiveMember',\n",
       "       'EstimatedSalary', 'Exited', 'Complain', 'Satisfaction Score',\n",
       "       'Point Earned'],\n",
       "      dtype='object')"
      ]
     },
     "execution_count": 165,
     "metadata": {},
     "output_type": "execute_result"
    }
   ],
   "source": [
    "df_std.columns"
   ]
  },
  {
   "cell_type": "code",
   "execution_count": 166,
   "id": "338bf85d",
   "metadata": {},
   "outputs": [
    {
     "data": {
      "text/html": [
       "<div>\n",
       "<style scoped>\n",
       "    .dataframe tbody tr th:only-of-type {\n",
       "        vertical-align: middle;\n",
       "    }\n",
       "\n",
       "    .dataframe tbody tr th {\n",
       "        vertical-align: top;\n",
       "    }\n",
       "\n",
       "    .dataframe thead th {\n",
       "        text-align: right;\n",
       "    }\n",
       "</style>\n",
       "<table border=\"1\" class=\"dataframe\">\n",
       "  <thead>\n",
       "    <tr style=\"text-align: right;\">\n",
       "      <th></th>\n",
       "      <th>CustomerId</th>\n",
       "      <th>Geography</th>\n",
       "      <th>Gender</th>\n",
       "      <th>Card Type</th>\n",
       "      <th>CreditScore</th>\n",
       "      <th>Age</th>\n",
       "      <th>Tenure</th>\n",
       "      <th>Balance</th>\n",
       "      <th>NumOfProducts</th>\n",
       "      <th>HasCrCard</th>\n",
       "      <th>IsActiveMember</th>\n",
       "      <th>EstimatedSalary</th>\n",
       "      <th>Exited</th>\n",
       "      <th>Complain</th>\n",
       "      <th>Satisfaction Score</th>\n",
       "      <th>Point Earned</th>\n",
       "    </tr>\n",
       "  </thead>\n",
       "  <tbody>\n",
       "    <tr>\n",
       "      <th>0</th>\n",
       "      <td>15634602</td>\n",
       "      <td>France</td>\n",
       "      <td>Female</td>\n",
       "      <td>DIAMOND</td>\n",
       "      <td>-0.326221</td>\n",
       "      <td>0.293517</td>\n",
       "      <td>-1.041760</td>\n",
       "      <td>-1.225848</td>\n",
       "      <td>-0.911583</td>\n",
       "      <td>0.646092</td>\n",
       "      <td>0.970243</td>\n",
       "      <td>0.021886</td>\n",
       "      <td>1.976555</td>\n",
       "      <td>1.972908</td>\n",
       "      <td>-0.721130</td>\n",
       "      <td>-0.630839</td>\n",
       "    </tr>\n",
       "    <tr>\n",
       "      <th>1</th>\n",
       "      <td>15647311</td>\n",
       "      <td>Spain</td>\n",
       "      <td>Female</td>\n",
       "      <td>DIAMOND</td>\n",
       "      <td>-0.440036</td>\n",
       "      <td>0.198164</td>\n",
       "      <td>-1.387538</td>\n",
       "      <td>0.117350</td>\n",
       "      <td>-0.911583</td>\n",
       "      <td>-1.547768</td>\n",
       "      <td>0.970243</td>\n",
       "      <td>0.216534</td>\n",
       "      <td>-0.505931</td>\n",
       "      <td>1.972908</td>\n",
       "      <td>-0.009816</td>\n",
       "      <td>-0.666251</td>\n",
       "    </tr>\n",
       "    <tr>\n",
       "      <th>2</th>\n",
       "      <td>15619304</td>\n",
       "      <td>France</td>\n",
       "      <td>Female</td>\n",
       "      <td>DIAMOND</td>\n",
       "      <td>-1.536794</td>\n",
       "      <td>0.293517</td>\n",
       "      <td>1.032908</td>\n",
       "      <td>1.333053</td>\n",
       "      <td>2.527057</td>\n",
       "      <td>0.646092</td>\n",
       "      <td>-1.030670</td>\n",
       "      <td>0.240687</td>\n",
       "      <td>1.976555</td>\n",
       "      <td>1.972908</td>\n",
       "      <td>-0.009816</td>\n",
       "      <td>-1.015942</td>\n",
       "    </tr>\n",
       "    <tr>\n",
       "      <th>3</th>\n",
       "      <td>15701354</td>\n",
       "      <td>France</td>\n",
       "      <td>Female</td>\n",
       "      <td>GOLD</td>\n",
       "      <td>0.501521</td>\n",
       "      <td>0.007457</td>\n",
       "      <td>-1.387538</td>\n",
       "      <td>-1.225848</td>\n",
       "      <td>0.807737</td>\n",
       "      <td>-1.547768</td>\n",
       "      <td>-1.030670</td>\n",
       "      <td>-0.108918</td>\n",
       "      <td>-0.505931</td>\n",
       "      <td>-0.506866</td>\n",
       "      <td>1.412812</td>\n",
       "      <td>-1.135457</td>\n",
       "    </tr>\n",
       "    <tr>\n",
       "      <th>4</th>\n",
       "      <td>15737888</td>\n",
       "      <td>Spain</td>\n",
       "      <td>Female</td>\n",
       "      <td>GOLD</td>\n",
       "      <td>2.063884</td>\n",
       "      <td>0.388871</td>\n",
       "      <td>-1.041760</td>\n",
       "      <td>0.785728</td>\n",
       "      <td>-0.911583</td>\n",
       "      <td>0.646092</td>\n",
       "      <td>0.970243</td>\n",
       "      <td>-0.365276</td>\n",
       "      <td>-0.505931</td>\n",
       "      <td>-0.506866</td>\n",
       "      <td>1.412812</td>\n",
       "      <td>-0.803472</td>\n",
       "    </tr>\n",
       "  </tbody>\n",
       "</table>\n",
       "</div>"
      ],
      "text/plain": [
       "   CustomerId Geography  Gender Card Type  CreditScore       Age    Tenure  \\\n",
       "0    15634602    France  Female   DIAMOND    -0.326221  0.293517 -1.041760   \n",
       "1    15647311     Spain  Female   DIAMOND    -0.440036  0.198164 -1.387538   \n",
       "2    15619304    France  Female   DIAMOND    -1.536794  0.293517  1.032908   \n",
       "3    15701354    France  Female      GOLD     0.501521  0.007457 -1.387538   \n",
       "4    15737888     Spain  Female      GOLD     2.063884  0.388871 -1.041760   \n",
       "\n",
       "    Balance  NumOfProducts  HasCrCard  IsActiveMember  EstimatedSalary  \\\n",
       "0 -1.225848      -0.911583   0.646092        0.970243         0.021886   \n",
       "1  0.117350      -0.911583  -1.547768        0.970243         0.216534   \n",
       "2  1.333053       2.527057   0.646092       -1.030670         0.240687   \n",
       "3 -1.225848       0.807737  -1.547768       -1.030670        -0.108918   \n",
       "4  0.785728      -0.911583   0.646092        0.970243        -0.365276   \n",
       "\n",
       "     Exited  Complain  Satisfaction Score  Point Earned  \n",
       "0  1.976555  1.972908           -0.721130     -0.630839  \n",
       "1 -0.505931  1.972908           -0.009816     -0.666251  \n",
       "2  1.976555  1.972908           -0.009816     -1.015942  \n",
       "3 -0.505931 -0.506866            1.412812     -1.135457  \n",
       "4 -0.505931 -0.506866            1.412812     -0.803472  "
      ]
     },
     "execution_count": 166,
     "metadata": {},
     "output_type": "execute_result"
    }
   ],
   "source": [
    "# Dropping unnecessary variables \n",
    "data = df_std.drop(['AgeGroup', 'PointsGroup', 'BalanceGroup', 'SalaryGroup'], axis=1)\n",
    "data.head()"
   ]
  },
  {
   "cell_type": "code",
   "execution_count": 167,
   "id": "cb381c2a",
   "metadata": {},
   "outputs": [],
   "source": [
    "# Selecting columns as predictors and outcome variables\n",
    "predictors = ['CustomerId', 'CreditScore', 'Geography', 'Gender', 'Age', 'Tenure',\n",
    "       'Balance', 'NumOfProducts', 'HasCrCard', 'IsActiveMember',\n",
    "       'EstimatedSalary', 'Complain', 'Satisfaction Score',\n",
    "       'Card Type', 'Point Earned']\n",
    "outcome = 'Exited'"
   ]
  },
  {
   "cell_type": "code",
   "execution_count": 168,
   "id": "b77777c7",
   "metadata": {},
   "outputs": [
    {
     "data": {
      "text/plain": [
       "['CustomerId',\n",
       " 'CreditScore',\n",
       " 'Geography',\n",
       " 'Gender',\n",
       " 'Age',\n",
       " 'Tenure',\n",
       " 'Balance',\n",
       " 'NumOfProducts',\n",
       " 'HasCrCard',\n",
       " 'IsActiveMember',\n",
       " 'EstimatedSalary',\n",
       " 'Complain',\n",
       " 'Satisfaction Score',\n",
       " 'Card Type',\n",
       " 'Point Earned']"
      ]
     },
     "execution_count": 168,
     "metadata": {},
     "output_type": "execute_result"
    }
   ],
   "source": [
    "predictors"
   ]
  },
  {
   "cell_type": "code",
   "execution_count": 169,
   "id": "419413f3",
   "metadata": {},
   "outputs": [
    {
     "data": {
      "text/plain": [
       "'Exited'"
      ]
     },
     "execution_count": 169,
     "metadata": {},
     "output_type": "execute_result"
    }
   ],
   "source": [
    "outcome"
   ]
  },
  {
   "cell_type": "code",
   "execution_count": 170,
   "id": "f29edd18",
   "metadata": {},
   "outputs": [
    {
     "name": "stdout",
     "output_type": "stream",
     "text": [
      "<class 'pandas.core.frame.DataFrame'>\n",
      "RangeIndex: 10000 entries, 0 to 9999\n",
      "Data columns (total 16 columns):\n",
      " #   Column              Non-Null Count  Dtype  \n",
      "---  ------              --------------  -----  \n",
      " 0   CustomerId          10000 non-null  int64  \n",
      " 1   Geography           10000 non-null  object \n",
      " 2   Gender              10000 non-null  object \n",
      " 3   Card Type           10000 non-null  object \n",
      " 4   CreditScore         10000 non-null  float64\n",
      " 5   Age                 10000 non-null  float64\n",
      " 6   Tenure              10000 non-null  float64\n",
      " 7   Balance             10000 non-null  float64\n",
      " 8   NumOfProducts       10000 non-null  float64\n",
      " 9   HasCrCard           10000 non-null  float64\n",
      " 10  IsActiveMember      10000 non-null  float64\n",
      " 11  EstimatedSalary     10000 non-null  float64\n",
      " 12  Exited              10000 non-null  float64\n",
      " 13  Complain            10000 non-null  float64\n",
      " 14  Satisfaction Score  10000 non-null  float64\n",
      " 15  Point Earned        10000 non-null  float64\n",
      "dtypes: float64(12), int64(1), object(3)\n",
      "memory usage: 1.2+ MB\n"
     ]
    }
   ],
   "source": [
    "data.info()"
   ]
  },
  {
   "cell_type": "code",
   "execution_count": 171,
   "id": "cee20a44",
   "metadata": {},
   "outputs": [],
   "source": [
    "# Dummy variable creation\n",
    "X = pd.get_dummies(data[predictors], drop_first=True)\n",
    "y = df[outcome]"
   ]
  },
  {
   "cell_type": "code",
   "execution_count": 172,
   "id": "19bd41ed",
   "metadata": {},
   "outputs": [
    {
     "data": {
      "text/html": [
       "<div>\n",
       "<style scoped>\n",
       "    .dataframe tbody tr th:only-of-type {\n",
       "        vertical-align: middle;\n",
       "    }\n",
       "\n",
       "    .dataframe tbody tr th {\n",
       "        vertical-align: top;\n",
       "    }\n",
       "\n",
       "    .dataframe thead th {\n",
       "        text-align: right;\n",
       "    }\n",
       "</style>\n",
       "<table border=\"1\" class=\"dataframe\">\n",
       "  <thead>\n",
       "    <tr style=\"text-align: right;\">\n",
       "      <th></th>\n",
       "      <th>CustomerId</th>\n",
       "      <th>CreditScore</th>\n",
       "      <th>Age</th>\n",
       "      <th>Tenure</th>\n",
       "      <th>Balance</th>\n",
       "      <th>NumOfProducts</th>\n",
       "      <th>HasCrCard</th>\n",
       "      <th>IsActiveMember</th>\n",
       "      <th>EstimatedSalary</th>\n",
       "      <th>Complain</th>\n",
       "      <th>Satisfaction Score</th>\n",
       "      <th>Point Earned</th>\n",
       "      <th>Geography_Germany</th>\n",
       "      <th>Geography_Spain</th>\n",
       "      <th>Gender_Male</th>\n",
       "      <th>Card Type_GOLD</th>\n",
       "      <th>Card Type_PLATINUM</th>\n",
       "      <th>Card Type_SILVER</th>\n",
       "    </tr>\n",
       "  </thead>\n",
       "  <tbody>\n",
       "    <tr>\n",
       "      <th>0</th>\n",
       "      <td>15634602</td>\n",
       "      <td>-0.326221</td>\n",
       "      <td>0.293517</td>\n",
       "      <td>-1.041760</td>\n",
       "      <td>-1.225848</td>\n",
       "      <td>-0.911583</td>\n",
       "      <td>0.646092</td>\n",
       "      <td>0.970243</td>\n",
       "      <td>0.021886</td>\n",
       "      <td>1.972908</td>\n",
       "      <td>-0.721130</td>\n",
       "      <td>-0.630839</td>\n",
       "      <td>False</td>\n",
       "      <td>False</td>\n",
       "      <td>False</td>\n",
       "      <td>False</td>\n",
       "      <td>False</td>\n",
       "      <td>False</td>\n",
       "    </tr>\n",
       "    <tr>\n",
       "      <th>1</th>\n",
       "      <td>15647311</td>\n",
       "      <td>-0.440036</td>\n",
       "      <td>0.198164</td>\n",
       "      <td>-1.387538</td>\n",
       "      <td>0.117350</td>\n",
       "      <td>-0.911583</td>\n",
       "      <td>-1.547768</td>\n",
       "      <td>0.970243</td>\n",
       "      <td>0.216534</td>\n",
       "      <td>1.972908</td>\n",
       "      <td>-0.009816</td>\n",
       "      <td>-0.666251</td>\n",
       "      <td>False</td>\n",
       "      <td>True</td>\n",
       "      <td>False</td>\n",
       "      <td>False</td>\n",
       "      <td>False</td>\n",
       "      <td>False</td>\n",
       "    </tr>\n",
       "    <tr>\n",
       "      <th>2</th>\n",
       "      <td>15619304</td>\n",
       "      <td>-1.536794</td>\n",
       "      <td>0.293517</td>\n",
       "      <td>1.032908</td>\n",
       "      <td>1.333053</td>\n",
       "      <td>2.527057</td>\n",
       "      <td>0.646092</td>\n",
       "      <td>-1.030670</td>\n",
       "      <td>0.240687</td>\n",
       "      <td>1.972908</td>\n",
       "      <td>-0.009816</td>\n",
       "      <td>-1.015942</td>\n",
       "      <td>False</td>\n",
       "      <td>False</td>\n",
       "      <td>False</td>\n",
       "      <td>False</td>\n",
       "      <td>False</td>\n",
       "      <td>False</td>\n",
       "    </tr>\n",
       "    <tr>\n",
       "      <th>3</th>\n",
       "      <td>15701354</td>\n",
       "      <td>0.501521</td>\n",
       "      <td>0.007457</td>\n",
       "      <td>-1.387538</td>\n",
       "      <td>-1.225848</td>\n",
       "      <td>0.807737</td>\n",
       "      <td>-1.547768</td>\n",
       "      <td>-1.030670</td>\n",
       "      <td>-0.108918</td>\n",
       "      <td>-0.506866</td>\n",
       "      <td>1.412812</td>\n",
       "      <td>-1.135457</td>\n",
       "      <td>False</td>\n",
       "      <td>False</td>\n",
       "      <td>False</td>\n",
       "      <td>True</td>\n",
       "      <td>False</td>\n",
       "      <td>False</td>\n",
       "    </tr>\n",
       "    <tr>\n",
       "      <th>4</th>\n",
       "      <td>15737888</td>\n",
       "      <td>2.063884</td>\n",
       "      <td>0.388871</td>\n",
       "      <td>-1.041760</td>\n",
       "      <td>0.785728</td>\n",
       "      <td>-0.911583</td>\n",
       "      <td>0.646092</td>\n",
       "      <td>0.970243</td>\n",
       "      <td>-0.365276</td>\n",
       "      <td>-0.506866</td>\n",
       "      <td>1.412812</td>\n",
       "      <td>-0.803472</td>\n",
       "      <td>False</td>\n",
       "      <td>True</td>\n",
       "      <td>False</td>\n",
       "      <td>True</td>\n",
       "      <td>False</td>\n",
       "      <td>False</td>\n",
       "    </tr>\n",
       "    <tr>\n",
       "      <th>...</th>\n",
       "      <td>...</td>\n",
       "      <td>...</td>\n",
       "      <td>...</td>\n",
       "      <td>...</td>\n",
       "      <td>...</td>\n",
       "      <td>...</td>\n",
       "      <td>...</td>\n",
       "      <td>...</td>\n",
       "      <td>...</td>\n",
       "      <td>...</td>\n",
       "      <td>...</td>\n",
       "      <td>...</td>\n",
       "      <td>...</td>\n",
       "      <td>...</td>\n",
       "      <td>...</td>\n",
       "      <td>...</td>\n",
       "      <td>...</td>\n",
       "      <td>...</td>\n",
       "    </tr>\n",
       "    <tr>\n",
       "      <th>9995</th>\n",
       "      <td>15606229</td>\n",
       "      <td>1.246488</td>\n",
       "      <td>0.007457</td>\n",
       "      <td>-0.004426</td>\n",
       "      <td>-1.225848</td>\n",
       "      <td>0.807737</td>\n",
       "      <td>0.646092</td>\n",
       "      <td>-1.030670</td>\n",
       "      <td>-0.066419</td>\n",
       "      <td>-0.506866</td>\n",
       "      <td>-1.432445</td>\n",
       "      <td>-1.356781</td>\n",
       "      <td>False</td>\n",
       "      <td>False</td>\n",
       "      <td>True</td>\n",
       "      <td>False</td>\n",
       "      <td>False</td>\n",
       "      <td>False</td>\n",
       "    </tr>\n",
       "    <tr>\n",
       "      <th>9996</th>\n",
       "      <td>15569892</td>\n",
       "      <td>-1.391939</td>\n",
       "      <td>-0.373958</td>\n",
       "      <td>1.724464</td>\n",
       "      <td>-0.306379</td>\n",
       "      <td>-0.911583</td>\n",
       "      <td>0.646092</td>\n",
       "      <td>0.970243</td>\n",
       "      <td>0.027988</td>\n",
       "      <td>-0.506866</td>\n",
       "      <td>1.412812</td>\n",
       "      <td>0.728088</td>\n",
       "      <td>False</td>\n",
       "      <td>False</td>\n",
       "      <td>True</td>\n",
       "      <td>False</td>\n",
       "      <td>True</td>\n",
       "      <td>False</td>\n",
       "    </tr>\n",
       "    <tr>\n",
       "      <th>9997</th>\n",
       "      <td>15584532</td>\n",
       "      <td>0.604988</td>\n",
       "      <td>-0.278604</td>\n",
       "      <td>0.687130</td>\n",
       "      <td>-1.225848</td>\n",
       "      <td>-0.911583</td>\n",
       "      <td>-1.547768</td>\n",
       "      <td>0.970243</td>\n",
       "      <td>-1.008643</td>\n",
       "      <td>1.972908</td>\n",
       "      <td>-0.009816</td>\n",
       "      <td>-0.188192</td>\n",
       "      <td>False</td>\n",
       "      <td>False</td>\n",
       "      <td>False</td>\n",
       "      <td>False</td>\n",
       "      <td>False</td>\n",
       "      <td>True</td>\n",
       "    </tr>\n",
       "    <tr>\n",
       "      <th>9998</th>\n",
       "      <td>15682355</td>\n",
       "      <td>1.256835</td>\n",
       "      <td>0.293517</td>\n",
       "      <td>-0.695982</td>\n",
       "      <td>-0.022608</td>\n",
       "      <td>0.807737</td>\n",
       "      <td>0.646092</td>\n",
       "      <td>-1.030670</td>\n",
       "      <td>-0.125231</td>\n",
       "      <td>1.972908</td>\n",
       "      <td>-0.721130</td>\n",
       "      <td>-1.184148</td>\n",
       "      <td>True</td>\n",
       "      <td>False</td>\n",
       "      <td>True</td>\n",
       "      <td>True</td>\n",
       "      <td>False</td>\n",
       "      <td>False</td>\n",
       "    </tr>\n",
       "    <tr>\n",
       "      <th>9999</th>\n",
       "      <td>15628319</td>\n",
       "      <td>1.463771</td>\n",
       "      <td>-1.041433</td>\n",
       "      <td>-0.350204</td>\n",
       "      <td>0.859965</td>\n",
       "      <td>-0.911583</td>\n",
       "      <td>0.646092</td>\n",
       "      <td>-1.030670</td>\n",
       "      <td>-1.076370</td>\n",
       "      <td>-0.506866</td>\n",
       "      <td>-0.009816</td>\n",
       "      <td>1.347794</td>\n",
       "      <td>False</td>\n",
       "      <td>False</td>\n",
       "      <td>False</td>\n",
       "      <td>False</td>\n",
       "      <td>False</td>\n",
       "      <td>False</td>\n",
       "    </tr>\n",
       "  </tbody>\n",
       "</table>\n",
       "<p>10000 rows × 18 columns</p>\n",
       "</div>"
      ],
      "text/plain": [
       "      CustomerId  CreditScore       Age    Tenure   Balance  NumOfProducts  \\\n",
       "0       15634602    -0.326221  0.293517 -1.041760 -1.225848      -0.911583   \n",
       "1       15647311    -0.440036  0.198164 -1.387538  0.117350      -0.911583   \n",
       "2       15619304    -1.536794  0.293517  1.032908  1.333053       2.527057   \n",
       "3       15701354     0.501521  0.007457 -1.387538 -1.225848       0.807737   \n",
       "4       15737888     2.063884  0.388871 -1.041760  0.785728      -0.911583   \n",
       "...          ...          ...       ...       ...       ...            ...   \n",
       "9995    15606229     1.246488  0.007457 -0.004426 -1.225848       0.807737   \n",
       "9996    15569892    -1.391939 -0.373958  1.724464 -0.306379      -0.911583   \n",
       "9997    15584532     0.604988 -0.278604  0.687130 -1.225848      -0.911583   \n",
       "9998    15682355     1.256835  0.293517 -0.695982 -0.022608       0.807737   \n",
       "9999    15628319     1.463771 -1.041433 -0.350204  0.859965      -0.911583   \n",
       "\n",
       "      HasCrCard  IsActiveMember  EstimatedSalary  Complain  \\\n",
       "0      0.646092        0.970243         0.021886  1.972908   \n",
       "1     -1.547768        0.970243         0.216534  1.972908   \n",
       "2      0.646092       -1.030670         0.240687  1.972908   \n",
       "3     -1.547768       -1.030670        -0.108918 -0.506866   \n",
       "4      0.646092        0.970243        -0.365276 -0.506866   \n",
       "...         ...             ...              ...       ...   \n",
       "9995   0.646092       -1.030670        -0.066419 -0.506866   \n",
       "9996   0.646092        0.970243         0.027988 -0.506866   \n",
       "9997  -1.547768        0.970243        -1.008643  1.972908   \n",
       "9998   0.646092       -1.030670        -0.125231  1.972908   \n",
       "9999   0.646092       -1.030670        -1.076370 -0.506866   \n",
       "\n",
       "      Satisfaction Score  Point Earned  Geography_Germany  Geography_Spain  \\\n",
       "0              -0.721130     -0.630839              False            False   \n",
       "1              -0.009816     -0.666251              False             True   \n",
       "2              -0.009816     -1.015942              False            False   \n",
       "3               1.412812     -1.135457              False            False   \n",
       "4               1.412812     -0.803472              False             True   \n",
       "...                  ...           ...                ...              ...   \n",
       "9995           -1.432445     -1.356781              False            False   \n",
       "9996            1.412812      0.728088              False            False   \n",
       "9997           -0.009816     -0.188192              False            False   \n",
       "9998           -0.721130     -1.184148               True            False   \n",
       "9999           -0.009816      1.347794              False            False   \n",
       "\n",
       "      Gender_Male  Card Type_GOLD  Card Type_PLATINUM  Card Type_SILVER  \n",
       "0           False           False               False             False  \n",
       "1           False           False               False             False  \n",
       "2           False           False               False             False  \n",
       "3           False            True               False             False  \n",
       "4           False            True               False             False  \n",
       "...           ...             ...                 ...               ...  \n",
       "9995         True           False               False             False  \n",
       "9996         True           False                True             False  \n",
       "9997        False           False               False              True  \n",
       "9998         True            True               False             False  \n",
       "9999        False           False               False             False  \n",
       "\n",
       "[10000 rows x 18 columns]"
      ]
     },
     "execution_count": 172,
     "metadata": {},
     "output_type": "execute_result"
    }
   ],
   "source": [
    "X"
   ]
  },
  {
   "cell_type": "code",
   "execution_count": 173,
   "id": "7cb4850d",
   "metadata": {},
   "outputs": [
    {
     "data": {
      "text/plain": [
       "(10000, 18)"
      ]
     },
     "execution_count": 173,
     "metadata": {},
     "output_type": "execute_result"
    }
   ],
   "source": [
    "X.shape"
   ]
  },
  {
   "cell_type": "code",
   "execution_count": 174,
   "id": "cf6ce8b1",
   "metadata": {},
   "outputs": [
    {
     "name": "stdout",
     "output_type": "stream",
     "text": [
      "<class 'pandas.core.frame.DataFrame'>\n",
      "RangeIndex: 10000 entries, 0 to 9999\n",
      "Data columns (total 18 columns):\n",
      " #   Column              Non-Null Count  Dtype  \n",
      "---  ------              --------------  -----  \n",
      " 0   CustomerId          10000 non-null  int64  \n",
      " 1   CreditScore         10000 non-null  float64\n",
      " 2   Age                 10000 non-null  float64\n",
      " 3   Tenure              10000 non-null  float64\n",
      " 4   Balance             10000 non-null  float64\n",
      " 5   NumOfProducts       10000 non-null  float64\n",
      " 6   HasCrCard           10000 non-null  float64\n",
      " 7   IsActiveMember      10000 non-null  float64\n",
      " 8   EstimatedSalary     10000 non-null  float64\n",
      " 9   Complain            10000 non-null  float64\n",
      " 10  Satisfaction Score  10000 non-null  float64\n",
      " 11  Point Earned        10000 non-null  float64\n",
      " 12  Geography_Germany   10000 non-null  bool   \n",
      " 13  Geography_Spain     10000 non-null  bool   \n",
      " 14  Gender_Male         10000 non-null  bool   \n",
      " 15  Card Type_GOLD      10000 non-null  bool   \n",
      " 16  Card Type_PLATINUM  10000 non-null  bool   \n",
      " 17  Card Type_SILVER    10000 non-null  bool   \n",
      "dtypes: bool(6), float64(11), int64(1)\n",
      "memory usage: 996.2 KB\n"
     ]
    }
   ],
   "source": [
    "X.info()"
   ]
  },
  {
   "cell_type": "code",
   "execution_count": 175,
   "id": "940c6cf7",
   "metadata": {},
   "outputs": [
    {
     "data": {
      "text/plain": [
       "0       1\n",
       "1       0\n",
       "2       1\n",
       "3       0\n",
       "4       0\n",
       "       ..\n",
       "9995    0\n",
       "9996    0\n",
       "9997    1\n",
       "9998    1\n",
       "9999    0\n",
       "Name: Exited, Length: 10000, dtype: int64"
      ]
     },
     "execution_count": 175,
     "metadata": {},
     "output_type": "execute_result"
    }
   ],
   "source": [
    "y"
   ]
  },
  {
   "cell_type": "code",
   "execution_count": 176,
   "id": "72e3cbf4",
   "metadata": {},
   "outputs": [
    {
     "data": {
      "text/plain": [
       "(10000,)"
      ]
     },
     "execution_count": 176,
     "metadata": {},
     "output_type": "execute_result"
    }
   ],
   "source": [
    "y.shape"
   ]
  },
  {
   "cell_type": "code",
   "execution_count": 177,
   "id": "8309c448",
   "metadata": {},
   "outputs": [
    {
     "name": "stdout",
     "output_type": "stream",
     "text": [
      "<class 'pandas.core.series.Series'>\n",
      "RangeIndex: 10000 entries, 0 to 9999\n",
      "Series name: Exited\n",
      "Non-Null Count  Dtype\n",
      "--------------  -----\n",
      "10000 non-null  int64\n",
      "dtypes: int64(1)\n",
      "memory usage: 78.3 KB\n"
     ]
    }
   ],
   "source": [
    "y.info()"
   ]
  },
  {
   "cell_type": "code",
   "execution_count": 178,
   "id": "4501abe3",
   "metadata": {},
   "outputs": [],
   "source": [
    "from sklearn.model_selection import train_test_split\n",
    "train_X, valid_X, train_y, valid_y = train_test_split(X, y, test_size=0.2, random_state=1)"
   ]
  },
  {
   "cell_type": "code",
   "execution_count": 179,
   "id": "0b8b040f",
   "metadata": {},
   "outputs": [
    {
     "data": {
      "text/html": [
       "<div>\n",
       "<style scoped>\n",
       "    .dataframe tbody tr th:only-of-type {\n",
       "        vertical-align: middle;\n",
       "    }\n",
       "\n",
       "    .dataframe tbody tr th {\n",
       "        vertical-align: top;\n",
       "    }\n",
       "\n",
       "    .dataframe thead th {\n",
       "        text-align: right;\n",
       "    }\n",
       "</style>\n",
       "<table border=\"1\" class=\"dataframe\">\n",
       "  <thead>\n",
       "    <tr style=\"text-align: right;\">\n",
       "      <th></th>\n",
       "      <th>CustomerId</th>\n",
       "      <th>CreditScore</th>\n",
       "      <th>Age</th>\n",
       "      <th>Tenure</th>\n",
       "      <th>Balance</th>\n",
       "      <th>NumOfProducts</th>\n",
       "      <th>HasCrCard</th>\n",
       "      <th>IsActiveMember</th>\n",
       "      <th>EstimatedSalary</th>\n",
       "      <th>Complain</th>\n",
       "      <th>Satisfaction Score</th>\n",
       "      <th>Point Earned</th>\n",
       "      <th>Geography_Germany</th>\n",
       "      <th>Geography_Spain</th>\n",
       "      <th>Gender_Male</th>\n",
       "      <th>Card Type_GOLD</th>\n",
       "      <th>Card Type_PLATINUM</th>\n",
       "      <th>Card Type_SILVER</th>\n",
       "    </tr>\n",
       "  </thead>\n",
       "  <tbody>\n",
       "    <tr>\n",
       "      <th>2694</th>\n",
       "      <td>15721585</td>\n",
       "      <td>-0.233100</td>\n",
       "      <td>-0.946079</td>\n",
       "      <td>-0.695982</td>\n",
       "      <td>0.587571</td>\n",
       "      <td>0.807737</td>\n",
       "      <td>-1.547768</td>\n",
       "      <td>0.970243</td>\n",
       "      <td>0.428793</td>\n",
       "      <td>-0.506866</td>\n",
       "      <td>-0.721130</td>\n",
       "      <td>-1.117751</td>\n",
       "      <td>True</td>\n",
       "      <td>False</td>\n",
       "      <td>True</td>\n",
       "      <td>False</td>\n",
       "      <td>True</td>\n",
       "      <td>False</td>\n",
       "    </tr>\n",
       "    <tr>\n",
       "      <th>5140</th>\n",
       "      <td>15617790</td>\n",
       "      <td>-0.253794</td>\n",
       "      <td>-0.946079</td>\n",
       "      <td>-0.350204</td>\n",
       "      <td>0.469296</td>\n",
       "      <td>0.807737</td>\n",
       "      <td>-1.547768</td>\n",
       "      <td>-1.030670</td>\n",
       "      <td>-1.025698</td>\n",
       "      <td>-0.506866</td>\n",
       "      <td>-1.432445</td>\n",
       "      <td>1.024661</td>\n",
       "      <td>False</td>\n",
       "      <td>False</td>\n",
       "      <td>False</td>\n",
       "      <td>False</td>\n",
       "      <td>True</td>\n",
       "      <td>False</td>\n",
       "    </tr>\n",
       "    <tr>\n",
       "      <th>2568</th>\n",
       "      <td>15775905</td>\n",
       "      <td>-0.398649</td>\n",
       "      <td>0.770285</td>\n",
       "      <td>0.341352</td>\n",
       "      <td>0.858075</td>\n",
       "      <td>-0.911583</td>\n",
       "      <td>0.646092</td>\n",
       "      <td>0.970243</td>\n",
       "      <td>-0.944919</td>\n",
       "      <td>1.972908</td>\n",
       "      <td>0.701498</td>\n",
       "      <td>0.435941</td>\n",
       "      <td>True</td>\n",
       "      <td>False</td>\n",
       "      <td>False</td>\n",
       "      <td>False</td>\n",
       "      <td>True</td>\n",
       "      <td>False</td>\n",
       "    </tr>\n",
       "    <tr>\n",
       "      <th>3671</th>\n",
       "      <td>15616666</td>\n",
       "      <td>-0.046858</td>\n",
       "      <td>1.247053</td>\n",
       "      <td>0.341352</td>\n",
       "      <td>0.565012</td>\n",
       "      <td>0.807737</td>\n",
       "      <td>-1.547768</td>\n",
       "      <td>0.970243</td>\n",
       "      <td>-0.551632</td>\n",
       "      <td>-0.506866</td>\n",
       "      <td>-1.432445</td>\n",
       "      <td>-1.648928</td>\n",
       "      <td>True</td>\n",
       "      <td>False</td>\n",
       "      <td>False</td>\n",
       "      <td>False</td>\n",
       "      <td>False</td>\n",
       "      <td>False</td>\n",
       "    </tr>\n",
       "    <tr>\n",
       "      <th>7427</th>\n",
       "      <td>15664720</td>\n",
       "      <td>0.656722</td>\n",
       "      <td>-0.564665</td>\n",
       "      <td>1.032908</td>\n",
       "      <td>0.729735</td>\n",
       "      <td>-0.911583</td>\n",
       "      <td>-1.547768</td>\n",
       "      <td>-1.030670</td>\n",
       "      <td>1.085507</td>\n",
       "      <td>-0.506866</td>\n",
       "      <td>1.412812</td>\n",
       "      <td>-0.453780</td>\n",
       "      <td>False</td>\n",
       "      <td>True</td>\n",
       "      <td>True</td>\n",
       "      <td>False</td>\n",
       "      <td>False</td>\n",
       "      <td>False</td>\n",
       "    </tr>\n",
       "    <tr>\n",
       "      <th>...</th>\n",
       "      <td>...</td>\n",
       "      <td>...</td>\n",
       "      <td>...</td>\n",
       "      <td>...</td>\n",
       "      <td>...</td>\n",
       "      <td>...</td>\n",
       "      <td>...</td>\n",
       "      <td>...</td>\n",
       "      <td>...</td>\n",
       "      <td>...</td>\n",
       "      <td>...</td>\n",
       "      <td>...</td>\n",
       "      <td>...</td>\n",
       "      <td>...</td>\n",
       "      <td>...</td>\n",
       "      <td>...</td>\n",
       "      <td>...</td>\n",
       "      <td>...</td>\n",
       "    </tr>\n",
       "    <tr>\n",
       "      <th>2895</th>\n",
       "      <td>15646859</td>\n",
       "      <td>-0.305528</td>\n",
       "      <td>0.770285</td>\n",
       "      <td>0.687130</td>\n",
       "      <td>0.494875</td>\n",
       "      <td>-0.911583</td>\n",
       "      <td>0.646092</td>\n",
       "      <td>0.970243</td>\n",
       "      <td>-0.578897</td>\n",
       "      <td>-0.506866</td>\n",
       "      <td>1.412812</td>\n",
       "      <td>0.860882</td>\n",
       "      <td>True</td>\n",
       "      <td>False</td>\n",
       "      <td>True</td>\n",
       "      <td>False</td>\n",
       "      <td>False</td>\n",
       "      <td>False</td>\n",
       "    </tr>\n",
       "    <tr>\n",
       "      <th>7813</th>\n",
       "      <td>15592751</td>\n",
       "      <td>0.346319</td>\n",
       "      <td>2.295943</td>\n",
       "      <td>-0.695982</td>\n",
       "      <td>0.076287</td>\n",
       "      <td>-0.911583</td>\n",
       "      <td>0.646092</td>\n",
       "      <td>-1.030670</td>\n",
       "      <td>-0.529442</td>\n",
       "      <td>1.972908</td>\n",
       "      <td>-0.721130</td>\n",
       "      <td>1.166309</td>\n",
       "      <td>True</td>\n",
       "      <td>False</td>\n",
       "      <td>False</td>\n",
       "      <td>False</td>\n",
       "      <td>True</td>\n",
       "      <td>False</td>\n",
       "    </tr>\n",
       "    <tr>\n",
       "      <th>905</th>\n",
       "      <td>15675964</td>\n",
       "      <td>0.222158</td>\n",
       "      <td>0.579578</td>\n",
       "      <td>1.378686</td>\n",
       "      <td>-1.225848</td>\n",
       "      <td>-0.911583</td>\n",
       "      <td>0.646092</td>\n",
       "      <td>0.970243</td>\n",
       "      <td>-0.140200</td>\n",
       "      <td>1.972908</td>\n",
       "      <td>-1.432445</td>\n",
       "      <td>-0.927413</td>\n",
       "      <td>False</td>\n",
       "      <td>False</td>\n",
       "      <td>False</td>\n",
       "      <td>False</td>\n",
       "      <td>True</td>\n",
       "      <td>False</td>\n",
       "    </tr>\n",
       "    <tr>\n",
       "      <th>5192</th>\n",
       "      <td>15607884</td>\n",
       "      <td>0.129037</td>\n",
       "      <td>0.007457</td>\n",
       "      <td>1.032908</td>\n",
       "      <td>-1.225848</td>\n",
       "      <td>0.807737</td>\n",
       "      <td>0.646092</td>\n",
       "      <td>0.970243</td>\n",
       "      <td>0.018757</td>\n",
       "      <td>-0.506866</td>\n",
       "      <td>1.412812</td>\n",
       "      <td>-0.714942</td>\n",
       "      <td>False</td>\n",
       "      <td>False</td>\n",
       "      <td>False</td>\n",
       "      <td>False</td>\n",
       "      <td>False</td>\n",
       "      <td>True</td>\n",
       "    </tr>\n",
       "    <tr>\n",
       "      <th>235</th>\n",
       "      <td>15772896</td>\n",
       "      <td>1.163714</td>\n",
       "      <td>0.293517</td>\n",
       "      <td>0.341352</td>\n",
       "      <td>0.379440</td>\n",
       "      <td>-0.911583</td>\n",
       "      <td>0.646092</td>\n",
       "      <td>-1.030670</td>\n",
       "      <td>-1.158582</td>\n",
       "      <td>1.972908</td>\n",
       "      <td>-0.009816</td>\n",
       "      <td>0.453647</td>\n",
       "      <td>True</td>\n",
       "      <td>False</td>\n",
       "      <td>True</td>\n",
       "      <td>True</td>\n",
       "      <td>False</td>\n",
       "      <td>False</td>\n",
       "    </tr>\n",
       "  </tbody>\n",
       "</table>\n",
       "<p>8000 rows × 18 columns</p>\n",
       "</div>"
      ],
      "text/plain": [
       "      CustomerId  CreditScore       Age    Tenure   Balance  NumOfProducts  \\\n",
       "2694    15721585    -0.233100 -0.946079 -0.695982  0.587571       0.807737   \n",
       "5140    15617790    -0.253794 -0.946079 -0.350204  0.469296       0.807737   \n",
       "2568    15775905    -0.398649  0.770285  0.341352  0.858075      -0.911583   \n",
       "3671    15616666    -0.046858  1.247053  0.341352  0.565012       0.807737   \n",
       "7427    15664720     0.656722 -0.564665  1.032908  0.729735      -0.911583   \n",
       "...          ...          ...       ...       ...       ...            ...   \n",
       "2895    15646859    -0.305528  0.770285  0.687130  0.494875      -0.911583   \n",
       "7813    15592751     0.346319  2.295943 -0.695982  0.076287      -0.911583   \n",
       "905     15675964     0.222158  0.579578  1.378686 -1.225848      -0.911583   \n",
       "5192    15607884     0.129037  0.007457  1.032908 -1.225848       0.807737   \n",
       "235     15772896     1.163714  0.293517  0.341352  0.379440      -0.911583   \n",
       "\n",
       "      HasCrCard  IsActiveMember  EstimatedSalary  Complain  \\\n",
       "2694  -1.547768        0.970243         0.428793 -0.506866   \n",
       "5140  -1.547768       -1.030670        -1.025698 -0.506866   \n",
       "2568   0.646092        0.970243        -0.944919  1.972908   \n",
       "3671  -1.547768        0.970243        -0.551632 -0.506866   \n",
       "7427  -1.547768       -1.030670         1.085507 -0.506866   \n",
       "...         ...             ...              ...       ...   \n",
       "2895   0.646092        0.970243        -0.578897 -0.506866   \n",
       "7813   0.646092       -1.030670        -0.529442  1.972908   \n",
       "905    0.646092        0.970243        -0.140200  1.972908   \n",
       "5192   0.646092        0.970243         0.018757 -0.506866   \n",
       "235    0.646092       -1.030670        -1.158582  1.972908   \n",
       "\n",
       "      Satisfaction Score  Point Earned  Geography_Germany  Geography_Spain  \\\n",
       "2694           -0.721130     -1.117751               True            False   \n",
       "5140           -1.432445      1.024661              False            False   \n",
       "2568            0.701498      0.435941               True            False   \n",
       "3671           -1.432445     -1.648928               True            False   \n",
       "7427            1.412812     -0.453780              False             True   \n",
       "...                  ...           ...                ...              ...   \n",
       "2895            1.412812      0.860882               True            False   \n",
       "7813           -0.721130      1.166309               True            False   \n",
       "905            -1.432445     -0.927413              False            False   \n",
       "5192            1.412812     -0.714942              False            False   \n",
       "235            -0.009816      0.453647               True            False   \n",
       "\n",
       "      Gender_Male  Card Type_GOLD  Card Type_PLATINUM  Card Type_SILVER  \n",
       "2694         True           False                True             False  \n",
       "5140        False           False                True             False  \n",
       "2568        False           False                True             False  \n",
       "3671        False           False               False             False  \n",
       "7427         True           False               False             False  \n",
       "...           ...             ...                 ...               ...  \n",
       "2895         True           False               False             False  \n",
       "7813        False           False                True             False  \n",
       "905         False           False                True             False  \n",
       "5192        False           False               False              True  \n",
       "235          True            True               False             False  \n",
       "\n",
       "[8000 rows x 18 columns]"
      ]
     },
     "execution_count": 179,
     "metadata": {},
     "output_type": "execute_result"
    }
   ],
   "source": [
    "train_X"
   ]
  },
  {
   "cell_type": "code",
   "execution_count": 180,
   "id": "528c000d",
   "metadata": {},
   "outputs": [
    {
     "data": {
      "text/html": [
       "<div>\n",
       "<style scoped>\n",
       "    .dataframe tbody tr th:only-of-type {\n",
       "        vertical-align: middle;\n",
       "    }\n",
       "\n",
       "    .dataframe tbody tr th {\n",
       "        vertical-align: top;\n",
       "    }\n",
       "\n",
       "    .dataframe thead th {\n",
       "        text-align: right;\n",
       "    }\n",
       "</style>\n",
       "<table border=\"1\" class=\"dataframe\">\n",
       "  <thead>\n",
       "    <tr style=\"text-align: right;\">\n",
       "      <th></th>\n",
       "      <th>CustomerId</th>\n",
       "      <th>CreditScore</th>\n",
       "      <th>Age</th>\n",
       "      <th>Tenure</th>\n",
       "      <th>Balance</th>\n",
       "      <th>NumOfProducts</th>\n",
       "      <th>HasCrCard</th>\n",
       "      <th>IsActiveMember</th>\n",
       "      <th>EstimatedSalary</th>\n",
       "      <th>Complain</th>\n",
       "      <th>Satisfaction Score</th>\n",
       "      <th>Point Earned</th>\n",
       "      <th>Geography_Germany</th>\n",
       "      <th>Geography_Spain</th>\n",
       "      <th>Gender_Male</th>\n",
       "      <th>Card Type_GOLD</th>\n",
       "      <th>Card Type_PLATINUM</th>\n",
       "      <th>Card Type_SILVER</th>\n",
       "    </tr>\n",
       "  </thead>\n",
       "  <tbody>\n",
       "    <tr>\n",
       "      <th>9953</th>\n",
       "      <td>15655952</td>\n",
       "      <td>-1.040149</td>\n",
       "      <td>0.770285</td>\n",
       "      <td>-1.041760</td>\n",
       "      <td>-1.225848</td>\n",
       "      <td>0.807737</td>\n",
       "      <td>0.646092</td>\n",
       "      <td>0.970243</td>\n",
       "      <td>-0.052740</td>\n",
       "      <td>-0.506866</td>\n",
       "      <td>-0.009816</td>\n",
       "      <td>0.829897</td>\n",
       "      <td>False</td>\n",
       "      <td>False</td>\n",
       "      <td>True</td>\n",
       "      <td>True</td>\n",
       "      <td>False</td>\n",
       "      <td>False</td>\n",
       "    </tr>\n",
       "    <tr>\n",
       "      <th>3850</th>\n",
       "      <td>15775293</td>\n",
       "      <td>0.304932</td>\n",
       "      <td>-0.469311</td>\n",
       "      <td>-0.695982</td>\n",
       "      <td>1.070724</td>\n",
       "      <td>-0.911583</td>\n",
       "      <td>0.646092</td>\n",
       "      <td>-1.030670</td>\n",
       "      <td>-0.583648</td>\n",
       "      <td>-0.506866</td>\n",
       "      <td>-1.432445</td>\n",
       "      <td>0.387249</td>\n",
       "      <td>False</td>\n",
       "      <td>False</td>\n",
       "      <td>True</td>\n",
       "      <td>False</td>\n",
       "      <td>False</td>\n",
       "      <td>True</td>\n",
       "    </tr>\n",
       "    <tr>\n",
       "      <th>4962</th>\n",
       "      <td>15665088</td>\n",
       "      <td>-1.236738</td>\n",
       "      <td>0.293517</td>\n",
       "      <td>-1.041760</td>\n",
       "      <td>-1.225848</td>\n",
       "      <td>0.807737</td>\n",
       "      <td>-1.547768</td>\n",
       "      <td>0.970243</td>\n",
       "      <td>-0.166113</td>\n",
       "      <td>-0.506866</td>\n",
       "      <td>-0.721130</td>\n",
       "      <td>-0.223604</td>\n",
       "      <td>False</td>\n",
       "      <td>False</td>\n",
       "      <td>False</td>\n",
       "      <td>True</td>\n",
       "      <td>False</td>\n",
       "      <td>False</td>\n",
       "    </tr>\n",
       "    <tr>\n",
       "      <th>3886</th>\n",
       "      <td>15720941</td>\n",
       "      <td>0.615335</td>\n",
       "      <td>-0.469311</td>\n",
       "      <td>1.032908</td>\n",
       "      <td>1.143493</td>\n",
       "      <td>0.807737</td>\n",
       "      <td>-1.547768</td>\n",
       "      <td>0.970243</td>\n",
       "      <td>-1.713315</td>\n",
       "      <td>-0.506866</td>\n",
       "      <td>1.412812</td>\n",
       "      <td>1.369926</td>\n",
       "      <td>True</td>\n",
       "      <td>False</td>\n",
       "      <td>True</td>\n",
       "      <td>True</td>\n",
       "      <td>False</td>\n",
       "      <td>False</td>\n",
       "    </tr>\n",
       "    <tr>\n",
       "      <th>5437</th>\n",
       "      <td>15733476</td>\n",
       "      <td>-1.112576</td>\n",
       "      <td>-0.850726</td>\n",
       "      <td>0.341352</td>\n",
       "      <td>-0.048159</td>\n",
       "      <td>-0.911583</td>\n",
       "      <td>0.646092</td>\n",
       "      <td>0.970243</td>\n",
       "      <td>1.332039</td>\n",
       "      <td>-0.506866</td>\n",
       "      <td>-0.009816</td>\n",
       "      <td>0.338558</td>\n",
       "      <td>True</td>\n",
       "      <td>False</td>\n",
       "      <td>True</td>\n",
       "      <td>True</td>\n",
       "      <td>False</td>\n",
       "      <td>False</td>\n",
       "    </tr>\n",
       "    <tr>\n",
       "      <th>...</th>\n",
       "      <td>...</td>\n",
       "      <td>...</td>\n",
       "      <td>...</td>\n",
       "      <td>...</td>\n",
       "      <td>...</td>\n",
       "      <td>...</td>\n",
       "      <td>...</td>\n",
       "      <td>...</td>\n",
       "      <td>...</td>\n",
       "      <td>...</td>\n",
       "      <td>...</td>\n",
       "      <td>...</td>\n",
       "      <td>...</td>\n",
       "      <td>...</td>\n",
       "      <td>...</td>\n",
       "      <td>...</td>\n",
       "      <td>...</td>\n",
       "      <td>...</td>\n",
       "    </tr>\n",
       "    <tr>\n",
       "      <th>3919</th>\n",
       "      <td>15759717</td>\n",
       "      <td>1.163714</td>\n",
       "      <td>0.007457</td>\n",
       "      <td>0.687130</td>\n",
       "      <td>-1.225848</td>\n",
       "      <td>0.807737</td>\n",
       "      <td>0.646092</td>\n",
       "      <td>-1.030670</td>\n",
       "      <td>-1.402101</td>\n",
       "      <td>-0.506866</td>\n",
       "      <td>-0.721130</td>\n",
       "      <td>-1.308089</td>\n",
       "      <td>False</td>\n",
       "      <td>True</td>\n",
       "      <td>False</td>\n",
       "      <td>False</td>\n",
       "      <td>True</td>\n",
       "      <td>False</td>\n",
       "    </tr>\n",
       "    <tr>\n",
       "      <th>162</th>\n",
       "      <td>15630910</td>\n",
       "      <td>1.546545</td>\n",
       "      <td>0.960993</td>\n",
       "      <td>0.687130</td>\n",
       "      <td>0.505198</td>\n",
       "      <td>-0.911583</td>\n",
       "      <td>-1.547768</td>\n",
       "      <td>-1.030670</td>\n",
       "      <td>-0.921011</td>\n",
       "      <td>-0.506866</td>\n",
       "      <td>-0.009816</td>\n",
       "      <td>1.099911</td>\n",
       "      <td>False</td>\n",
       "      <td>False</td>\n",
       "      <td>False</td>\n",
       "      <td>False</td>\n",
       "      <td>True</td>\n",
       "      <td>False</td>\n",
       "    </tr>\n",
       "    <tr>\n",
       "      <th>7903</th>\n",
       "      <td>15618437</td>\n",
       "      <td>-0.864254</td>\n",
       "      <td>-0.469311</td>\n",
       "      <td>1.724464</td>\n",
       "      <td>-1.225848</td>\n",
       "      <td>0.807737</td>\n",
       "      <td>-1.547768</td>\n",
       "      <td>0.970243</td>\n",
       "      <td>1.069103</td>\n",
       "      <td>-0.506866</td>\n",
       "      <td>1.412812</td>\n",
       "      <td>-0.953972</td>\n",
       "      <td>False</td>\n",
       "      <td>True</td>\n",
       "      <td>True</td>\n",
       "      <td>False</td>\n",
       "      <td>False</td>\n",
       "      <td>False</td>\n",
       "    </tr>\n",
       "    <tr>\n",
       "      <th>2242</th>\n",
       "      <td>15714397</td>\n",
       "      <td>-0.305528</td>\n",
       "      <td>-0.850726</td>\n",
       "      <td>-1.041760</td>\n",
       "      <td>0.393116</td>\n",
       "      <td>0.807737</td>\n",
       "      <td>0.646092</td>\n",
       "      <td>0.970243</td>\n",
       "      <td>1.133190</td>\n",
       "      <td>-0.506866</td>\n",
       "      <td>-0.009816</td>\n",
       "      <td>0.546602</td>\n",
       "      <td>True</td>\n",
       "      <td>False</td>\n",
       "      <td>False</td>\n",
       "      <td>False</td>\n",
       "      <td>False</td>\n",
       "      <td>True</td>\n",
       "    </tr>\n",
       "    <tr>\n",
       "      <th>2745</th>\n",
       "      <td>15669957</td>\n",
       "      <td>0.046263</td>\n",
       "      <td>1.247053</td>\n",
       "      <td>1.378686</td>\n",
       "      <td>1.093223</td>\n",
       "      <td>-0.911583</td>\n",
       "      <td>0.646092</td>\n",
       "      <td>0.970243</td>\n",
       "      <td>-0.887960</td>\n",
       "      <td>-0.506866</td>\n",
       "      <td>-0.721130</td>\n",
       "      <td>0.373970</td>\n",
       "      <td>True</td>\n",
       "      <td>False</td>\n",
       "      <td>True</td>\n",
       "      <td>False</td>\n",
       "      <td>False</td>\n",
       "      <td>False</td>\n",
       "    </tr>\n",
       "  </tbody>\n",
       "</table>\n",
       "<p>2000 rows × 18 columns</p>\n",
       "</div>"
      ],
      "text/plain": [
       "      CustomerId  CreditScore       Age    Tenure   Balance  NumOfProducts  \\\n",
       "9953    15655952    -1.040149  0.770285 -1.041760 -1.225848       0.807737   \n",
       "3850    15775293     0.304932 -0.469311 -0.695982  1.070724      -0.911583   \n",
       "4962    15665088    -1.236738  0.293517 -1.041760 -1.225848       0.807737   \n",
       "3886    15720941     0.615335 -0.469311  1.032908  1.143493       0.807737   \n",
       "5437    15733476    -1.112576 -0.850726  0.341352 -0.048159      -0.911583   \n",
       "...          ...          ...       ...       ...       ...            ...   \n",
       "3919    15759717     1.163714  0.007457  0.687130 -1.225848       0.807737   \n",
       "162     15630910     1.546545  0.960993  0.687130  0.505198      -0.911583   \n",
       "7903    15618437    -0.864254 -0.469311  1.724464 -1.225848       0.807737   \n",
       "2242    15714397    -0.305528 -0.850726 -1.041760  0.393116       0.807737   \n",
       "2745    15669957     0.046263  1.247053  1.378686  1.093223      -0.911583   \n",
       "\n",
       "      HasCrCard  IsActiveMember  EstimatedSalary  Complain  \\\n",
       "9953   0.646092        0.970243        -0.052740 -0.506866   \n",
       "3850   0.646092       -1.030670        -0.583648 -0.506866   \n",
       "4962  -1.547768        0.970243        -0.166113 -0.506866   \n",
       "3886  -1.547768        0.970243        -1.713315 -0.506866   \n",
       "5437   0.646092        0.970243         1.332039 -0.506866   \n",
       "...         ...             ...              ...       ...   \n",
       "3919   0.646092       -1.030670        -1.402101 -0.506866   \n",
       "162   -1.547768       -1.030670        -0.921011 -0.506866   \n",
       "7903  -1.547768        0.970243         1.069103 -0.506866   \n",
       "2242   0.646092        0.970243         1.133190 -0.506866   \n",
       "2745   0.646092        0.970243        -0.887960 -0.506866   \n",
       "\n",
       "      Satisfaction Score  Point Earned  Geography_Germany  Geography_Spain  \\\n",
       "9953           -0.009816      0.829897              False            False   \n",
       "3850           -1.432445      0.387249              False            False   \n",
       "4962           -0.721130     -0.223604              False            False   \n",
       "3886            1.412812      1.369926               True            False   \n",
       "5437           -0.009816      0.338558               True            False   \n",
       "...                  ...           ...                ...              ...   \n",
       "3919           -0.721130     -1.308089              False             True   \n",
       "162            -0.009816      1.099911              False            False   \n",
       "7903            1.412812     -0.953972              False             True   \n",
       "2242           -0.009816      0.546602               True            False   \n",
       "2745           -0.721130      0.373970               True            False   \n",
       "\n",
       "      Gender_Male  Card Type_GOLD  Card Type_PLATINUM  Card Type_SILVER  \n",
       "9953         True            True               False             False  \n",
       "3850         True           False               False              True  \n",
       "4962        False            True               False             False  \n",
       "3886         True            True               False             False  \n",
       "5437         True            True               False             False  \n",
       "...           ...             ...                 ...               ...  \n",
       "3919        False           False                True             False  \n",
       "162         False           False                True             False  \n",
       "7903         True           False               False             False  \n",
       "2242        False           False               False              True  \n",
       "2745         True           False               False             False  \n",
       "\n",
       "[2000 rows x 18 columns]"
      ]
     },
     "execution_count": 180,
     "metadata": {},
     "output_type": "execute_result"
    }
   ],
   "source": [
    "valid_X"
   ]
  },
  {
   "cell_type": "code",
   "execution_count": 181,
   "id": "83a25a6c",
   "metadata": {},
   "outputs": [
    {
     "data": {
      "text/plain": [
       "2694    0\n",
       "5140    0\n",
       "2568    1\n",
       "3671    0\n",
       "7427    0\n",
       "       ..\n",
       "2895    0\n",
       "7813    1\n",
       "905     1\n",
       "5192    0\n",
       "235     1\n",
       "Name: Exited, Length: 8000, dtype: int64"
      ]
     },
     "execution_count": 181,
     "metadata": {},
     "output_type": "execute_result"
    }
   ],
   "source": [
    "train_y"
   ]
  },
  {
   "cell_type": "code",
   "execution_count": 182,
   "id": "5fc5b75b",
   "metadata": {},
   "outputs": [
    {
     "data": {
      "text/plain": [
       "9953    0\n",
       "3850    0\n",
       "4962    0\n",
       "3886    0\n",
       "5437    0\n",
       "       ..\n",
       "3919    0\n",
       "162     0\n",
       "7903    0\n",
       "2242    0\n",
       "2745    0\n",
       "Name: Exited, Length: 2000, dtype: int64"
      ]
     },
     "execution_count": 182,
     "metadata": {},
     "output_type": "execute_result"
    }
   ],
   "source": [
    "valid_y"
   ]
  },
  {
   "cell_type": "markdown",
   "id": "dbbc894d",
   "metadata": {},
   "source": [
    "#### Performing feature selection"
   ]
  },
  {
   "cell_type": "code",
   "execution_count": 183,
   "id": "a0b630c4",
   "metadata": {},
   "outputs": [
    {
     "name": "stdout",
     "output_type": "stream",
     "text": [
      "Variables: CustomerId, CreditScore, Age, Tenure, Balance, NumOfProducts, HasCrCard, IsActiveMember, EstimatedSalary, Complain, Satisfaction Score, Point Earned, Geography_Germany, Geography_Spain, Gender_Male, Card Type_GOLD, Card Type_PLATINUM, Card Type_SILVER\n",
      "Start: score=-30783.37\n",
      "Step: score=-30785.37, remove EstimatedSalary\n",
      "Step: score=-30787.37, remove Card Type_PLATINUM\n",
      "Step: score=-30789.33, remove Gender_Male\n",
      "Step: score=-30791.26, remove Geography_Germany\n",
      "Step: score=-30793.08, remove Card Type_GOLD\n",
      "Step: score=-30794.88, remove Geography_Spain\n",
      "Step: score=-30796.65, remove HasCrCard\n",
      "Step: score=-30798.15, remove Tenure\n",
      "Step: score=-30799.64, remove CreditScore\n",
      "Step: score=-30800.61, remove NumOfProducts\n",
      "Step: score=-30801.61, remove Balance\n",
      "Step: score=-30802.55, remove CustomerId\n",
      "Step: score=-30802.55, remove None\n",
      "['Age', 'IsActiveMember', 'Complain', 'Satisfaction Score', 'Point Earned', 'Card Type_SILVER']\n"
     ]
    }
   ],
   "source": [
    "# Using Backward elimination\n",
    "from dmba import regressionSummary, exhaustive_search\n",
    "from dmba import backward_elimination, forward_selection, stepwise_selection\n",
    "from dmba import adjusted_r2_score, AIC_score, BIC_score\n",
    "from sklearn.linear_model import LinearRegression, Lasso, Ridge\n",
    "\n",
    "def train_model(variables):\n",
    "    model = LinearRegression()\n",
    "    model.fit(train_X[variables], train_y)\n",
    "    return model\n",
    "\n",
    "def score_model(model, variables):\n",
    "    return AIC_score(train_y, model.predict(train_X[variables]), model)\n",
    "\n",
    "best_model, best_variables = backward_elimination(train_X.columns, train_model, score_model, verbose=True)\n",
    "\n",
    "print(best_variables)"
   ]
  },
  {
   "cell_type": "code",
   "execution_count": 184,
   "id": "d0d19aef",
   "metadata": {},
   "outputs": [
    {
     "name": "stdout",
     "output_type": "stream",
     "text": [
      "\n",
      "Regression statistics\n",
      "\n",
      "               Mean Error (ME) : -0.0005\n",
      "Root Mean Squared Error (RMSE) : 0.0446\n",
      "     Mean Absolute Error (MAE) : 0.0040\n"
     ]
    }
   ],
   "source": [
    "regressionSummary(valid_y, best_model.predict(valid_X[best_variables]))"
   ]
  },
  {
   "cell_type": "code",
   "execution_count": 185,
   "id": "f6ce0963",
   "metadata": {},
   "outputs": [
    {
     "name": "stdout",
     "output_type": "stream",
     "text": [
      "Variables: CustomerId, CreditScore, Age, Tenure, Balance, NumOfProducts, HasCrCard, IsActiveMember, EstimatedSalary, Complain, Satisfaction Score, Point Earned, Geography_Germany, Geography_Spain, Gender_Male, Card Type_GOLD, Card Type_PLATINUM, Card Type_SILVER\n",
      "Start: score=8131.74, constant\n",
      "Step: score=-30793.14, add Complain\n",
      "Step: score=-30799.18, add Age\n",
      "Step: score=-30800.46, add IsActiveMember\n",
      "Step: score=-30801.71, add Point Earned\n",
      "Step: score=-30802.35, add Satisfaction Score\n",
      "Step: score=-30802.55, add Card Type_SILVER\n",
      "Step: score=-30802.55, add None\n",
      "['Complain', 'Age', 'IsActiveMember', 'Point Earned', 'Satisfaction Score', 'Card Type_SILVER']\n"
     ]
    }
   ],
   "source": [
    "# Using Forward selection \n",
    "\n",
    "#The initial model is the constant model - this requires special handling in train_model and score_model\n",
    "def train_model(variables):\n",
    "    if len(variables) == 0:\n",
    "        return None\n",
    "    model = LinearRegression()\n",
    "    model.fit(train_X[variables], train_y)\n",
    "    return model\n",
    "\n",
    "def score_model(model, variables):\n",
    "    if len(variables) == 0:\n",
    "        return AIC_score(train_y, [train_y.mean()] * len(train_y), model, df=1)\n",
    "    return AIC_score(train_y, model.predict(train_X[variables]), model)\n",
    "\n",
    "best_model, best_variables = forward_selection(train_X.columns, train_model, score_model, verbose=True)\n",
    "\n",
    "print(best_variables)"
   ]
  },
  {
   "cell_type": "code",
   "execution_count": 186,
   "id": "c1c099e8",
   "metadata": {},
   "outputs": [
    {
     "name": "stdout",
     "output_type": "stream",
     "text": [
      "\n",
      "Regression statistics\n",
      "\n",
      "               Mean Error (ME) : -0.0005\n",
      "Root Mean Squared Error (RMSE) : 0.0446\n",
      "     Mean Absolute Error (MAE) : 0.0040\n"
     ]
    }
   ],
   "source": [
    "regressionSummary(valid_y, best_model.predict(valid_X[best_variables]))"
   ]
  },
  {
   "cell_type": "code",
   "execution_count": 187,
   "id": "a190a3d4",
   "metadata": {},
   "outputs": [
    {
     "name": "stdout",
     "output_type": "stream",
     "text": [
      "Variables: CustomerId, CreditScore, Age, Tenure, Balance, NumOfProducts, HasCrCard, IsActiveMember, EstimatedSalary, Complain, Satisfaction Score, Point Earned, Geography_Germany, Geography_Spain, Gender_Male, Card Type_GOLD, Card Type_PLATINUM, Card Type_SILVER\n",
      "Start: score=8131.74, constant\n",
      "Step: score=-30793.14, add Complain\n",
      "Step: score=-30799.18, add Age\n",
      "Step: score=-30800.46, add IsActiveMember\n",
      "Step: score=-30801.71, add Point Earned\n",
      "Step: score=-30802.35, add Satisfaction Score\n",
      "Step: score=-30802.55, add Card Type_SILVER\n",
      "Step: score=-30802.55, unchanged None\n",
      "['Complain', 'Age', 'IsActiveMember', 'Point Earned', 'Satisfaction Score', 'Card Type_SILVER']\n"
     ]
    }
   ],
   "source": [
    "# Using Stepwise selection\n",
    "best_model, best_variables = stepwise_selection(train_X.columns, train_model, score_model, verbose=True)\n",
    "\n",
    "print(best_variables)"
   ]
  },
  {
   "cell_type": "code",
   "execution_count": 188,
   "id": "a7da5857",
   "metadata": {},
   "outputs": [
    {
     "name": "stdout",
     "output_type": "stream",
     "text": [
      "\n",
      "Regression statistics\n",
      "\n",
      "               Mean Error (ME) : -0.0005\n",
      "Root Mean Squared Error (RMSE) : 0.0446\n",
      "     Mean Absolute Error (MAE) : 0.0040\n"
     ]
    }
   ],
   "source": [
    "regressionSummary(valid_y, best_model.predict(valid_X[best_variables]))"
   ]
  },
  {
   "cell_type": "markdown",
   "id": "0b19bc99",
   "metadata": {},
   "source": [
    "The best features for the model are Complain, Age, IsActiveMember, Point Earned, Satisfaction Score and Card Type_SILVER."
   ]
  },
  {
   "cell_type": "code",
   "execution_count": 189,
   "id": "7f1096af",
   "metadata": {},
   "outputs": [
    {
     "data": {
      "text/plain": [
       "['Complain',\n",
       " 'Age',\n",
       " 'IsActiveMember',\n",
       " 'Point Earned',\n",
       " 'Satisfaction Score',\n",
       " 'Card Type']"
      ]
     },
     "execution_count": 189,
     "metadata": {},
     "output_type": "execute_result"
    }
   ],
   "source": [
    "selected_features = ['Complain', 'Age', 'IsActiveMember', 'Point Earned', 'Satisfaction Score', 'Card Type']\n",
    "selected_features"
   ]
  },
  {
   "cell_type": "code",
   "execution_count": 190,
   "id": "b167ea7b",
   "metadata": {},
   "outputs": [
    {
     "data": {
      "text/html": [
       "<div>\n",
       "<style scoped>\n",
       "    .dataframe tbody tr th:only-of-type {\n",
       "        vertical-align: middle;\n",
       "    }\n",
       "\n",
       "    .dataframe tbody tr th {\n",
       "        vertical-align: top;\n",
       "    }\n",
       "\n",
       "    .dataframe thead th {\n",
       "        text-align: right;\n",
       "    }\n",
       "</style>\n",
       "<table border=\"1\" class=\"dataframe\">\n",
       "  <thead>\n",
       "    <tr style=\"text-align: right;\">\n",
       "      <th></th>\n",
       "      <th>CustomerId</th>\n",
       "      <th>CreditScore</th>\n",
       "      <th>Age</th>\n",
       "      <th>Tenure</th>\n",
       "      <th>Balance</th>\n",
       "      <th>NumOfProducts</th>\n",
       "      <th>HasCrCard</th>\n",
       "      <th>IsActiveMember</th>\n",
       "      <th>EstimatedSalary</th>\n",
       "      <th>Complain</th>\n",
       "      <th>Satisfaction Score</th>\n",
       "      <th>Point Earned</th>\n",
       "      <th>Geography_Germany</th>\n",
       "      <th>Geography_Spain</th>\n",
       "      <th>Gender_Male</th>\n",
       "      <th>Card Type_GOLD</th>\n",
       "      <th>Card Type_PLATINUM</th>\n",
       "      <th>Card Type_SILVER</th>\n",
       "    </tr>\n",
       "  </thead>\n",
       "  <tbody>\n",
       "    <tr>\n",
       "      <th>0</th>\n",
       "      <td>15634602</td>\n",
       "      <td>-0.326221</td>\n",
       "      <td>0.293517</td>\n",
       "      <td>-1.041760</td>\n",
       "      <td>-1.225848</td>\n",
       "      <td>-0.911583</td>\n",
       "      <td>0.646092</td>\n",
       "      <td>0.970243</td>\n",
       "      <td>0.021886</td>\n",
       "      <td>1.972908</td>\n",
       "      <td>-0.721130</td>\n",
       "      <td>-0.630839</td>\n",
       "      <td>False</td>\n",
       "      <td>False</td>\n",
       "      <td>False</td>\n",
       "      <td>False</td>\n",
       "      <td>False</td>\n",
       "      <td>False</td>\n",
       "    </tr>\n",
       "    <tr>\n",
       "      <th>1</th>\n",
       "      <td>15647311</td>\n",
       "      <td>-0.440036</td>\n",
       "      <td>0.198164</td>\n",
       "      <td>-1.387538</td>\n",
       "      <td>0.117350</td>\n",
       "      <td>-0.911583</td>\n",
       "      <td>-1.547768</td>\n",
       "      <td>0.970243</td>\n",
       "      <td>0.216534</td>\n",
       "      <td>1.972908</td>\n",
       "      <td>-0.009816</td>\n",
       "      <td>-0.666251</td>\n",
       "      <td>False</td>\n",
       "      <td>True</td>\n",
       "      <td>False</td>\n",
       "      <td>False</td>\n",
       "      <td>False</td>\n",
       "      <td>False</td>\n",
       "    </tr>\n",
       "    <tr>\n",
       "      <th>2</th>\n",
       "      <td>15619304</td>\n",
       "      <td>-1.536794</td>\n",
       "      <td>0.293517</td>\n",
       "      <td>1.032908</td>\n",
       "      <td>1.333053</td>\n",
       "      <td>2.527057</td>\n",
       "      <td>0.646092</td>\n",
       "      <td>-1.030670</td>\n",
       "      <td>0.240687</td>\n",
       "      <td>1.972908</td>\n",
       "      <td>-0.009816</td>\n",
       "      <td>-1.015942</td>\n",
       "      <td>False</td>\n",
       "      <td>False</td>\n",
       "      <td>False</td>\n",
       "      <td>False</td>\n",
       "      <td>False</td>\n",
       "      <td>False</td>\n",
       "    </tr>\n",
       "    <tr>\n",
       "      <th>3</th>\n",
       "      <td>15701354</td>\n",
       "      <td>0.501521</td>\n",
       "      <td>0.007457</td>\n",
       "      <td>-1.387538</td>\n",
       "      <td>-1.225848</td>\n",
       "      <td>0.807737</td>\n",
       "      <td>-1.547768</td>\n",
       "      <td>-1.030670</td>\n",
       "      <td>-0.108918</td>\n",
       "      <td>-0.506866</td>\n",
       "      <td>1.412812</td>\n",
       "      <td>-1.135457</td>\n",
       "      <td>False</td>\n",
       "      <td>False</td>\n",
       "      <td>False</td>\n",
       "      <td>True</td>\n",
       "      <td>False</td>\n",
       "      <td>False</td>\n",
       "    </tr>\n",
       "    <tr>\n",
       "      <th>4</th>\n",
       "      <td>15737888</td>\n",
       "      <td>2.063884</td>\n",
       "      <td>0.388871</td>\n",
       "      <td>-1.041760</td>\n",
       "      <td>0.785728</td>\n",
       "      <td>-0.911583</td>\n",
       "      <td>0.646092</td>\n",
       "      <td>0.970243</td>\n",
       "      <td>-0.365276</td>\n",
       "      <td>-0.506866</td>\n",
       "      <td>1.412812</td>\n",
       "      <td>-0.803472</td>\n",
       "      <td>False</td>\n",
       "      <td>True</td>\n",
       "      <td>False</td>\n",
       "      <td>True</td>\n",
       "      <td>False</td>\n",
       "      <td>False</td>\n",
       "    </tr>\n",
       "    <tr>\n",
       "      <th>...</th>\n",
       "      <td>...</td>\n",
       "      <td>...</td>\n",
       "      <td>...</td>\n",
       "      <td>...</td>\n",
       "      <td>...</td>\n",
       "      <td>...</td>\n",
       "      <td>...</td>\n",
       "      <td>...</td>\n",
       "      <td>...</td>\n",
       "      <td>...</td>\n",
       "      <td>...</td>\n",
       "      <td>...</td>\n",
       "      <td>...</td>\n",
       "      <td>...</td>\n",
       "      <td>...</td>\n",
       "      <td>...</td>\n",
       "      <td>...</td>\n",
       "      <td>...</td>\n",
       "    </tr>\n",
       "    <tr>\n",
       "      <th>9995</th>\n",
       "      <td>15606229</td>\n",
       "      <td>1.246488</td>\n",
       "      <td>0.007457</td>\n",
       "      <td>-0.004426</td>\n",
       "      <td>-1.225848</td>\n",
       "      <td>0.807737</td>\n",
       "      <td>0.646092</td>\n",
       "      <td>-1.030670</td>\n",
       "      <td>-0.066419</td>\n",
       "      <td>-0.506866</td>\n",
       "      <td>-1.432445</td>\n",
       "      <td>-1.356781</td>\n",
       "      <td>False</td>\n",
       "      <td>False</td>\n",
       "      <td>True</td>\n",
       "      <td>False</td>\n",
       "      <td>False</td>\n",
       "      <td>False</td>\n",
       "    </tr>\n",
       "    <tr>\n",
       "      <th>9996</th>\n",
       "      <td>15569892</td>\n",
       "      <td>-1.391939</td>\n",
       "      <td>-0.373958</td>\n",
       "      <td>1.724464</td>\n",
       "      <td>-0.306379</td>\n",
       "      <td>-0.911583</td>\n",
       "      <td>0.646092</td>\n",
       "      <td>0.970243</td>\n",
       "      <td>0.027988</td>\n",
       "      <td>-0.506866</td>\n",
       "      <td>1.412812</td>\n",
       "      <td>0.728088</td>\n",
       "      <td>False</td>\n",
       "      <td>False</td>\n",
       "      <td>True</td>\n",
       "      <td>False</td>\n",
       "      <td>True</td>\n",
       "      <td>False</td>\n",
       "    </tr>\n",
       "    <tr>\n",
       "      <th>9997</th>\n",
       "      <td>15584532</td>\n",
       "      <td>0.604988</td>\n",
       "      <td>-0.278604</td>\n",
       "      <td>0.687130</td>\n",
       "      <td>-1.225848</td>\n",
       "      <td>-0.911583</td>\n",
       "      <td>-1.547768</td>\n",
       "      <td>0.970243</td>\n",
       "      <td>-1.008643</td>\n",
       "      <td>1.972908</td>\n",
       "      <td>-0.009816</td>\n",
       "      <td>-0.188192</td>\n",
       "      <td>False</td>\n",
       "      <td>False</td>\n",
       "      <td>False</td>\n",
       "      <td>False</td>\n",
       "      <td>False</td>\n",
       "      <td>True</td>\n",
       "    </tr>\n",
       "    <tr>\n",
       "      <th>9998</th>\n",
       "      <td>15682355</td>\n",
       "      <td>1.256835</td>\n",
       "      <td>0.293517</td>\n",
       "      <td>-0.695982</td>\n",
       "      <td>-0.022608</td>\n",
       "      <td>0.807737</td>\n",
       "      <td>0.646092</td>\n",
       "      <td>-1.030670</td>\n",
       "      <td>-0.125231</td>\n",
       "      <td>1.972908</td>\n",
       "      <td>-0.721130</td>\n",
       "      <td>-1.184148</td>\n",
       "      <td>True</td>\n",
       "      <td>False</td>\n",
       "      <td>True</td>\n",
       "      <td>True</td>\n",
       "      <td>False</td>\n",
       "      <td>False</td>\n",
       "    </tr>\n",
       "    <tr>\n",
       "      <th>9999</th>\n",
       "      <td>15628319</td>\n",
       "      <td>1.463771</td>\n",
       "      <td>-1.041433</td>\n",
       "      <td>-0.350204</td>\n",
       "      <td>0.859965</td>\n",
       "      <td>-0.911583</td>\n",
       "      <td>0.646092</td>\n",
       "      <td>-1.030670</td>\n",
       "      <td>-1.076370</td>\n",
       "      <td>-0.506866</td>\n",
       "      <td>-0.009816</td>\n",
       "      <td>1.347794</td>\n",
       "      <td>False</td>\n",
       "      <td>False</td>\n",
       "      <td>False</td>\n",
       "      <td>False</td>\n",
       "      <td>False</td>\n",
       "      <td>False</td>\n",
       "    </tr>\n",
       "  </tbody>\n",
       "</table>\n",
       "<p>10000 rows × 18 columns</p>\n",
       "</div>"
      ],
      "text/plain": [
       "      CustomerId  CreditScore       Age    Tenure   Balance  NumOfProducts  \\\n",
       "0       15634602    -0.326221  0.293517 -1.041760 -1.225848      -0.911583   \n",
       "1       15647311    -0.440036  0.198164 -1.387538  0.117350      -0.911583   \n",
       "2       15619304    -1.536794  0.293517  1.032908  1.333053       2.527057   \n",
       "3       15701354     0.501521  0.007457 -1.387538 -1.225848       0.807737   \n",
       "4       15737888     2.063884  0.388871 -1.041760  0.785728      -0.911583   \n",
       "...          ...          ...       ...       ...       ...            ...   \n",
       "9995    15606229     1.246488  0.007457 -0.004426 -1.225848       0.807737   \n",
       "9996    15569892    -1.391939 -0.373958  1.724464 -0.306379      -0.911583   \n",
       "9997    15584532     0.604988 -0.278604  0.687130 -1.225848      -0.911583   \n",
       "9998    15682355     1.256835  0.293517 -0.695982 -0.022608       0.807737   \n",
       "9999    15628319     1.463771 -1.041433 -0.350204  0.859965      -0.911583   \n",
       "\n",
       "      HasCrCard  IsActiveMember  EstimatedSalary  Complain  \\\n",
       "0      0.646092        0.970243         0.021886  1.972908   \n",
       "1     -1.547768        0.970243         0.216534  1.972908   \n",
       "2      0.646092       -1.030670         0.240687  1.972908   \n",
       "3     -1.547768       -1.030670        -0.108918 -0.506866   \n",
       "4      0.646092        0.970243        -0.365276 -0.506866   \n",
       "...         ...             ...              ...       ...   \n",
       "9995   0.646092       -1.030670        -0.066419 -0.506866   \n",
       "9996   0.646092        0.970243         0.027988 -0.506866   \n",
       "9997  -1.547768        0.970243        -1.008643  1.972908   \n",
       "9998   0.646092       -1.030670        -0.125231  1.972908   \n",
       "9999   0.646092       -1.030670        -1.076370 -0.506866   \n",
       "\n",
       "      Satisfaction Score  Point Earned  Geography_Germany  Geography_Spain  \\\n",
       "0              -0.721130     -0.630839              False            False   \n",
       "1              -0.009816     -0.666251              False             True   \n",
       "2              -0.009816     -1.015942              False            False   \n",
       "3               1.412812     -1.135457              False            False   \n",
       "4               1.412812     -0.803472              False             True   \n",
       "...                  ...           ...                ...              ...   \n",
       "9995           -1.432445     -1.356781              False            False   \n",
       "9996            1.412812      0.728088              False            False   \n",
       "9997           -0.009816     -0.188192              False            False   \n",
       "9998           -0.721130     -1.184148               True            False   \n",
       "9999           -0.009816      1.347794              False            False   \n",
       "\n",
       "      Gender_Male  Card Type_GOLD  Card Type_PLATINUM  Card Type_SILVER  \n",
       "0           False           False               False             False  \n",
       "1           False           False               False             False  \n",
       "2           False           False               False             False  \n",
       "3           False            True               False             False  \n",
       "4           False            True               False             False  \n",
       "...           ...             ...                 ...               ...  \n",
       "9995         True           False               False             False  \n",
       "9996         True           False                True             False  \n",
       "9997        False           False               False              True  \n",
       "9998         True            True               False             False  \n",
       "9999        False           False               False             False  \n",
       "\n",
       "[10000 rows x 18 columns]"
      ]
     },
     "execution_count": 190,
     "metadata": {},
     "output_type": "execute_result"
    }
   ],
   "source": [
    "X"
   ]
  },
  {
   "cell_type": "code",
   "execution_count": 191,
   "id": "2c287091",
   "metadata": {},
   "outputs": [
    {
     "data": {
      "text/html": [
       "<div>\n",
       "<style scoped>\n",
       "    .dataframe tbody tr th:only-of-type {\n",
       "        vertical-align: middle;\n",
       "    }\n",
       "\n",
       "    .dataframe tbody tr th {\n",
       "        vertical-align: top;\n",
       "    }\n",
       "\n",
       "    .dataframe thead th {\n",
       "        text-align: right;\n",
       "    }\n",
       "</style>\n",
       "<table border=\"1\" class=\"dataframe\">\n",
       "  <thead>\n",
       "    <tr style=\"text-align: right;\">\n",
       "      <th></th>\n",
       "      <th>CustomerId</th>\n",
       "      <th>CreditScore</th>\n",
       "      <th>Age</th>\n",
       "      <th>Tenure</th>\n",
       "      <th>Balance</th>\n",
       "      <th>NumOfProducts</th>\n",
       "      <th>HasCrCard</th>\n",
       "      <th>IsActiveMember</th>\n",
       "      <th>EstimatedSalary</th>\n",
       "      <th>Complain</th>\n",
       "      <th>Satisfaction Score</th>\n",
       "      <th>Point Earned</th>\n",
       "      <th>Geography_Germany</th>\n",
       "      <th>Geography_Spain</th>\n",
       "      <th>Gender_Male</th>\n",
       "      <th>Card Type_GOLD</th>\n",
       "      <th>Card Type_PLATINUM</th>\n",
       "      <th>Card Type_SILVER</th>\n",
       "    </tr>\n",
       "  </thead>\n",
       "  <tbody>\n",
       "    <tr>\n",
       "      <th>2694</th>\n",
       "      <td>15721585</td>\n",
       "      <td>-0.233100</td>\n",
       "      <td>-0.946079</td>\n",
       "      <td>-0.695982</td>\n",
       "      <td>0.587571</td>\n",
       "      <td>0.807737</td>\n",
       "      <td>-1.547768</td>\n",
       "      <td>0.970243</td>\n",
       "      <td>0.428793</td>\n",
       "      <td>-0.506866</td>\n",
       "      <td>-0.721130</td>\n",
       "      <td>-1.117751</td>\n",
       "      <td>True</td>\n",
       "      <td>False</td>\n",
       "      <td>True</td>\n",
       "      <td>False</td>\n",
       "      <td>True</td>\n",
       "      <td>False</td>\n",
       "    </tr>\n",
       "    <tr>\n",
       "      <th>5140</th>\n",
       "      <td>15617790</td>\n",
       "      <td>-0.253794</td>\n",
       "      <td>-0.946079</td>\n",
       "      <td>-0.350204</td>\n",
       "      <td>0.469296</td>\n",
       "      <td>0.807737</td>\n",
       "      <td>-1.547768</td>\n",
       "      <td>-1.030670</td>\n",
       "      <td>-1.025698</td>\n",
       "      <td>-0.506866</td>\n",
       "      <td>-1.432445</td>\n",
       "      <td>1.024661</td>\n",
       "      <td>False</td>\n",
       "      <td>False</td>\n",
       "      <td>False</td>\n",
       "      <td>False</td>\n",
       "      <td>True</td>\n",
       "      <td>False</td>\n",
       "    </tr>\n",
       "    <tr>\n",
       "      <th>2568</th>\n",
       "      <td>15775905</td>\n",
       "      <td>-0.398649</td>\n",
       "      <td>0.770285</td>\n",
       "      <td>0.341352</td>\n",
       "      <td>0.858075</td>\n",
       "      <td>-0.911583</td>\n",
       "      <td>0.646092</td>\n",
       "      <td>0.970243</td>\n",
       "      <td>-0.944919</td>\n",
       "      <td>1.972908</td>\n",
       "      <td>0.701498</td>\n",
       "      <td>0.435941</td>\n",
       "      <td>True</td>\n",
       "      <td>False</td>\n",
       "      <td>False</td>\n",
       "      <td>False</td>\n",
       "      <td>True</td>\n",
       "      <td>False</td>\n",
       "    </tr>\n",
       "    <tr>\n",
       "      <th>3671</th>\n",
       "      <td>15616666</td>\n",
       "      <td>-0.046858</td>\n",
       "      <td>1.247053</td>\n",
       "      <td>0.341352</td>\n",
       "      <td>0.565012</td>\n",
       "      <td>0.807737</td>\n",
       "      <td>-1.547768</td>\n",
       "      <td>0.970243</td>\n",
       "      <td>-0.551632</td>\n",
       "      <td>-0.506866</td>\n",
       "      <td>-1.432445</td>\n",
       "      <td>-1.648928</td>\n",
       "      <td>True</td>\n",
       "      <td>False</td>\n",
       "      <td>False</td>\n",
       "      <td>False</td>\n",
       "      <td>False</td>\n",
       "      <td>False</td>\n",
       "    </tr>\n",
       "    <tr>\n",
       "      <th>7427</th>\n",
       "      <td>15664720</td>\n",
       "      <td>0.656722</td>\n",
       "      <td>-0.564665</td>\n",
       "      <td>1.032908</td>\n",
       "      <td>0.729735</td>\n",
       "      <td>-0.911583</td>\n",
       "      <td>-1.547768</td>\n",
       "      <td>-1.030670</td>\n",
       "      <td>1.085507</td>\n",
       "      <td>-0.506866</td>\n",
       "      <td>1.412812</td>\n",
       "      <td>-0.453780</td>\n",
       "      <td>False</td>\n",
       "      <td>True</td>\n",
       "      <td>True</td>\n",
       "      <td>False</td>\n",
       "      <td>False</td>\n",
       "      <td>False</td>\n",
       "    </tr>\n",
       "    <tr>\n",
       "      <th>...</th>\n",
       "      <td>...</td>\n",
       "      <td>...</td>\n",
       "      <td>...</td>\n",
       "      <td>...</td>\n",
       "      <td>...</td>\n",
       "      <td>...</td>\n",
       "      <td>...</td>\n",
       "      <td>...</td>\n",
       "      <td>...</td>\n",
       "      <td>...</td>\n",
       "      <td>...</td>\n",
       "      <td>...</td>\n",
       "      <td>...</td>\n",
       "      <td>...</td>\n",
       "      <td>...</td>\n",
       "      <td>...</td>\n",
       "      <td>...</td>\n",
       "      <td>...</td>\n",
       "    </tr>\n",
       "    <tr>\n",
       "      <th>2895</th>\n",
       "      <td>15646859</td>\n",
       "      <td>-0.305528</td>\n",
       "      <td>0.770285</td>\n",
       "      <td>0.687130</td>\n",
       "      <td>0.494875</td>\n",
       "      <td>-0.911583</td>\n",
       "      <td>0.646092</td>\n",
       "      <td>0.970243</td>\n",
       "      <td>-0.578897</td>\n",
       "      <td>-0.506866</td>\n",
       "      <td>1.412812</td>\n",
       "      <td>0.860882</td>\n",
       "      <td>True</td>\n",
       "      <td>False</td>\n",
       "      <td>True</td>\n",
       "      <td>False</td>\n",
       "      <td>False</td>\n",
       "      <td>False</td>\n",
       "    </tr>\n",
       "    <tr>\n",
       "      <th>7813</th>\n",
       "      <td>15592751</td>\n",
       "      <td>0.346319</td>\n",
       "      <td>2.295943</td>\n",
       "      <td>-0.695982</td>\n",
       "      <td>0.076287</td>\n",
       "      <td>-0.911583</td>\n",
       "      <td>0.646092</td>\n",
       "      <td>-1.030670</td>\n",
       "      <td>-0.529442</td>\n",
       "      <td>1.972908</td>\n",
       "      <td>-0.721130</td>\n",
       "      <td>1.166309</td>\n",
       "      <td>True</td>\n",
       "      <td>False</td>\n",
       "      <td>False</td>\n",
       "      <td>False</td>\n",
       "      <td>True</td>\n",
       "      <td>False</td>\n",
       "    </tr>\n",
       "    <tr>\n",
       "      <th>905</th>\n",
       "      <td>15675964</td>\n",
       "      <td>0.222158</td>\n",
       "      <td>0.579578</td>\n",
       "      <td>1.378686</td>\n",
       "      <td>-1.225848</td>\n",
       "      <td>-0.911583</td>\n",
       "      <td>0.646092</td>\n",
       "      <td>0.970243</td>\n",
       "      <td>-0.140200</td>\n",
       "      <td>1.972908</td>\n",
       "      <td>-1.432445</td>\n",
       "      <td>-0.927413</td>\n",
       "      <td>False</td>\n",
       "      <td>False</td>\n",
       "      <td>False</td>\n",
       "      <td>False</td>\n",
       "      <td>True</td>\n",
       "      <td>False</td>\n",
       "    </tr>\n",
       "    <tr>\n",
       "      <th>5192</th>\n",
       "      <td>15607884</td>\n",
       "      <td>0.129037</td>\n",
       "      <td>0.007457</td>\n",
       "      <td>1.032908</td>\n",
       "      <td>-1.225848</td>\n",
       "      <td>0.807737</td>\n",
       "      <td>0.646092</td>\n",
       "      <td>0.970243</td>\n",
       "      <td>0.018757</td>\n",
       "      <td>-0.506866</td>\n",
       "      <td>1.412812</td>\n",
       "      <td>-0.714942</td>\n",
       "      <td>False</td>\n",
       "      <td>False</td>\n",
       "      <td>False</td>\n",
       "      <td>False</td>\n",
       "      <td>False</td>\n",
       "      <td>True</td>\n",
       "    </tr>\n",
       "    <tr>\n",
       "      <th>235</th>\n",
       "      <td>15772896</td>\n",
       "      <td>1.163714</td>\n",
       "      <td>0.293517</td>\n",
       "      <td>0.341352</td>\n",
       "      <td>0.379440</td>\n",
       "      <td>-0.911583</td>\n",
       "      <td>0.646092</td>\n",
       "      <td>-1.030670</td>\n",
       "      <td>-1.158582</td>\n",
       "      <td>1.972908</td>\n",
       "      <td>-0.009816</td>\n",
       "      <td>0.453647</td>\n",
       "      <td>True</td>\n",
       "      <td>False</td>\n",
       "      <td>True</td>\n",
       "      <td>True</td>\n",
       "      <td>False</td>\n",
       "      <td>False</td>\n",
       "    </tr>\n",
       "  </tbody>\n",
       "</table>\n",
       "<p>8000 rows × 18 columns</p>\n",
       "</div>"
      ],
      "text/plain": [
       "      CustomerId  CreditScore       Age    Tenure   Balance  NumOfProducts  \\\n",
       "2694    15721585    -0.233100 -0.946079 -0.695982  0.587571       0.807737   \n",
       "5140    15617790    -0.253794 -0.946079 -0.350204  0.469296       0.807737   \n",
       "2568    15775905    -0.398649  0.770285  0.341352  0.858075      -0.911583   \n",
       "3671    15616666    -0.046858  1.247053  0.341352  0.565012       0.807737   \n",
       "7427    15664720     0.656722 -0.564665  1.032908  0.729735      -0.911583   \n",
       "...          ...          ...       ...       ...       ...            ...   \n",
       "2895    15646859    -0.305528  0.770285  0.687130  0.494875      -0.911583   \n",
       "7813    15592751     0.346319  2.295943 -0.695982  0.076287      -0.911583   \n",
       "905     15675964     0.222158  0.579578  1.378686 -1.225848      -0.911583   \n",
       "5192    15607884     0.129037  0.007457  1.032908 -1.225848       0.807737   \n",
       "235     15772896     1.163714  0.293517  0.341352  0.379440      -0.911583   \n",
       "\n",
       "      HasCrCard  IsActiveMember  EstimatedSalary  Complain  \\\n",
       "2694  -1.547768        0.970243         0.428793 -0.506866   \n",
       "5140  -1.547768       -1.030670        -1.025698 -0.506866   \n",
       "2568   0.646092        0.970243        -0.944919  1.972908   \n",
       "3671  -1.547768        0.970243        -0.551632 -0.506866   \n",
       "7427  -1.547768       -1.030670         1.085507 -0.506866   \n",
       "...         ...             ...              ...       ...   \n",
       "2895   0.646092        0.970243        -0.578897 -0.506866   \n",
       "7813   0.646092       -1.030670        -0.529442  1.972908   \n",
       "905    0.646092        0.970243        -0.140200  1.972908   \n",
       "5192   0.646092        0.970243         0.018757 -0.506866   \n",
       "235    0.646092       -1.030670        -1.158582  1.972908   \n",
       "\n",
       "      Satisfaction Score  Point Earned  Geography_Germany  Geography_Spain  \\\n",
       "2694           -0.721130     -1.117751               True            False   \n",
       "5140           -1.432445      1.024661              False            False   \n",
       "2568            0.701498      0.435941               True            False   \n",
       "3671           -1.432445     -1.648928               True            False   \n",
       "7427            1.412812     -0.453780              False             True   \n",
       "...                  ...           ...                ...              ...   \n",
       "2895            1.412812      0.860882               True            False   \n",
       "7813           -0.721130      1.166309               True            False   \n",
       "905            -1.432445     -0.927413              False            False   \n",
       "5192            1.412812     -0.714942              False            False   \n",
       "235            -0.009816      0.453647               True            False   \n",
       "\n",
       "      Gender_Male  Card Type_GOLD  Card Type_PLATINUM  Card Type_SILVER  \n",
       "2694         True           False                True             False  \n",
       "5140        False           False                True             False  \n",
       "2568        False           False                True             False  \n",
       "3671        False           False               False             False  \n",
       "7427         True           False               False             False  \n",
       "...           ...             ...                 ...               ...  \n",
       "2895         True           False               False             False  \n",
       "7813        False           False                True             False  \n",
       "905         False           False                True             False  \n",
       "5192        False           False               False              True  \n",
       "235          True            True               False             False  \n",
       "\n",
       "[8000 rows x 18 columns]"
      ]
     },
     "execution_count": 191,
     "metadata": {},
     "output_type": "execute_result"
    }
   ],
   "source": [
    "train_X"
   ]
  },
  {
   "cell_type": "markdown",
   "id": "e63008c3",
   "metadata": {},
   "source": [
    "#### Selecting the best model"
   ]
  },
  {
   "cell_type": "code",
   "execution_count": 192,
   "id": "11a26240",
   "metadata": {},
   "outputs": [
    {
     "name": "stdout",
     "output_type": "stream",
     "text": [
      "Training Logistic Regression...\n",
      "\n",
      "              precision    recall  f1-score   support\n",
      "\n",
      "           0       0.79      1.00      0.88      1585\n",
      "           1       0.00      0.00      0.00       415\n",
      "\n",
      "    accuracy                           0.79      2000\n",
      "   macro avg       0.40      0.50      0.44      2000\n",
      "weighted avg       0.63      0.79      0.70      2000\n",
      "\n",
      "Logistic Regression Accuracy: 0.7925\n",
      "\n",
      "Training Decision Tree...\n",
      "\n",
      "              precision    recall  f1-score   support\n",
      "\n",
      "           0       1.00      1.00      1.00      1585\n",
      "           1       0.99      0.99      0.99       415\n",
      "\n",
      "    accuracy                           1.00      2000\n",
      "   macro avg       1.00      1.00      1.00      2000\n",
      "weighted avg       1.00      1.00      1.00      2000\n",
      "\n",
      "Decision Tree Accuracy: 0.9970\n",
      "\n",
      "Training Random Forest...\n",
      "\n",
      "              precision    recall  f1-score   support\n",
      "\n",
      "           0       1.00      1.00      1.00      1585\n",
      "           1       0.99      1.00      1.00       415\n",
      "\n",
      "    accuracy                           1.00      2000\n",
      "   macro avg       1.00      1.00      1.00      2000\n",
      "weighted avg       1.00      1.00      1.00      2000\n",
      "\n",
      "Random Forest Accuracy: 0.9980\n",
      "\n",
      "Training Support Vector Machine...\n",
      "\n",
      "              precision    recall  f1-score   support\n",
      "\n",
      "           0       0.79      1.00      0.88      1585\n",
      "           1       0.00      0.00      0.00       415\n",
      "\n",
      "    accuracy                           0.79      2000\n",
      "   macro avg       0.40      0.50      0.44      2000\n",
      "weighted avg       0.63      0.79      0.70      2000\n",
      "\n",
      "Support Vector Machine Accuracy: 0.7925\n",
      "\n",
      "Training Neural Network...\n",
      "\n",
      "              precision    recall  f1-score   support\n",
      "\n",
      "           0       0.79      1.00      0.88      1585\n",
      "           1       0.00      0.00      0.00       415\n",
      "\n",
      "    accuracy                           0.79      2000\n",
      "   macro avg       0.40      0.50      0.44      2000\n",
      "weighted avg       0.63      0.79      0.70      2000\n",
      "\n",
      "Neural Network Accuracy: 0.7925\n",
      "\n"
     ]
    }
   ],
   "source": [
    "from sklearn.linear_model import LogisticRegression\n",
    "from sklearn.tree import DecisionTreeClassifier\n",
    "from sklearn.ensemble import RandomForestClassifier\n",
    "from sklearn.svm import SVC\n",
    "from sklearn.neural_network import MLPClassifier\n",
    "from sklearn.metrics import accuracy_score, classification_report\n",
    "from sklearn.preprocessing import StandardScaler\n",
    "import warnings\n",
    "\n",
    "# Suppress warnings\n",
    "warnings.filterwarnings(\"ignore\")\n",
    "\n",
    "# Initializing models\n",
    "models = {\n",
    "    'Logistic Regression': LogisticRegression(),\n",
    "    'Decision Tree': DecisionTreeClassifier(),\n",
    "    'Random Forest': RandomForestClassifier(),\n",
    "    'Support Vector Machine': SVC(),\n",
    "    'Neural Network': MLPClassifier(max_iter=1000)\n",
    "}\n",
    "\n",
    "# Evaluating models\n",
    "for name, model in models.items():\n",
    "    print(f\"Training {name}...\")\n",
    "    \n",
    "    if name != 'Neural Network':\n",
    "        model.fit(train_X, train_y)\n",
    "    else:\n",
    "        model.fit(train_X, train_y)\n",
    "    \n",
    "    pred_y = model.predict(valid_X if name != 'Neural Network' else valid_X)\n",
    "    \n",
    "    print(f\"\\n{classification_report(valid_y, pred_y)}\")\n",
    "    print(f\"{name} Accuracy: {accuracy_score(valid_y, pred_y):.4f}\\n\")"
   ]
  },
  {
   "cell_type": "markdown",
   "id": "c03d1d4a",
   "metadata": {},
   "source": [
    "Hence, the Random Forest Classifier model is selected as it has the highest accuracy score of 99.8%."
   ]
  },
  {
   "cell_type": "markdown",
   "id": "e39405fd",
   "metadata": {},
   "source": [
    "#### Training the model and performing hyperparameter tuning"
   ]
  },
  {
   "cell_type": "code",
   "execution_count": 193,
   "id": "1fece6e6",
   "metadata": {},
   "outputs": [
    {
     "name": "stdout",
     "output_type": "stream",
     "text": [
      "Fitting 5 folds for each of 108 candidates, totalling 540 fits\n",
      "Evaluation on the test set:\n",
      "Accuracy: 0.9980\n",
      "Precision: 0.9928\n",
      "Recall: 0.9976\n",
      "F1-score: 0.9952\n",
      "\n",
      "Best Hyperparameters:\n",
      "{'max_depth': None, 'min_samples_leaf': 1, 'min_samples_split': 2, 'n_estimators': 50}\n"
     ]
    }
   ],
   "source": [
    "from sklearn.model_selection import GridSearchCV\n",
    "from sklearn.metrics import accuracy_score, precision_score, recall_score, f1_score\n",
    "from sklearn.metrics import make_scorer, roc_auc_score, roc_curve, auc, precision_recall_curve\n",
    "\n",
    "\n",
    "# Defining the Random Forest model\n",
    "rf_model = RandomForestClassifier(random_state=42)\n",
    "\n",
    "# Defining the hyperparameter grid\n",
    "param_grid = {\n",
    "    'n_estimators': [50, 100, 200],\n",
    "    'max_depth': [None, 10, 20, 30],\n",
    "    'min_samples_split': [2, 5, 10],\n",
    "    'min_samples_leaf': [1, 2, 4]\n",
    "}\n",
    "\n",
    "# Performing GridSearchCV for hyperparameter tuning\n",
    "grid_search = GridSearchCV(rf_model, param_grid, cv=5, scoring='accuracy', verbose=1, n_jobs=-1)\n",
    "grid_search.fit(train_X, train_y)\n",
    "\n",
    "# Getting the best parameters and training the final model\n",
    "best_params = grid_search.best_params_\n",
    "final_rf_model = RandomForestClassifier(**best_params, random_state=42)\n",
    "final_rf_model.fit(train_X, train_y)\n",
    "\n",
    "# Making predictions on the test set\n",
    "pred_y_rf = final_rf_model.predict(valid_X)\n",
    "\n",
    "# Evaluating the final Random Forest model on the test set\n",
    "print(\"Evaluation on the test set:\")\n",
    "print(f'Accuracy: {accuracy_score(valid_y, pred_y_rf):.4f}')\n",
    "print(f'Precision: {precision_score(valid_y, pred_y_rf):.4f}')\n",
    "print(f'Recall: {recall_score(valid_y, pred_y_rf):.4f}')\n",
    "print(f'F1-score: {f1_score(valid_y, pred_y_rf):.4f}')\n",
    "\n",
    "print(\"\\nBest Hyperparameters:\")\n",
    "print(best_params)\n",
    "\n",
    "\n",
    "\n",
    "scoring = {\n",
    "    'accuracy': make_scorer(accuracy_score),\n",
    "    'precision': make_scorer(precision_score),\n",
    "    'recall': make_scorer(recall_score),\n",
    "    'f1': make_scorer(f1_score),\n",
    "}"
   ]
  },
  {
   "cell_type": "markdown",
   "id": "0821414a",
   "metadata": {},
   "source": [
    "The hyperparameter tuning did not make any difference to the performance of the model. Hence, the grid search best estimator can be selected as the final model. This model is efficient as the accuracy is 99.8%, precision is 99.3% and F1-score is 99.5%"
   ]
  },
  {
   "cell_type": "code",
   "execution_count": 194,
   "id": "f4c789bf",
   "metadata": {},
   "outputs": [
    {
     "name": "stdout",
     "output_type": "stream",
     "text": [
      "[[1582    3]\n",
      " [   1  414]]\n"
     ]
    },
    {
     "data": {
      "image/png": "[encoded data removed]",
      "text/plain": [
       "<Figure size 640x480 with 2 Axes>"
      ]
     },
     "metadata": {},
     "output_type": "display_data"
    }
   ],
   "source": [
    "from sklearn.metrics import confusion_matrix\n",
    "cm = confusion_matrix(valid_y, pred_y_rf)\n",
    "sns.heatmap(cm, annot=True)\n",
    "print(cm)"
   ]
  },
  {
   "cell_type": "code",
   "execution_count": 195,
   "id": "7cf92666",
   "metadata": {},
   "outputs": [
    {
     "data": {
      "text/html": [
       "<style>#sk-container-id-3 {color: black;}#sk-container-id-3 pre{padding: 0;}#sk-container-id-3 div.sk-toggleable {background-color: white;}#sk-container-id-3 label.sk-toggleable__label {cursor: pointer;display: block;width: 100%;margin-bottom: 0;padding: 0.3em;box-sizing: border-box;text-align: center;}#sk-container-id-3 label.sk-toggleable__label-arrow:before {content: \"▸\";float: left;margin-right: 0.25em;color: #696969;}#sk-container-id-3 label.sk-toggleable__label-arrow:hover:before {color: black;}#sk-container-id-3 div.sk-estimator:hover label.sk-toggleable__label-arrow:before {color: black;}#sk-container-id-3 div.sk-toggleable__content {max-height: 0;max-width: 0;overflow: hidden;text-align: left;background-color: #f0f8ff;}#sk-container-id-3 div.sk-toggleable__content pre {margin: 0.2em;color: black;border-radius: 0.25em;background-color: #f0f8ff;}#sk-container-id-3 input.sk-toggleable__control:checked~div.sk-toggleable__content {max-height: 200px;max-width: 100%;overflow: auto;}#sk-container-id-3 input.sk-toggleable__control:checked~label.sk-toggleable__label-arrow:before {content: \"▾\";}#sk-container-id-3 div.sk-estimator input.sk-toggleable__control:checked~label.sk-toggleable__label {background-color: #d4ebff;}#sk-container-id-3 div.sk-label input.sk-toggleable__control:checked~label.sk-toggleable__label {background-color: #d4ebff;}#sk-container-id-3 input.sk-hidden--visually {border: 0;clip: rect(1px 1px 1px 1px);clip: rect(1px, 1px, 1px, 1px);height: 1px;margin: -1px;overflow: hidden;padding: 0;position: absolute;width: 1px;}#sk-container-id-3 div.sk-estimator {font-family: monospace;background-color: #f0f8ff;border: 1px dotted black;border-radius: 0.25em;box-sizing: border-box;margin-bottom: 0.5em;}#sk-container-id-3 div.sk-estimator:hover {background-color: #d4ebff;}#sk-container-id-3 div.sk-parallel-item::after {content: \"\";width: 100%;border-bottom: 1px solid gray;flex-grow: 1;}#sk-container-id-3 div.sk-label:hover label.sk-toggleable__label {background-color: #d4ebff;}#sk-container-id-3 div.sk-serial::before {content: \"\";position: absolute;border-left: 1px solid gray;box-sizing: border-box;top: 0;bottom: 0;left: 50%;z-index: 0;}#sk-container-id-3 div.sk-serial {display: flex;flex-direction: column;align-items: center;background-color: white;padding-right: 0.2em;padding-left: 0.2em;position: relative;}#sk-container-id-3 div.sk-item {position: relative;z-index: 1;}#sk-container-id-3 div.sk-parallel {display: flex;align-items: stretch;justify-content: center;background-color: white;position: relative;}#sk-container-id-3 div.sk-item::before, #sk-container-id-3 div.sk-parallel-item::before {content: \"\";position: absolute;border-left: 1px solid gray;box-sizing: border-box;top: 0;bottom: 0;left: 50%;z-index: -1;}#sk-container-id-3 div.sk-parallel-item {display: flex;flex-direction: column;z-index: 1;position: relative;background-color: white;}#sk-container-id-3 div.sk-parallel-item:first-child::after {align-self: flex-end;width: 50%;}#sk-container-id-3 div.sk-parallel-item:last-child::after {align-self: flex-start;width: 50%;}#sk-container-id-3 div.sk-parallel-item:only-child::after {width: 0;}#sk-container-id-3 div.sk-dashed-wrapped {border: 1px dashed gray;margin: 0 0.4em 0.5em 0.4em;box-sizing: border-box;padding-bottom: 0.4em;background-color: white;}#sk-container-id-3 div.sk-label label {font-family: monospace;font-weight: bold;display: inline-block;line-height: 1.2em;}#sk-container-id-3 div.sk-label-container {text-align: center;}#sk-container-id-3 div.sk-container {/* jupyter's `normalize.less` sets `[hidden] { display: none; }` but bootstrap.min.css set `[hidden] { display: none !important; }` so we also need the `!important` here to be able to override the default hidden behavior on the sphinx rendered scikit-learn.org. See: https://github.com/scikit-learn/scikit-learn/issues/21755 */display: inline-block !important;position: relative;}#sk-container-id-3 div.sk-text-repr-fallback {display: none;}</style><div id=\"sk-container-id-3\" class=\"sk-top-container\"><div class=\"sk-text-repr-fallback\"><pre>RandomForestClassifier(n_estimators=50, random_state=42)</pre><b>In a Jupyter environment, please rerun this cell to show the HTML representation or trust the notebook. <br />On GitHub, the HTML representation is unable to render, please try loading this page with nbviewer.org.</b></div><div class=\"sk-container\" hidden><div class=\"sk-item\"><div class=\"sk-estimator sk-toggleable\"><input class=\"sk-toggleable__control sk-hidden--visually\" id=\"sk-estimator-id-3\" type=\"checkbox\" checked><label for=\"sk-estimator-id-3\" class=\"sk-toggleable__label sk-toggleable__label-arrow\">RandomForestClassifier</label><div class=\"sk-toggleable__content\"><pre>RandomForestClassifier(n_estimators=50, random_state=42)</pre></div></div></div></div></div>"
      ],
      "text/plain": [
       "RandomForestClassifier(n_estimators=50, random_state=42)"
      ]
     },
     "execution_count": 195,
     "metadata": {},
     "output_type": "execute_result"
    }
   ],
   "source": [
    "# Selecting the final model\n",
    "final_rf_model.fit(X, y)"
   ]
  },
  {
   "cell_type": "markdown",
   "id": "b29343c8",
   "metadata": {},
   "source": [
    "## Recommendations for the Bank:\n",
    "\n",
    "* **Focus on retaining female customers:** Determine the factors contributing to the escalated churn rate observed among female customers, and devise effective solutions and customized marketing strategies to cater to their specific requirements.\n",
    "* **Strengthen communication and informational programs:** Implement supplementary communication channels and educational initiatives aimed at enhancing customer knowledge regarding the comprehensive range of products and services provided. By fostering transparency and building trust, the bank can nurture customer loyalty and encourage retention.\n",
    "* **Modify the marketing strategy and/or benefits of the products:** Optimize marketing strategies and strategically modify product benefits to effectively attract and engage the intended target customer segment.\n",
    "* **Offer personalized financial plans that target the 40-65+ age group:** People in this age group have reached the peak of their financial goals and are nearing retirement. Hence, to retain this specific age group, it would be advantageous to offer personalized financial solutions such as investment plans, retirement planning techniques, etc. to help them accomplish their specific goals.\n",
    "* **Improve customer satisfaction:** Establish a systematic approach of conducting regular feedback surveys to discern and promptly address customer issues and concerns. By proactively attending to their feedback, it is possible to mitigate churn rate and improve overall customer retention.\n",
    "\n",
    "Implementing these strategies can improve customer satisfaction, bank and customer relationships and ultimtely customer retention."
   ]
  }
 ],
 "metadata": {
  "kernelspec": {
   "display_name": "Python 3 (ipykernel)",
   "language": "python",
   "name": "python3"
  },
  "language_info": {
   "codemirror_mode": {
    "name": "ipython",
    "version": 3
   },
   "file_extension": ".py",
   "mimetype": "text/x-python",
   "name": "python",
   "nbconvert_exporter": "python",
   "pygments_lexer": "ipython3",
   "version": "3.11.4"
  }
 },
 "nbformat": 4,
 "nbformat_minor": 5
}
